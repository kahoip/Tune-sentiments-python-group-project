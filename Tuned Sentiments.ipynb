{
 "cells": [
  {
   "cell_type": "markdown",
   "metadata": {},
   "source": [
    "# Tuned Sentiments"
   ]
  },
  {
   "cell_type": "markdown",
   "metadata": {},
   "source": [
    "## API Call, Web Scraping and Cleaning"
   ]
  },
  {
   "cell_type": "markdown",
   "metadata": {},
   "source": [
    "#### Details except the lyrics, is collected for the top 100 songs for each year from 2000 to 2019. \n",
    "#### Musixmatch's track.search API is used to accomplish this. Using the url obtained from this API, webpage is scraped for the lyrics of each track. "
   ]
  },
  {
   "cell_type": "code",
   "execution_count": 2,
   "metadata": {},
   "outputs": [],
   "source": [
    "import requests\n",
    "import pandas as pd\n",
    "import numpy as np\n",
    "import random\n",
    "import re\n",
    "import itertools\n",
    "from bs4 import BeautifulSoup\n",
    "import time\n",
    "from IPython.display import clear_output\n",
    "import cfscrape\n",
    "import nltk\n",
    "from nltk.corpus import stopwords\n",
    "from nltk.stem import WordNetLemmatizer\n",
    "from gensim.corpora.dictionary import Dictionary\n",
    "import matplotlib.pyplot as plt\n",
    "import plotly.graph_objects as go\n",
    "from scipy import signal\n",
    "from wordcloud import WordCloud\n",
    "from statsmodels.tsa.stattools import adfuller\n",
    "from statsmodels.tsa.arima_model import ARIMA\n",
    "from statsmodels.tsa.stattools import acf, pacf\n",
    "from PIL import Image\n",
    "import statsmodels.api as sm\n",
    "import warnings\n",
    "import datetime as dt\n",
    "\n",
    "# Remove all warnings\n",
    "warnings.filterwarnings('ignore')\n",
    "\n",
    "# Define the local filepath\n",
    "filepath = \"C:/Users/Avinav/UMD/Sem 1/BUDT758X-0502 Data Processing and Analysis in Python/Project/\"\n",
    "\n",
    "# Fetches data given a particular API and its parameters\n",
    "def get_data(api, params = {}):\n",
    "    base_url = \"https://api.musixmatch.com/ws/1.1/\"\n",
    "    # Add the API relative path to the sites base URL\n",
    "    url = base_url + api\n",
    "    # Add authentication key in the parameters\n",
    "    params[\"apikey\"] = \"b3a9c0d85325a49c7a10d5bd1f646fed\"\n",
    "    # Make the API call and convert the response into JSON format\n",
    "    request_object = requests.get(url = url, params = params)\n",
    "    return request_object.json()"
   ]
  },
  {
   "cell_type": "code",
   "execution_count": 3,
   "metadata": {},
   "outputs": [],
   "source": [
    "scraper = cfscrape.create_scraper()\n",
    "\n",
    "# This function returns all the details of the top 100 songs for a given year, in the form of a dataframe\n",
    "def get_track_details(year):\n",
    "    # Set the starting and ending date for that year\n",
    "    min_date = str(year) + '0101'\n",
    "    max_date = str(year) + '3112'\n",
    "    track_params = {\n",
    "      \"f_track_release_group_first_release_date_min\": min_date,\n",
    "      \"f_track_release_group_first_release_date_max\": max_date,\n",
    "      \"s_track_rating\": \"desc\",\n",
    "      \"page_size\": 100\n",
    "    }\n",
    "    # Get json data for top 100 tracks of 2019\n",
    "    tracks_json = get_data(\"track.search\", track_params)\n",
    "    # Extract the list of tracks details from this json\n",
    "    tracks_json_list = tracks_json[\"message\"][\"body\"][\"track_list\"]\n",
    "    #tracks_json_list = tracks_json_list[]\n",
    "    tracks_list = []\n",
    "\n",
    "    # Extract relevant data from the tracks lists and append it to a new list\n",
    "    for index, track in enumerate(tracks_json_list):\n",
    "        # Initialize a variable which will store the lyrics of the track\n",
    "        lyrics = \"\"\n",
    "\n",
    "        clear_output(wait=True)\n",
    "        print(\"Please wait. Fetching year- \" + str(year) + \" track-\", index + 1)\n",
    "\n",
    "        # Scrape lyrics from each of the track url\n",
    "        track_url = track[\"track\"][\"track_share_url\"]\n",
    "        #print(track_url)\n",
    "        #track_page = requests.get(track_url, headers)\n",
    "        track_page = scraper.get(track_url)\n",
    "        track_page_soup = BeautifulSoup(track_page.text, 'html.parser')\n",
    "        #print(track_page)\n",
    "        #print(track_page_soup)\n",
    "        # Check if the page contains buttons to transalte the lyrics to english\n",
    "        eng_button = track_page_soup.find_all(name='i', class_='en-us-flag')\n",
    "\n",
    "        # If the page contains a button for translating the lyrics, scrape from a new page\n",
    "        if len(eng_button) > 0:\n",
    "            # Wait half a second to avoid being blocked as a scrapper\n",
    "            #time.sleep(0.5)\n",
    "\n",
    "            # Scrape lyrics from english translated page\n",
    "            track_url_parts = track_url.split(\"?\")\n",
    "            track_url = track_url_parts[0] + '/translation/english?' + track_url_parts[1]\n",
    "            #print(track_url)\n",
    "            #track_page = requests.get(track_url, headers)\n",
    "            track_page = scraper.get(track_url)\n",
    "            track_page_soup = BeautifulSoup(track_page.text, 'html.parser')\n",
    "            #print(track_page_soup)\n",
    "            # Find all the divs containing the class \"mxm-translatable-line-readonly\"\n",
    "            lyrics_container = track_page_soup.find_all(name='div', class_='mxm-translatable-line-readonly')\n",
    "\n",
    "            # From each of these divs, get the lyrics line and append it to the \"lyrics\" variable\n",
    "            for container in lyrics_container:\n",
    "                container_txt = container.find_all(name='div', class_='col-xs-6')[1].text\n",
    "                lyrics = lyrics + \" \" + container_txt.lower()\n",
    "        else:\n",
    "            # Find all the p tags containing the class \"lyrics__content__ok\"\n",
    "            lyrics_container = track_page_soup.find_all(name='p', class_='mxm-lyrics__content')\n",
    "            # From each of the spans, extract the lyrics and append it to the \"lyrics\" variable\n",
    "            for container in lyrics_container:\n",
    "                lyrics = lyrics + \" \" + container.text.lower()\n",
    "\n",
    "        # Wait half a second to avoid being blocked as a scrapper\n",
    "        #time.sleep(0.5)\n",
    "        \n",
    "        # Find out the track genre, if no genre then include it as \"Pop\"\n",
    "        genre_list = track[\"track\"][\"primary_genres\"][\"music_genre_list\"]\n",
    "        genre = \"Pop\"\n",
    "        if len(genre_list) > 0:\n",
    "            genre = genre_list[-1][\"music_genre\"][\"music_genre_name\"]\n",
    "\n",
    "        # Append a dictionary of track details along with the lyrics to the initialized list\n",
    "        tracks_list.append({\n",
    "            \"track_id\": track[\"track\"][\"track_id\"],\n",
    "            \"track_name\": track[\"track\"][\"track_name\"],\n",
    "            \"track_rating\": track[\"track\"][\"track_rating\"],\n",
    "            \"track_url\": track_url,\n",
    "            \"lyrics\": lyrics,\n",
    "            \"genre\": genre,\n",
    "            \"artist_name\": track[\"track\"][\"artist_name\"],\n",
    "            \"artist_id\": track[\"track\"][\"artist_id\"],\n",
    "            \"album_name\": track[\"track\"][\"album_name\"],\n",
    "            \"album_id\": track[\"track\"][\"album_id\"]\n",
    "        })\n",
    "\n",
    "    # Clear the last output\n",
    "    clear_output()\n",
    "\n",
    "    # Create a dataframe of the tracks details\n",
    "    tracks_df = pd.DataFrame(tracks_list, columns = [\n",
    "        \"track_id\", \n",
    "        \"track_name\", \n",
    "        \"track_rating\",\n",
    "        \"track_url\",\n",
    "        \"lyrics\",\n",
    "        \"genre\",\n",
    "        \"artist_name\",\n",
    "        \"artist_id\",\n",
    "        \"album_name\",\n",
    "        \"album_id\"\n",
    "    ])\n",
    "\n",
    "    # Remove the new line characters from the lyrics\n",
    "    tracks_df[\"lyrics\"] = tracks_df[\"lyrics\"].str.replace(\"\\n\", \" \")\n",
    "\n",
    "    # Remove numbers and undesirable special characters from the lyrics\n",
    "    regex = re.compile('[0-9*\".\\/()]')\n",
    "    tracks_df[\"lyrics\"] = tracks_df[\"lyrics\"].map(lambda lyrics: regex.sub('', lyrics))\n",
    "\n",
    "    # Convert \"Music\" genre to \"Pop\", as suggested by the musixmatch site\n",
    "    tracks_df[\"genre\"] = tracks_df[\"genre\"].replace(\"Music\", \"Pop\")\n",
    "\n",
    "    return tracks_df"
   ]
  },
  {
   "cell_type": "markdown",
   "metadata": {},
   "source": [
    "#### All the track details, including the lyrics, is stored locally in csv files by year, after cleaning the data."
   ]
  },
  {
   "cell_type": "code",
   "execution_count": null,
   "metadata": {},
   "outputs": [],
   "source": [
    "# Fetch top 100 track details for years 2000 to 2019 and store them in different CSV files\n",
    "for year in range(2000, 2020):\n",
    "    df = get_track_details(year)\n",
    "    filename = filepath + 'lyrics_' + str(year) + '.csv'\n",
    "    # Use \"|\" to seperate the values of each record and store as csv\n",
    "    df.to_csv(filename, sep=\"|\")"
   ]
  },
  {
   "cell_type": "markdown",
   "metadata": {},
   "source": [
    "## Cleaning, Word Processing and Sentiment Analysis"
   ]
  },
  {
   "cell_type": "markdown",
   "metadata": {},
   "source": [
    "#### Data is further cleaned and processed to get meaningful and usable words for sentiment analysis. Sentiment analysis is based on the standard of NRC emotion lexicon library to associate sentiment to each word."
   ]
  },
  {
   "cell_type": "code",
   "execution_count": 4,
   "metadata": {},
   "outputs": [
    {
     "data": {
      "text/html": [
       "<div>\n",
       "<style scoped>\n",
       "    .dataframe tbody tr th:only-of-type {\n",
       "        vertical-align: middle;\n",
       "    }\n",
       "\n",
       "    .dataframe tbody tr th {\n",
       "        vertical-align: top;\n",
       "    }\n",
       "\n",
       "    .dataframe thead th {\n",
       "        text-align: right;\n",
       "    }\n",
       "</style>\n",
       "<table border=\"1\" class=\"dataframe\">\n",
       "  <thead>\n",
       "    <tr style=\"text-align: right;\">\n",
       "      <th></th>\n",
       "      <th>word</th>\n",
       "      <th>emotion</th>\n",
       "      <th>flag</th>\n",
       "    </tr>\n",
       "  </thead>\n",
       "  <tbody>\n",
       "    <tr>\n",
       "      <th>0</th>\n",
       "      <td>aback</td>\n",
       "      <td>anger</td>\n",
       "      <td>0</td>\n",
       "    </tr>\n",
       "    <tr>\n",
       "      <th>1</th>\n",
       "      <td>aback</td>\n",
       "      <td>anticipation</td>\n",
       "      <td>0</td>\n",
       "    </tr>\n",
       "    <tr>\n",
       "      <th>2</th>\n",
       "      <td>aback</td>\n",
       "      <td>disgust</td>\n",
       "      <td>0</td>\n",
       "    </tr>\n",
       "    <tr>\n",
       "      <th>3</th>\n",
       "      <td>aback</td>\n",
       "      <td>fear</td>\n",
       "      <td>0</td>\n",
       "    </tr>\n",
       "    <tr>\n",
       "      <th>4</th>\n",
       "      <td>aback</td>\n",
       "      <td>joy</td>\n",
       "      <td>0</td>\n",
       "    </tr>\n",
       "  </tbody>\n",
       "</table>\n",
       "</div>"
      ],
      "text/plain": [
       "    word       emotion  flag\n",
       "0  aback         anger     0\n",
       "1  aback  anticipation     0\n",
       "2  aback       disgust     0\n",
       "3  aback          fear     0\n",
       "4  aback           joy     0"
      ]
     },
     "execution_count": 4,
     "metadata": {},
     "output_type": "execute_result"
    }
   ],
   "source": [
    "# Create the Lemmatizataion object\n",
    "lmtzr = WordNetLemmatizer()\n",
    "\n",
    "# Get the NRC lexicon data\n",
    "emolex_filename = filepath + \"NRC-Emotion-Lexicon-Wordlevel-v0.92.txt\"\n",
    "emolex_df = pd.read_csv(emolex_filename, names=[\"word\", \"emotion\", \"flag\"], sep=\"\\t\")\n",
    "emolex_df.head()"
   ]
  },
  {
   "cell_type": "code",
   "execution_count": 5,
   "metadata": {},
   "outputs": [],
   "source": [
    "# This function returns all the words of all the lyrics of a particular year's dataframe\n",
    "# after processing the words and filtering out non-sentimental words\n",
    "def get_processed_words(df):\n",
    "    # Remove numbers and undesirable special characters from the lyrics\n",
    "    regex = re.compile('[0-9*\".\\/()|,]')\n",
    "    df[\"lyrics\"] = df[\"lyrics\"].map(lambda lyrics: regex.sub('', lyrics))\n",
    "\n",
    "    # Remove all the lyrics which do not have an english translation\n",
    "    df.lyrics = df.lyrics.str.replace('[^a-z\\' ]', '')\n",
    "\n",
    "    # Initialize a list to store all the words in lyrics for the current year\n",
    "    cy_word_tokens = []\n",
    "\n",
    "    for index, row in df.iterrows():\n",
    "        lyrics = row[\"lyrics\"]\n",
    "        words_list = lyrics.split()\n",
    "\n",
    "        # Remove all the stop words\n",
    "        words_list = [word for word in words_list if word not in stopwords.words('english')]\n",
    "\n",
    "        # Lemmatizataion\n",
    "        words_list = [lmtzr.lemmatize(word) for word in words_list]\n",
    "\n",
    "        # Remove duplicate words from each lyrics\n",
    "        words_list = list(set(words_list))\n",
    "\n",
    "        # Append these words to the list of all the words for current year\n",
    "        cy_word_tokens.extend(words_list)\n",
    "\n",
    "    # Remove the non-senitmental words from the current year word list\n",
    "    unique_emolex = emolex_df.word.unique()\n",
    "    cy_word_tokens = [word for word in cy_word_tokens if word in unique_emolex]\n",
    "    \n",
    "    return cy_word_tokens"
   ]
  },
  {
   "cell_type": "code",
   "execution_count": 6,
   "metadata": {},
   "outputs": [
    {
     "data": {
      "text/plain": [
       "20"
      ]
     },
     "execution_count": 6,
     "metadata": {},
     "output_type": "execute_result"
    }
   ],
   "source": [
    "# Initialize a list to store the processed words for each year\n",
    "pw_by_year = []\n",
    "\n",
    "# Initialize an empty list to store all the dataframes read from the csv files\n",
    "dfs = []\n",
    "\n",
    "# Read the csv files created for processing\n",
    "for year in range(2000, 2020):\n",
    "    clear_output(wait=True)\n",
    "    print(\"Please wait. Processing words for year \" + str(year))\n",
    "    \n",
    "    input_file = filepath + \"Scraped/lyrics_\" + str(year) + \".csv\"\n",
    "    df = pd.read_csv(input_file, sep=\"|\")\n",
    "    \n",
    "    # Drop the first column of default indices\n",
    "    df = df.drop(columns = [\"Unnamed: 0\"])\n",
    "    # Convert data types of object columns to string\n",
    "    df[['track_name',\n",
    "        'track_url',\n",
    "        'lyrics',\n",
    "        'genre',\n",
    "        'artist_name',\n",
    "        'album_name']] = df[['track_name', 'track_url', 'lyrics', 'genre', 'artist_name', 'album_name']].astype(str)\n",
    "    dfs.append(df)\n",
    "    pw_by_year.append(get_processed_words(df))\n",
    "    \n",
    "clear_output(wait=True)\n",
    "len(pw_by_year)"
   ]
  },
  {
   "cell_type": "code",
   "execution_count": 7,
   "metadata": {},
   "outputs": [
    {
     "data": {
      "text/html": [
       "<div>\n",
       "<style scoped>\n",
       "    .dataframe tbody tr th:only-of-type {\n",
       "        vertical-align: middle;\n",
       "    }\n",
       "\n",
       "    .dataframe tbody tr th {\n",
       "        vertical-align: top;\n",
       "    }\n",
       "\n",
       "    .dataframe thead th {\n",
       "        text-align: right;\n",
       "    }\n",
       "</style>\n",
       "<table border=\"1\" class=\"dataframe\">\n",
       "  <thead>\n",
       "    <tr style=\"text-align: right;\">\n",
       "      <th></th>\n",
       "      <th>track_id</th>\n",
       "      <th>track_name</th>\n",
       "      <th>track_rating</th>\n",
       "      <th>track_url</th>\n",
       "      <th>lyrics</th>\n",
       "      <th>genre</th>\n",
       "      <th>artist_name</th>\n",
       "      <th>artist_id</th>\n",
       "      <th>album_name</th>\n",
       "      <th>album_id</th>\n",
       "    </tr>\n",
       "  </thead>\n",
       "  <tbody>\n",
       "    <tr>\n",
       "      <th>0</th>\n",
       "      <td>39682680</td>\n",
       "      <td>My Body</td>\n",
       "      <td>91</td>\n",
       "      <td>https://www.musixmatch.com/lyrics/Young-the-Gi...</td>\n",
       "      <td>stop the train is ridin down to the station w...</td>\n",
       "      <td>Alternative</td>\n",
       "      <td>Young the Giant</td>\n",
       "      <td>13127264</td>\n",
       "      <td>Young the Giant</td>\n",
       "      <td>13127279</td>\n",
       "    </tr>\n",
       "    <tr>\n",
       "      <th>1</th>\n",
       "      <td>73437257</td>\n",
       "      <td>Just the Way You Are</td>\n",
       "      <td>89</td>\n",
       "      <td>https://www.musixmatch.com/lyrics/Bruno-Mars/J...</td>\n",
       "      <td>oh her eyes her eyes make the stars look like...</td>\n",
       "      <td>Contemporary R&amp;B</td>\n",
       "      <td>Bruno Mars</td>\n",
       "      <td>33492237</td>\n",
       "      <td>Doo-Wops &amp; Hooligans</td>\n",
       "      <td>19648717</td>\n",
       "    </tr>\n",
       "    <tr>\n",
       "      <th>2</th>\n",
       "      <td>18470707</td>\n",
       "      <td>Rolling in the Deep</td>\n",
       "      <td>89</td>\n",
       "      <td>https://www.musixmatch.com/lyrics/Adele-3/Roll...</td>\n",
       "      <td>there's a fire starting in my heart reaching ...</td>\n",
       "      <td>Pop</td>\n",
       "      <td>Adele</td>\n",
       "      <td>346898</td>\n",
       "      <td>21</td>\n",
       "      <td>13853441</td>\n",
       "    </tr>\n",
       "    <tr>\n",
       "      <th>3</th>\n",
       "      <td>12964664</td>\n",
       "      <td>Christmas Lights</td>\n",
       "      <td>89</td>\n",
       "      <td>https://www.musixmatch.com/lyrics/Coldplay/Chr...</td>\n",
       "      <td>christmas night another fight tears we cried ...</td>\n",
       "      <td>Pop</td>\n",
       "      <td>Coldplay</td>\n",
       "      <td>1039</td>\n",
       "      <td>Christmas Lights</td>\n",
       "      <td>12964814</td>\n",
       "    </tr>\n",
       "    <tr>\n",
       "      <th>4</th>\n",
       "      <td>17099576</td>\n",
       "      <td>Pumped Up Kicks</td>\n",
       "      <td>87</td>\n",
       "      <td>https://www.musixmatch.com/lyrics/Foster-the-P...</td>\n",
       "      <td>robert's got a quick hand he'll look around t...</td>\n",
       "      <td>Alternative</td>\n",
       "      <td>Foster the People</td>\n",
       "      <td>11225398</td>\n",
       "      <td>Torches</td>\n",
       "      <td>13869728</td>\n",
       "    </tr>\n",
       "  </tbody>\n",
       "</table>\n",
       "</div>"
      ],
      "text/plain": [
       "   track_id            track_name  track_rating  \\\n",
       "0  39682680               My Body            91   \n",
       "1  73437257  Just the Way You Are            89   \n",
       "2  18470707   Rolling in the Deep            89   \n",
       "3  12964664      Christmas Lights            89   \n",
       "4  17099576       Pumped Up Kicks            87   \n",
       "\n",
       "                                           track_url  \\\n",
       "0  https://www.musixmatch.com/lyrics/Young-the-Gi...   \n",
       "1  https://www.musixmatch.com/lyrics/Bruno-Mars/J...   \n",
       "2  https://www.musixmatch.com/lyrics/Adele-3/Roll...   \n",
       "3  https://www.musixmatch.com/lyrics/Coldplay/Chr...   \n",
       "4  https://www.musixmatch.com/lyrics/Foster-the-P...   \n",
       "\n",
       "                                              lyrics             genre  \\\n",
       "0   stop the train is ridin down to the station w...       Alternative   \n",
       "1   oh her eyes her eyes make the stars look like...  Contemporary R&B   \n",
       "2   there's a fire starting in my heart reaching ...               Pop   \n",
       "3   christmas night another fight tears we cried ...               Pop   \n",
       "4   robert's got a quick hand he'll look around t...       Alternative   \n",
       "\n",
       "         artist_name  artist_id            album_name  album_id  \n",
       "0    Young the Giant   13127264       Young the Giant  13127279  \n",
       "1         Bruno Mars   33492237  Doo-Wops & Hooligans  19648717  \n",
       "2              Adele     346898                    21  13853441  \n",
       "3           Coldplay       1039      Christmas Lights  12964814  \n",
       "4  Foster the People   11225398               Torches  13869728  "
      ]
     },
     "execution_count": 7,
     "metadata": {},
     "output_type": "execute_result"
    }
   ],
   "source": [
    "# Sample dataframe for the year 2010\n",
    "dfs[10].head()"
   ]
  },
  {
   "cell_type": "code",
   "execution_count": 8,
   "metadata": {
    "scrolled": true
   },
   "outputs": [],
   "source": [
    "# Pivot the NRC dataframe to get a dataframe of unique words\n",
    "emolex_words = emolex_df.pivot(index='word', columns='emotion', values='flag').reset_index()\n",
    "\n",
    "# This function returns a datframe of words containing their \n",
    "# associated sentiments and emotions as columns\n",
    "def get_emolex_words(words):\n",
    "    # Initialize an empty list to store dataframes of emolex words\n",
    "    emolex_df_list = []\n",
    "\n",
    "    # Get dataframes of those words which were used in lyrics of 2019 songs\n",
    "    for word in words:\n",
    "        emolex_df_list.append(emolex_words[emolex_words[\"word\"] == word])\n",
    "\n",
    "    return pd.concat(emolex_df_list)"
   ]
  },
  {
   "cell_type": "code",
   "execution_count": 9,
   "metadata": {},
   "outputs": [
    {
     "data": {
      "text/html": [
       "<div>\n",
       "<style scoped>\n",
       "    .dataframe tbody tr th:only-of-type {\n",
       "        vertical-align: middle;\n",
       "    }\n",
       "\n",
       "    .dataframe tbody tr th {\n",
       "        vertical-align: top;\n",
       "    }\n",
       "\n",
       "    .dataframe thead th {\n",
       "        text-align: right;\n",
       "    }\n",
       "</style>\n",
       "<table border=\"1\" class=\"dataframe\">\n",
       "  <thead>\n",
       "    <tr style=\"text-align: right;\">\n",
       "      <th>emotion</th>\n",
       "      <th>word</th>\n",
       "      <th>anger</th>\n",
       "      <th>anticipation</th>\n",
       "      <th>disgust</th>\n",
       "      <th>fear</th>\n",
       "      <th>joy</th>\n",
       "      <th>negative</th>\n",
       "      <th>positive</th>\n",
       "      <th>sadness</th>\n",
       "      <th>surprise</th>\n",
       "      <th>trust</th>\n",
       "    </tr>\n",
       "  </thead>\n",
       "  <tbody>\n",
       "    <tr>\n",
       "      <th>3184</th>\n",
       "      <td>dear</td>\n",
       "      <td>0</td>\n",
       "      <td>0</td>\n",
       "      <td>0</td>\n",
       "      <td>0</td>\n",
       "      <td>0</td>\n",
       "      <td>0</td>\n",
       "      <td>1</td>\n",
       "      <td>0</td>\n",
       "      <td>0</td>\n",
       "      <td>0</td>\n",
       "    </tr>\n",
       "    <tr>\n",
       "      <th>12713</th>\n",
       "      <td>thing</td>\n",
       "      <td>0</td>\n",
       "      <td>0</td>\n",
       "      <td>0</td>\n",
       "      <td>0</td>\n",
       "      <td>0</td>\n",
       "      <td>0</td>\n",
       "      <td>0</td>\n",
       "      <td>0</td>\n",
       "      <td>0</td>\n",
       "      <td>0</td>\n",
       "    </tr>\n",
       "    <tr>\n",
       "      <th>12179</th>\n",
       "      <td>style</td>\n",
       "      <td>0</td>\n",
       "      <td>0</td>\n",
       "      <td>0</td>\n",
       "      <td>0</td>\n",
       "      <td>0</td>\n",
       "      <td>0</td>\n",
       "      <td>0</td>\n",
       "      <td>0</td>\n",
       "      <td>0</td>\n",
       "      <td>0</td>\n",
       "    </tr>\n",
       "    <tr>\n",
       "      <th>3017</th>\n",
       "      <td>cry</td>\n",
       "      <td>0</td>\n",
       "      <td>0</td>\n",
       "      <td>0</td>\n",
       "      <td>0</td>\n",
       "      <td>0</td>\n",
       "      <td>1</td>\n",
       "      <td>0</td>\n",
       "      <td>1</td>\n",
       "      <td>0</td>\n",
       "      <td>0</td>\n",
       "    </tr>\n",
       "    <tr>\n",
       "      <th>963</th>\n",
       "      <td>ay</td>\n",
       "      <td>0</td>\n",
       "      <td>0</td>\n",
       "      <td>0</td>\n",
       "      <td>0</td>\n",
       "      <td>0</td>\n",
       "      <td>0</td>\n",
       "      <td>1</td>\n",
       "      <td>0</td>\n",
       "      <td>0</td>\n",
       "      <td>0</td>\n",
       "    </tr>\n",
       "  </tbody>\n",
       "</table>\n",
       "</div>"
      ],
      "text/plain": [
       "emotion   word  anger  anticipation  disgust  fear  joy  negative  positive  \\\n",
       "3184      dear      0             0        0     0    0         0         1   \n",
       "12713    thing      0             0        0     0    0         0         0   \n",
       "12179    style      0             0        0     0    0         0         0   \n",
       "3017       cry      0             0        0     0    0         1         0   \n",
       "963         ay      0             0        0     0    0         0         1   \n",
       "\n",
       "emotion  sadness  surprise  trust  \n",
       "3184           0         0      0  \n",
       "12713          0         0      0  \n",
       "12179          0         0      0  \n",
       "3017           1         0      0  \n",
       "963            0         0      0  "
      ]
     },
     "execution_count": 9,
     "metadata": {},
     "output_type": "execute_result"
    }
   ],
   "source": [
    "# Get the emolex words for year 2019\n",
    "emolex_2019 = get_emolex_words(pw_by_year[19])\n",
    "emolex_2019.head()"
   ]
  },
  {
   "cell_type": "code",
   "execution_count": 84,
   "metadata": {
    "scrolled": false
   },
   "outputs": [
    {
     "data": {
      "application/vnd.plotly.v1+json": {
       "config": {
        "plotlyServerURL": "https://plot.ly"
       },
       "data": [
        {
         "marker": {
          "color": [
           "rgb(86, 80, 250)",
           "rgb(252, 65, 58)",
           "rgb(0, 114, 90)",
           "rgb(248, 100, 15)",
           "rgb(246, 214, 117)",
           "rgb(142, 189, 248)",
           "rgb(255, 123, 179)",
           "rgb(0, 214, 101)",
           "rgb(255, 166, 0)",
           "rgb(0, 204, 236)"
          ]
         },
         "type": "bar",
         "x": [
          "positive",
          "negative",
          "joy",
          "trust",
          "anticipation",
          "fear",
          "sadness",
          "anger",
          "surprise",
          "disgust"
         ],
         "y": [
          19.85009046265185,
          17.989144481778236,
          12.121995347635048,
          11.760144740242957,
          11.062289997415354,
          10.674592918066685,
          10.028431119152236,
          8.96872576893254,
          6.073920909795813,
          5.065908503489274
         ]
        }
       ],
       "layout": {
        "template": {
         "data": {
          "bar": [
           {
            "error_x": {
             "color": "#2a3f5f"
            },
            "error_y": {
             "color": "#2a3f5f"
            },
            "marker": {
             "line": {
              "color": "white",
              "width": 0.5
             }
            },
            "type": "bar"
           }
          ],
          "barpolar": [
           {
            "marker": {
             "line": {
              "color": "white",
              "width": 0.5
             }
            },
            "type": "barpolar"
           }
          ],
          "carpet": [
           {
            "aaxis": {
             "endlinecolor": "#2a3f5f",
             "gridcolor": "#C8D4E3",
             "linecolor": "#C8D4E3",
             "minorgridcolor": "#C8D4E3",
             "startlinecolor": "#2a3f5f"
            },
            "baxis": {
             "endlinecolor": "#2a3f5f",
             "gridcolor": "#C8D4E3",
             "linecolor": "#C8D4E3",
             "minorgridcolor": "#C8D4E3",
             "startlinecolor": "#2a3f5f"
            },
            "type": "carpet"
           }
          ],
          "choropleth": [
           {
            "colorbar": {
             "outlinewidth": 0,
             "ticks": ""
            },
            "type": "choropleth"
           }
          ],
          "contour": [
           {
            "colorbar": {
             "outlinewidth": 0,
             "ticks": ""
            },
            "colorscale": [
             [
              0,
              "#0d0887"
             ],
             [
              0.1111111111111111,
              "#46039f"
             ],
             [
              0.2222222222222222,
              "#7201a8"
             ],
             [
              0.3333333333333333,
              "#9c179e"
             ],
             [
              0.4444444444444444,
              "#bd3786"
             ],
             [
              0.5555555555555556,
              "#d8576b"
             ],
             [
              0.6666666666666666,
              "#ed7953"
             ],
             [
              0.7777777777777778,
              "#fb9f3a"
             ],
             [
              0.8888888888888888,
              "#fdca26"
             ],
             [
              1,
              "#f0f921"
             ]
            ],
            "type": "contour"
           }
          ],
          "contourcarpet": [
           {
            "colorbar": {
             "outlinewidth": 0,
             "ticks": ""
            },
            "type": "contourcarpet"
           }
          ],
          "heatmap": [
           {
            "colorbar": {
             "outlinewidth": 0,
             "ticks": ""
            },
            "colorscale": [
             [
              0,
              "#0d0887"
             ],
             [
              0.1111111111111111,
              "#46039f"
             ],
             [
              0.2222222222222222,
              "#7201a8"
             ],
             [
              0.3333333333333333,
              "#9c179e"
             ],
             [
              0.4444444444444444,
              "#bd3786"
             ],
             [
              0.5555555555555556,
              "#d8576b"
             ],
             [
              0.6666666666666666,
              "#ed7953"
             ],
             [
              0.7777777777777778,
              "#fb9f3a"
             ],
             [
              0.8888888888888888,
              "#fdca26"
             ],
             [
              1,
              "#f0f921"
             ]
            ],
            "type": "heatmap"
           }
          ],
          "heatmapgl": [
           {
            "colorbar": {
             "outlinewidth": 0,
             "ticks": ""
            },
            "colorscale": [
             [
              0,
              "#0d0887"
             ],
             [
              0.1111111111111111,
              "#46039f"
             ],
             [
              0.2222222222222222,
              "#7201a8"
             ],
             [
              0.3333333333333333,
              "#9c179e"
             ],
             [
              0.4444444444444444,
              "#bd3786"
             ],
             [
              0.5555555555555556,
              "#d8576b"
             ],
             [
              0.6666666666666666,
              "#ed7953"
             ],
             [
              0.7777777777777778,
              "#fb9f3a"
             ],
             [
              0.8888888888888888,
              "#fdca26"
             ],
             [
              1,
              "#f0f921"
             ]
            ],
            "type": "heatmapgl"
           }
          ],
          "histogram": [
           {
            "marker": {
             "colorbar": {
              "outlinewidth": 0,
              "ticks": ""
             }
            },
            "type": "histogram"
           }
          ],
          "histogram2d": [
           {
            "colorbar": {
             "outlinewidth": 0,
             "ticks": ""
            },
            "colorscale": [
             [
              0,
              "#0d0887"
             ],
             [
              0.1111111111111111,
              "#46039f"
             ],
             [
              0.2222222222222222,
              "#7201a8"
             ],
             [
              0.3333333333333333,
              "#9c179e"
             ],
             [
              0.4444444444444444,
              "#bd3786"
             ],
             [
              0.5555555555555556,
              "#d8576b"
             ],
             [
              0.6666666666666666,
              "#ed7953"
             ],
             [
              0.7777777777777778,
              "#fb9f3a"
             ],
             [
              0.8888888888888888,
              "#fdca26"
             ],
             [
              1,
              "#f0f921"
             ]
            ],
            "type": "histogram2d"
           }
          ],
          "histogram2dcontour": [
           {
            "colorbar": {
             "outlinewidth": 0,
             "ticks": ""
            },
            "colorscale": [
             [
              0,
              "#0d0887"
             ],
             [
              0.1111111111111111,
              "#46039f"
             ],
             [
              0.2222222222222222,
              "#7201a8"
             ],
             [
              0.3333333333333333,
              "#9c179e"
             ],
             [
              0.4444444444444444,
              "#bd3786"
             ],
             [
              0.5555555555555556,
              "#d8576b"
             ],
             [
              0.6666666666666666,
              "#ed7953"
             ],
             [
              0.7777777777777778,
              "#fb9f3a"
             ],
             [
              0.8888888888888888,
              "#fdca26"
             ],
             [
              1,
              "#f0f921"
             ]
            ],
            "type": "histogram2dcontour"
           }
          ],
          "mesh3d": [
           {
            "colorbar": {
             "outlinewidth": 0,
             "ticks": ""
            },
            "type": "mesh3d"
           }
          ],
          "parcoords": [
           {
            "line": {
             "colorbar": {
              "outlinewidth": 0,
              "ticks": ""
             }
            },
            "type": "parcoords"
           }
          ],
          "pie": [
           {
            "automargin": true,
            "type": "pie"
           }
          ],
          "scatter": [
           {
            "marker": {
             "colorbar": {
              "outlinewidth": 0,
              "ticks": ""
             }
            },
            "type": "scatter"
           }
          ],
          "scatter3d": [
           {
            "line": {
             "colorbar": {
              "outlinewidth": 0,
              "ticks": ""
             }
            },
            "marker": {
             "colorbar": {
              "outlinewidth": 0,
              "ticks": ""
             }
            },
            "type": "scatter3d"
           }
          ],
          "scattercarpet": [
           {
            "marker": {
             "colorbar": {
              "outlinewidth": 0,
              "ticks": ""
             }
            },
            "type": "scattercarpet"
           }
          ],
          "scattergeo": [
           {
            "marker": {
             "colorbar": {
              "outlinewidth": 0,
              "ticks": ""
             }
            },
            "type": "scattergeo"
           }
          ],
          "scattergl": [
           {
            "marker": {
             "colorbar": {
              "outlinewidth": 0,
              "ticks": ""
             }
            },
            "type": "scattergl"
           }
          ],
          "scattermapbox": [
           {
            "marker": {
             "colorbar": {
              "outlinewidth": 0,
              "ticks": ""
             }
            },
            "type": "scattermapbox"
           }
          ],
          "scatterpolar": [
           {
            "marker": {
             "colorbar": {
              "outlinewidth": 0,
              "ticks": ""
             }
            },
            "type": "scatterpolar"
           }
          ],
          "scatterpolargl": [
           {
            "marker": {
             "colorbar": {
              "outlinewidth": 0,
              "ticks": ""
             }
            },
            "type": "scatterpolargl"
           }
          ],
          "scatterternary": [
           {
            "marker": {
             "colorbar": {
              "outlinewidth": 0,
              "ticks": ""
             }
            },
            "type": "scatterternary"
           }
          ],
          "surface": [
           {
            "colorbar": {
             "outlinewidth": 0,
             "ticks": ""
            },
            "colorscale": [
             [
              0,
              "#0d0887"
             ],
             [
              0.1111111111111111,
              "#46039f"
             ],
             [
              0.2222222222222222,
              "#7201a8"
             ],
             [
              0.3333333333333333,
              "#9c179e"
             ],
             [
              0.4444444444444444,
              "#bd3786"
             ],
             [
              0.5555555555555556,
              "#d8576b"
             ],
             [
              0.6666666666666666,
              "#ed7953"
             ],
             [
              0.7777777777777778,
              "#fb9f3a"
             ],
             [
              0.8888888888888888,
              "#fdca26"
             ],
             [
              1,
              "#f0f921"
             ]
            ],
            "type": "surface"
           }
          ],
          "table": [
           {
            "cells": {
             "fill": {
              "color": "#EBF0F8"
             },
             "line": {
              "color": "white"
             }
            },
            "header": {
             "fill": {
              "color": "#C8D4E3"
             },
             "line": {
              "color": "white"
             }
            },
            "type": "table"
           }
          ]
         },
         "layout": {
          "annotationdefaults": {
           "arrowcolor": "#2a3f5f",
           "arrowhead": 0,
           "arrowwidth": 1
          },
          "coloraxis": {
           "colorbar": {
            "outlinewidth": 0,
            "ticks": ""
           }
          },
          "colorscale": {
           "diverging": [
            [
             0,
             "#8e0152"
            ],
            [
             0.1,
             "#c51b7d"
            ],
            [
             0.2,
             "#de77ae"
            ],
            [
             0.3,
             "#f1b6da"
            ],
            [
             0.4,
             "#fde0ef"
            ],
            [
             0.5,
             "#f7f7f7"
            ],
            [
             0.6,
             "#e6f5d0"
            ],
            [
             0.7,
             "#b8e186"
            ],
            [
             0.8,
             "#7fbc41"
            ],
            [
             0.9,
             "#4d9221"
            ],
            [
             1,
             "#276419"
            ]
           ],
           "sequential": [
            [
             0,
             "#0d0887"
            ],
            [
             0.1111111111111111,
             "#46039f"
            ],
            [
             0.2222222222222222,
             "#7201a8"
            ],
            [
             0.3333333333333333,
             "#9c179e"
            ],
            [
             0.4444444444444444,
             "#bd3786"
            ],
            [
             0.5555555555555556,
             "#d8576b"
            ],
            [
             0.6666666666666666,
             "#ed7953"
            ],
            [
             0.7777777777777778,
             "#fb9f3a"
            ],
            [
             0.8888888888888888,
             "#fdca26"
            ],
            [
             1,
             "#f0f921"
            ]
           ],
           "sequentialminus": [
            [
             0,
             "#0d0887"
            ],
            [
             0.1111111111111111,
             "#46039f"
            ],
            [
             0.2222222222222222,
             "#7201a8"
            ],
            [
             0.3333333333333333,
             "#9c179e"
            ],
            [
             0.4444444444444444,
             "#bd3786"
            ],
            [
             0.5555555555555556,
             "#d8576b"
            ],
            [
             0.6666666666666666,
             "#ed7953"
            ],
            [
             0.7777777777777778,
             "#fb9f3a"
            ],
            [
             0.8888888888888888,
             "#fdca26"
            ],
            [
             1,
             "#f0f921"
            ]
           ]
          },
          "colorway": [
           "#636efa",
           "#EF553B",
           "#00cc96",
           "#ab63fa",
           "#FFA15A",
           "#19d3f3",
           "#FF6692",
           "#B6E880",
           "#FF97FF",
           "#FECB52"
          ],
          "font": {
           "color": "#2a3f5f"
          },
          "geo": {
           "bgcolor": "white",
           "lakecolor": "white",
           "landcolor": "white",
           "showlakes": true,
           "showland": true,
           "subunitcolor": "#C8D4E3"
          },
          "hoverlabel": {
           "align": "left"
          },
          "hovermode": "closest",
          "mapbox": {
           "style": "light"
          },
          "paper_bgcolor": "white",
          "plot_bgcolor": "white",
          "polar": {
           "angularaxis": {
            "gridcolor": "#EBF0F8",
            "linecolor": "#EBF0F8",
            "ticks": ""
           },
           "bgcolor": "white",
           "radialaxis": {
            "gridcolor": "#EBF0F8",
            "linecolor": "#EBF0F8",
            "ticks": ""
           }
          },
          "scene": {
           "xaxis": {
            "backgroundcolor": "white",
            "gridcolor": "#DFE8F3",
            "gridwidth": 2,
            "linecolor": "#EBF0F8",
            "showbackground": true,
            "ticks": "",
            "zerolinecolor": "#EBF0F8"
           },
           "yaxis": {
            "backgroundcolor": "white",
            "gridcolor": "#DFE8F3",
            "gridwidth": 2,
            "linecolor": "#EBF0F8",
            "showbackground": true,
            "ticks": "",
            "zerolinecolor": "#EBF0F8"
           },
           "zaxis": {
            "backgroundcolor": "white",
            "gridcolor": "#DFE8F3",
            "gridwidth": 2,
            "linecolor": "#EBF0F8",
            "showbackground": true,
            "ticks": "",
            "zerolinecolor": "#EBF0F8"
           }
          },
          "shapedefaults": {
           "line": {
            "color": "#2a3f5f"
           }
          },
          "ternary": {
           "aaxis": {
            "gridcolor": "#DFE8F3",
            "linecolor": "#A2B1C6",
            "ticks": ""
           },
           "baxis": {
            "gridcolor": "#DFE8F3",
            "linecolor": "#A2B1C6",
            "ticks": ""
           },
           "bgcolor": "white",
           "caxis": {
            "gridcolor": "#DFE8F3",
            "linecolor": "#A2B1C6",
            "ticks": ""
           }
          },
          "title": {
           "x": 0.05
          },
          "xaxis": {
           "automargin": true,
           "gridcolor": "#EBF0F8",
           "linecolor": "#EBF0F8",
           "ticks": "",
           "title": {
            "standoff": 15
           },
           "zerolinecolor": "#EBF0F8",
           "zerolinewidth": 2
          },
          "yaxis": {
           "automargin": true,
           "gridcolor": "#EBF0F8",
           "linecolor": "#EBF0F8",
           "ticks": "",
           "title": {
            "standoff": 15
           },
           "zerolinecolor": "#EBF0F8",
           "zerolinewidth": 2
          }
         }
        },
        "title": {
         "text": "Emotional trend for songs in 2019"
        },
        "xaxis": {
         "showgrid": false,
         "title": {
          "text": "Sentiments and Emotions"
         }
        },
        "yaxis": {
         "showgrid": false,
         "title": {
          "text": "Percentage of words"
         }
        }
       }
      },
      "text/html": [
       "<div>\n",
       "        \n",
       "        \n",
       "            <div id=\"fb8a255b-a077-41e7-91e3-38e54e6296cd\" class=\"plotly-graph-div\" style=\"height:525px; width:100%;\"></div>\n",
       "            <script type=\"text/javascript\">\n",
       "                require([\"plotly\"], function(Plotly) {\n",
       "                    window.PLOTLYENV=window.PLOTLYENV || {};\n",
       "                    \n",
       "                if (document.getElementById(\"fb8a255b-a077-41e7-91e3-38e54e6296cd\")) {\n",
       "                    Plotly.newPlot(\n",
       "                        'fb8a255b-a077-41e7-91e3-38e54e6296cd',\n",
       "                        [{\"marker\": {\"color\": [\"rgb(86, 80, 250)\", \"rgb(252, 65, 58)\", \"rgb(0, 114, 90)\", \"rgb(248, 100, 15)\", \"rgb(246, 214, 117)\", \"rgb(142, 189, 248)\", \"rgb(255, 123, 179)\", \"rgb(0, 214, 101)\", \"rgb(255, 166, 0)\", \"rgb(0, 204, 236)\"]}, \"type\": \"bar\", \"x\": [\"positive\", \"negative\", \"joy\", \"trust\", \"anticipation\", \"fear\", \"sadness\", \"anger\", \"surprise\", \"disgust\"], \"y\": [19.85009046265185, 17.989144481778236, 12.121995347635048, 11.760144740242957, 11.062289997415354, 10.674592918066685, 10.028431119152236, 8.96872576893254, 6.073920909795813, 5.065908503489274]}],\n",
       "                        {\"template\": {\"data\": {\"bar\": [{\"error_x\": {\"color\": \"#2a3f5f\"}, \"error_y\": {\"color\": \"#2a3f5f\"}, \"marker\": {\"line\": {\"color\": \"white\", \"width\": 0.5}}, \"type\": \"bar\"}], \"barpolar\": [{\"marker\": {\"line\": {\"color\": \"white\", \"width\": 0.5}}, \"type\": \"barpolar\"}], \"carpet\": [{\"aaxis\": {\"endlinecolor\": \"#2a3f5f\", \"gridcolor\": \"#C8D4E3\", \"linecolor\": \"#C8D4E3\", \"minorgridcolor\": \"#C8D4E3\", \"startlinecolor\": \"#2a3f5f\"}, \"baxis\": {\"endlinecolor\": \"#2a3f5f\", \"gridcolor\": \"#C8D4E3\", \"linecolor\": \"#C8D4E3\", \"minorgridcolor\": \"#C8D4E3\", \"startlinecolor\": \"#2a3f5f\"}, \"type\": \"carpet\"}], \"choropleth\": [{\"colorbar\": {\"outlinewidth\": 0, \"ticks\": \"\"}, \"type\": \"choropleth\"}], \"contour\": [{\"colorbar\": {\"outlinewidth\": 0, \"ticks\": \"\"}, \"colorscale\": [[0.0, \"#0d0887\"], [0.1111111111111111, \"#46039f\"], [0.2222222222222222, \"#7201a8\"], [0.3333333333333333, \"#9c179e\"], [0.4444444444444444, \"#bd3786\"], [0.5555555555555556, \"#d8576b\"], [0.6666666666666666, \"#ed7953\"], [0.7777777777777778, \"#fb9f3a\"], [0.8888888888888888, \"#fdca26\"], [1.0, \"#f0f921\"]], \"type\": \"contour\"}], \"contourcarpet\": [{\"colorbar\": {\"outlinewidth\": 0, \"ticks\": \"\"}, \"type\": \"contourcarpet\"}], \"heatmap\": [{\"colorbar\": {\"outlinewidth\": 0, \"ticks\": \"\"}, \"colorscale\": [[0.0, \"#0d0887\"], [0.1111111111111111, \"#46039f\"], [0.2222222222222222, \"#7201a8\"], [0.3333333333333333, \"#9c179e\"], [0.4444444444444444, \"#bd3786\"], [0.5555555555555556, \"#d8576b\"], [0.6666666666666666, \"#ed7953\"], [0.7777777777777778, \"#fb9f3a\"], [0.8888888888888888, \"#fdca26\"], [1.0, \"#f0f921\"]], \"type\": \"heatmap\"}], \"heatmapgl\": [{\"colorbar\": {\"outlinewidth\": 0, \"ticks\": \"\"}, \"colorscale\": [[0.0, \"#0d0887\"], [0.1111111111111111, \"#46039f\"], [0.2222222222222222, \"#7201a8\"], [0.3333333333333333, \"#9c179e\"], [0.4444444444444444, \"#bd3786\"], [0.5555555555555556, \"#d8576b\"], [0.6666666666666666, \"#ed7953\"], [0.7777777777777778, \"#fb9f3a\"], [0.8888888888888888, \"#fdca26\"], [1.0, \"#f0f921\"]], \"type\": \"heatmapgl\"}], \"histogram\": [{\"marker\": {\"colorbar\": {\"outlinewidth\": 0, \"ticks\": \"\"}}, \"type\": \"histogram\"}], \"histogram2d\": [{\"colorbar\": {\"outlinewidth\": 0, \"ticks\": \"\"}, \"colorscale\": [[0.0, \"#0d0887\"], [0.1111111111111111, \"#46039f\"], [0.2222222222222222, \"#7201a8\"], [0.3333333333333333, \"#9c179e\"], [0.4444444444444444, \"#bd3786\"], [0.5555555555555556, \"#d8576b\"], [0.6666666666666666, \"#ed7953\"], [0.7777777777777778, \"#fb9f3a\"], [0.8888888888888888, \"#fdca26\"], [1.0, \"#f0f921\"]], \"type\": \"histogram2d\"}], \"histogram2dcontour\": [{\"colorbar\": {\"outlinewidth\": 0, \"ticks\": \"\"}, \"colorscale\": [[0.0, \"#0d0887\"], [0.1111111111111111, \"#46039f\"], [0.2222222222222222, \"#7201a8\"], [0.3333333333333333, \"#9c179e\"], [0.4444444444444444, \"#bd3786\"], [0.5555555555555556, \"#d8576b\"], [0.6666666666666666, \"#ed7953\"], [0.7777777777777778, \"#fb9f3a\"], [0.8888888888888888, \"#fdca26\"], [1.0, \"#f0f921\"]], \"type\": \"histogram2dcontour\"}], \"mesh3d\": [{\"colorbar\": {\"outlinewidth\": 0, \"ticks\": \"\"}, \"type\": \"mesh3d\"}], \"parcoords\": [{\"line\": {\"colorbar\": {\"outlinewidth\": 0, \"ticks\": \"\"}}, \"type\": \"parcoords\"}], \"pie\": [{\"automargin\": true, \"type\": \"pie\"}], \"scatter\": [{\"marker\": {\"colorbar\": {\"outlinewidth\": 0, \"ticks\": \"\"}}, \"type\": \"scatter\"}], \"scatter3d\": [{\"line\": {\"colorbar\": {\"outlinewidth\": 0, \"ticks\": \"\"}}, \"marker\": {\"colorbar\": {\"outlinewidth\": 0, \"ticks\": \"\"}}, \"type\": \"scatter3d\"}], \"scattercarpet\": [{\"marker\": {\"colorbar\": {\"outlinewidth\": 0, \"ticks\": \"\"}}, \"type\": \"scattercarpet\"}], \"scattergeo\": [{\"marker\": {\"colorbar\": {\"outlinewidth\": 0, \"ticks\": \"\"}}, \"type\": \"scattergeo\"}], \"scattergl\": [{\"marker\": {\"colorbar\": {\"outlinewidth\": 0, \"ticks\": \"\"}}, \"type\": \"scattergl\"}], \"scattermapbox\": [{\"marker\": {\"colorbar\": {\"outlinewidth\": 0, \"ticks\": \"\"}}, \"type\": \"scattermapbox\"}], \"scatterpolar\": [{\"marker\": {\"colorbar\": {\"outlinewidth\": 0, \"ticks\": \"\"}}, \"type\": \"scatterpolar\"}], \"scatterpolargl\": [{\"marker\": {\"colorbar\": {\"outlinewidth\": 0, \"ticks\": \"\"}}, \"type\": \"scatterpolargl\"}], \"scatterternary\": [{\"marker\": {\"colorbar\": {\"outlinewidth\": 0, \"ticks\": \"\"}}, \"type\": \"scatterternary\"}], \"surface\": [{\"colorbar\": {\"outlinewidth\": 0, \"ticks\": \"\"}, \"colorscale\": [[0.0, \"#0d0887\"], [0.1111111111111111, \"#46039f\"], [0.2222222222222222, \"#7201a8\"], [0.3333333333333333, \"#9c179e\"], [0.4444444444444444, \"#bd3786\"], [0.5555555555555556, \"#d8576b\"], [0.6666666666666666, \"#ed7953\"], [0.7777777777777778, \"#fb9f3a\"], [0.8888888888888888, \"#fdca26\"], [1.0, \"#f0f921\"]], \"type\": \"surface\"}], \"table\": [{\"cells\": {\"fill\": {\"color\": \"#EBF0F8\"}, \"line\": {\"color\": \"white\"}}, \"header\": {\"fill\": {\"color\": \"#C8D4E3\"}, \"line\": {\"color\": \"white\"}}, \"type\": \"table\"}]}, \"layout\": {\"annotationdefaults\": {\"arrowcolor\": \"#2a3f5f\", \"arrowhead\": 0, \"arrowwidth\": 1}, \"coloraxis\": {\"colorbar\": {\"outlinewidth\": 0, \"ticks\": \"\"}}, \"colorscale\": {\"diverging\": [[0, \"#8e0152\"], [0.1, \"#c51b7d\"], [0.2, \"#de77ae\"], [0.3, \"#f1b6da\"], [0.4, \"#fde0ef\"], [0.5, \"#f7f7f7\"], [0.6, \"#e6f5d0\"], [0.7, \"#b8e186\"], [0.8, \"#7fbc41\"], [0.9, \"#4d9221\"], [1, \"#276419\"]], \"sequential\": [[0.0, \"#0d0887\"], [0.1111111111111111, \"#46039f\"], [0.2222222222222222, \"#7201a8\"], [0.3333333333333333, \"#9c179e\"], [0.4444444444444444, \"#bd3786\"], [0.5555555555555556, \"#d8576b\"], [0.6666666666666666, \"#ed7953\"], [0.7777777777777778, \"#fb9f3a\"], [0.8888888888888888, \"#fdca26\"], [1.0, \"#f0f921\"]], \"sequentialminus\": [[0.0, \"#0d0887\"], [0.1111111111111111, \"#46039f\"], [0.2222222222222222, \"#7201a8\"], [0.3333333333333333, \"#9c179e\"], [0.4444444444444444, \"#bd3786\"], [0.5555555555555556, \"#d8576b\"], [0.6666666666666666, \"#ed7953\"], [0.7777777777777778, \"#fb9f3a\"], [0.8888888888888888, \"#fdca26\"], [1.0, \"#f0f921\"]]}, \"colorway\": [\"#636efa\", \"#EF553B\", \"#00cc96\", \"#ab63fa\", \"#FFA15A\", \"#19d3f3\", \"#FF6692\", \"#B6E880\", \"#FF97FF\", \"#FECB52\"], \"font\": {\"color\": \"#2a3f5f\"}, \"geo\": {\"bgcolor\": \"white\", \"lakecolor\": \"white\", \"landcolor\": \"white\", \"showlakes\": true, \"showland\": true, \"subunitcolor\": \"#C8D4E3\"}, \"hoverlabel\": {\"align\": \"left\"}, \"hovermode\": \"closest\", \"mapbox\": {\"style\": \"light\"}, \"paper_bgcolor\": \"white\", \"plot_bgcolor\": \"white\", \"polar\": {\"angularaxis\": {\"gridcolor\": \"#EBF0F8\", \"linecolor\": \"#EBF0F8\", \"ticks\": \"\"}, \"bgcolor\": \"white\", \"radialaxis\": {\"gridcolor\": \"#EBF0F8\", \"linecolor\": \"#EBF0F8\", \"ticks\": \"\"}}, \"scene\": {\"xaxis\": {\"backgroundcolor\": \"white\", \"gridcolor\": \"#DFE8F3\", \"gridwidth\": 2, \"linecolor\": \"#EBF0F8\", \"showbackground\": true, \"ticks\": \"\", \"zerolinecolor\": \"#EBF0F8\"}, \"yaxis\": {\"backgroundcolor\": \"white\", \"gridcolor\": \"#DFE8F3\", \"gridwidth\": 2, \"linecolor\": \"#EBF0F8\", \"showbackground\": true, \"ticks\": \"\", \"zerolinecolor\": \"#EBF0F8\"}, \"zaxis\": {\"backgroundcolor\": \"white\", \"gridcolor\": \"#DFE8F3\", \"gridwidth\": 2, \"linecolor\": \"#EBF0F8\", \"showbackground\": true, \"ticks\": \"\", \"zerolinecolor\": \"#EBF0F8\"}}, \"shapedefaults\": {\"line\": {\"color\": \"#2a3f5f\"}}, \"ternary\": {\"aaxis\": {\"gridcolor\": \"#DFE8F3\", \"linecolor\": \"#A2B1C6\", \"ticks\": \"\"}, \"baxis\": {\"gridcolor\": \"#DFE8F3\", \"linecolor\": \"#A2B1C6\", \"ticks\": \"\"}, \"bgcolor\": \"white\", \"caxis\": {\"gridcolor\": \"#DFE8F3\", \"linecolor\": \"#A2B1C6\", \"ticks\": \"\"}}, \"title\": {\"x\": 0.05}, \"xaxis\": {\"automargin\": true, \"gridcolor\": \"#EBF0F8\", \"linecolor\": \"#EBF0F8\", \"ticks\": \"\", \"title\": {\"standoff\": 15}, \"zerolinecolor\": \"#EBF0F8\", \"zerolinewidth\": 2}, \"yaxis\": {\"automargin\": true, \"gridcolor\": \"#EBF0F8\", \"linecolor\": \"#EBF0F8\", \"ticks\": \"\", \"title\": {\"standoff\": 15}, \"zerolinecolor\": \"#EBF0F8\", \"zerolinewidth\": 2}}}, \"title\": {\"text\": \"Emotional trend for songs in 2019\"}, \"xaxis\": {\"showgrid\": false, \"title\": {\"text\": \"Sentiments and Emotions\"}}, \"yaxis\": {\"showgrid\": false, \"title\": {\"text\": \"Percentage of words\"}}},\n",
       "                        {\"responsive\": true}\n",
       "                    ).then(function(){\n",
       "                            \n",
       "var gd = document.getElementById('fb8a255b-a077-41e7-91e3-38e54e6296cd');\n",
       "var x = new MutationObserver(function (mutations, observer) {{\n",
       "        var display = window.getComputedStyle(gd).display;\n",
       "        if (!display || display === 'none') {{\n",
       "            console.log([gd, 'removed!']);\n",
       "            Plotly.purge(gd);\n",
       "            observer.disconnect();\n",
       "        }}\n",
       "}});\n",
       "\n",
       "// Listen for the removal of the full notebook cells\n",
       "var notebookContainer = gd.closest('#notebook-container');\n",
       "if (notebookContainer) {{\n",
       "    x.observe(notebookContainer, {childList: true});\n",
       "}}\n",
       "\n",
       "// Listen for the clearing of the current output cell\n",
       "var outputEl = gd.closest('.output');\n",
       "if (outputEl) {{\n",
       "    x.observe(outputEl, {childList: true});\n",
       "}}\n",
       "\n",
       "                        })\n",
       "                };\n",
       "                });\n",
       "            </script>\n",
       "        </div>"
      ]
     },
     "metadata": {},
     "output_type": "display_data"
    }
   ],
   "source": [
    "# Get the frequency of each of the sentiments and emotions\n",
    "sentiment_sum = emolex_2019.sum(skipna = True)\n",
    "sentiment_sum = sentiment_sum.iloc[1:].sort_values(ascending=False)\n",
    "# Find the percentage of words used for each sentiment\n",
    "factor = 100/len(emolex_2019.index)\n",
    "sentiment_percentage = sentiment_sum.multiply(other = factor)\n",
    "\n",
    "fig = go.Figure(data = [go.Bar(\n",
    "    x=sentiment_percentage.index, \n",
    "    y=sentiment_percentage.values,\n",
    "    marker={'color': ['rgb(86, 80, 250)', \n",
    "                      'rgb(252, 65, 58)',\n",
    "                      'rgb(0, 114, 90)',\n",
    "                      'rgb(248, 100, 15)',\n",
    "                      'rgb(246, 214, 117)',\n",
    "                      'rgb(142, 189, 248)',\n",
    "                      'rgb(255, 123, 179)',\n",
    "                      'rgb(0, 214, 101)',\n",
    "                      'rgb(255, 166, 0)',\n",
    "                      'rgb(0, 204, 236)'\n",
    "                     ]}\n",
    ")])\n",
    "fig.update_layout(\n",
    "    xaxis_title=\"Sentiments and Emotions\",\n",
    "    yaxis_title=\"Percentage of words\",\n",
    "    title=\"Emotional trend for songs in 2019\",\n",
    "    xaxis=dict(showgrid=False),\n",
    "    yaxis=dict(showgrid=False),\n",
    "    template=\"plotly_white\"\n",
    "    )\n",
    "fig.show()"
   ]
  },
  {
   "cell_type": "markdown",
   "metadata": {},
   "source": [
    "#### The above graph shows sentiment (positive and negative) and emotions (joy, trust, anticipation, fear, sadness, anger, surprise and disgust) associated with top 100 songs of 2019. Looking at it, we can conclude that a positive sentiment was more associated with the songs of 2019 with \"joy\" being the most popular emotion of these songs."
   ]
  },
  {
   "cell_type": "code",
   "execution_count": 11,
   "metadata": {},
   "outputs": [],
   "source": [
    "# Read an image and create a mask for it\n",
    "img_mask = np.array(Image.open(filepath + 'wordcloud.png'))\n",
    "\n",
    "# Transform all the mask values to 255 if it is 1\n",
    "def transform_format(val):\n",
    "    if val == 1:\n",
    "        return 255\n",
    "    else:\n",
    "        return val\n",
    "    \n",
    "# Transform your mask into a new one that will work with the word cloud module\n",
    "transformed_img_mask = np.ndarray((img_mask.shape[0],img_mask.shape[1]), np.int32)\n",
    "for i in range(len(img_mask)):\n",
    "    transformed_img_mask[i] = list(map(transform_format, img_mask[i]))"
   ]
  },
  {
   "cell_type": "code",
   "execution_count": 12,
   "metadata": {
    "scrolled": false
   },
   "outputs": [
    {
     "data": {
      "image/png": "[encoded data removed]",
      "text/plain": [
       "<Figure size 720x720 with 1 Axes>"
      ]
     },
     "metadata": {
      "needs_background": "light"
     },
     "output_type": "display_data"
    }
   ],
   "source": [
    "# Generate shades of black by using random numbers\n",
    "def black_color_func(word, font_size, position, orientation, random_state=None, **kwargs):\n",
    "    return \"hsl(0, 0%%, %d%%)\" % random.randint(0, 40)\n",
    "\n",
    "# Create the word cloud using the mask created\n",
    "wc = WordCloud(background_color='white', max_words=1000, mask=transformed_img_mask)\n",
    "wc.generate(' '.join(pw_by_year[19]))\n",
    "plt.figure(figsize=(10,10))\n",
    "plt.imshow(wc.recolor(color_func=black_color_func, random_state=3), interpolation=\"bilinear\")\n",
    "plt.axis(\"off\")\n",
    "plt.title('Popular words of 2019 songs');"
   ]
  },
  {
   "cell_type": "markdown",
   "metadata": {},
   "source": [
    "#### Above diagram depicts a word cloud of the words used in the top 100 songs of 2019. We can see that love, baby, feel and time are some of the most frequently used words in these songs which was expected based on our general knowledge of the songs over the years."
   ]
  },
  {
   "cell_type": "code",
   "execution_count": 13,
   "metadata": {},
   "outputs": [],
   "source": [
    "# Divide the dataframes into 2 decades - 2000-2010 and 2011-2019\n",
    "decade1_dfs = pd.concat(dfs[:11])\n",
    "decade2_dfs = pd.concat(dfs[11:])\n",
    "\n",
    "# Initialize an empty list that will store processed words for each decade as a list\n",
    "pw_by_decade = []\n",
    "\n",
    "# Get the processed words for each decade\n",
    "pw_by_decade.append(get_processed_words(decade1_dfs))\n",
    "pw_by_decade.append(get_processed_words(decade2_dfs))"
   ]
  },
  {
   "cell_type": "code",
   "execution_count": 14,
   "metadata": {},
   "outputs": [],
   "source": [
    "# Make a list of  popular genres to select the sentiments from\n",
    "pop_genre = [\"Alternative\", \"Dance\", \"Electronic\", \"Hip Hop/Rap\", \"Latin\", \"Pop\", \"Rock\", \"World\"]\n",
    "\n",
    "# Initialize list to store the dictionaries containing sentiment details for each decade\n",
    "decade_list = []\n",
    "\n",
    "for index, decade_df in enumerate([decade1_dfs, decade2_dfs]):\n",
    "    # Create a dictionary to store genre names and sentiments for each of these genres\n",
    "    genre_dict = {\n",
    "        \"anger\": [],\n",
    "        \"anticipation\": [],\n",
    "        \"disgust\": [],\n",
    "        \"fear\": [],\n",
    "        \"joy\": [],\n",
    "        \"negative\": [],\n",
    "        \"positive\": [],\n",
    "        \"sadness\": [],\n",
    "        \"surprise\": [],\n",
    "        \"trust\": [],\n",
    "        \"genre\": []\n",
    "    }\n",
    "    decade = str(index + 1)\n",
    "    \n",
    "    # Get sentiments for each of the genres\n",
    "    decade_grouped = decade_df.groupby(by=\"genre\")\n",
    "    for genre_name, group in decade_grouped:\n",
    "        if genre_name in pop_genre:\n",
    "            # Create a copy of the group to avoid hampering the original dataframe\n",
    "            group_copy = group.copy()\n",
    "            \n",
    "            clear_output(wait=True)\n",
    "            print(\"Please wait. Processing words for decade: \" + decade + \", genre: \" + genre_name)\n",
    "            \n",
    "            pw_by_genre = get_processed_words(group_copy)\n",
    "            # Check if there are processed words in a particular genre or not\n",
    "            if len(pw_by_genre) > 0:\n",
    "                emolex_genre = get_emolex_words(pw_by_genre)\n",
    "                # Get the frequency of each of the sentiments and emotions\n",
    "                sentiment_sum = emolex_genre.sum(skipna = True)\n",
    "                sentiment_sum = sentiment_sum.iloc[1:].sort_values(ascending=False)\n",
    "                # Find the percentage of words used for each sentiment\n",
    "                factor = 100/len(emolex_genre.index)\n",
    "                sentiment_percentage = sentiment_sum.multiply(other = factor)\n",
    "                # Append the genre name in the dictionary with key \"genre\"\n",
    "                genre_dict[\"genre\"].append(genre_name)\n",
    "                # Append each value of the sentiment percentage in the appropriate sentiment key in the dictionary\n",
    "                for index, percentage in sentiment_percentage.items():\n",
    "                    genre_dict[index].append(round(percentage, 2))\n",
    "                    \n",
    "    clear_output()\n",
    "    decade_list.append(genre_dict)"
   ]
  },
  {
   "cell_type": "code",
   "execution_count": 15,
   "metadata": {},
   "outputs": [
    {
     "data": {
      "text/plain": [
       "[{'anger': [8.95, 8.53, 7.56, 10.09, 6.51, 7.14, 9.66, 8.34],\n",
       "  'anticipation': [11.17, 10.77, 12.89, 9.17, 12.2, 11.9, 11.09, 13.37],\n",
       "  'disgust': [7.04, 5.21, 4.89, 6.78, 3.52, 5.05, 6.45, 5.71],\n",
       "  'fear': [12.38, 9.25, 6.67, 10.45, 10.63, 8.63, 11.79, 9.37],\n",
       "  'joy': [10.54, 12.93, 13.33, 8.82, 14.07, 12.85, 10.95, 13.03],\n",
       "  'negative': [21.68, 16.79, 16.89, 19.62, 19.31, 16.43, 20.87, 19.66],\n",
       "  'positive': [18.07, 19.66, 19.56, 16.97, 22.75, 20.74, 18.24, 22.4],\n",
       "  'sadness': [12.87, 8.35, 10.67, 9.72, 12.57, 9.46, 12.51, 10.86],\n",
       "  'surprise': [5.87, 7.72, 5.78, 5.9, 6.66, 6.77, 6.48, 5.83],\n",
       "  'trust': [11.46, 11.94, 11.56, 10.93, 11.98, 11.84, 11.59, 11.31],\n",
       "  'genre': ['Alternative',\n",
       "   'Dance',\n",
       "   'Electronic',\n",
       "   'Hip Hop/Rap',\n",
       "   'Latin',\n",
       "   'Pop',\n",
       "   'Rock',\n",
       "   'World']},\n",
       " {'anger': [7.79, 8.54, 9.22, 10.91, 8.24, 8.26, 7.93, 7.09],\n",
       "  'anticipation': [11.39, 9.81, 11.11, 10.03, 8.24, 11.37, 13.26, 12.2],\n",
       "  'disgust': [6.08, 5.22, 5.91, 7.77, 4.66, 5.32, 4.61, 6.69],\n",
       "  'fear': [10.62, 9.17, 10.87, 10.47, 11.83, 9.84, 11.96, 12.2],\n",
       "  'joy': [11.9, 11.22, 12.29, 9.6, 11.11, 13.13, 10.52, 18.5],\n",
       "  'negative': [19.26, 17.43, 16.31, 20.43, 17.92, 17.3, 19.45, 19.69],\n",
       "  'positive': [19.35, 18.42, 19.86, 18.24, 24.73, 21.04, 18.88, 23.62],\n",
       "  'sadness': [12.16, 9.88, 8.98, 9.81, 10.39, 9.85, 9.8, 14.57],\n",
       "  'surprise': [5.74, 5.29, 7.33, 5.95, 5.02, 6.88, 5.19, 6.3],\n",
       "  'trust': [10.96, 9.53, 10.4, 11.97, 13.62, 12.08, 11.53, 14.57],\n",
       "  'genre': ['Alternative',\n",
       "   'Dance',\n",
       "   'Electronic',\n",
       "   'Hip Hop/Rap',\n",
       "   'Latin',\n",
       "   'Pop',\n",
       "   'Rock',\n",
       "   'World']}]"
      ]
     },
     "execution_count": 15,
     "metadata": {},
     "output_type": "execute_result"
    }
   ],
   "source": [
    "decade_list"
   ]
  },
  {
   "cell_type": "code",
   "execution_count": 85,
   "metadata": {},
   "outputs": [
    {
     "data": {
      "application/vnd.plotly.v1+json": {
       "config": {
        "plotlyServerURL": "https://plot.ly"
       },
       "data": [
        {
         "marker": {
          "color": "rgb(86, 80, 250)"
         },
         "name": "positive",
         "type": "bar",
         "x": [
          "Alternative",
          "Dance",
          "Electronic",
          "Hip Hop/Rap",
          "Latin",
          "Pop",
          "Rock",
          "World"
         ],
         "y": [
          18.07,
          19.66,
          19.56,
          16.97,
          22.75,
          20.74,
          18.24,
          22.4
         ]
        },
        {
         "marker": {
          "color": "rgb(252, 65, 58)"
         },
         "name": "negative",
         "type": "bar",
         "x": [
          "Alternative",
          "Dance",
          "Electronic",
          "Hip Hop/Rap",
          "Latin",
          "Pop",
          "Rock",
          "World"
         ],
         "y": [
          21.68,
          16.79,
          16.89,
          19.62,
          19.31,
          16.43,
          20.87,
          19.66
         ]
        },
        {
         "marker": {
          "color": "rgb(0, 114, 90)"
         },
         "name": "joy",
         "type": "bar",
         "x": [
          "Alternative",
          "Dance",
          "Electronic",
          "Hip Hop/Rap",
          "Latin",
          "Pop",
          "Rock",
          "World"
         ],
         "y": [
          10.54,
          12.93,
          13.33,
          8.82,
          14.07,
          12.85,
          10.95,
          13.03
         ]
        },
        {
         "marker": {
          "color": "rgb(248, 100, 15)"
         },
         "name": "anticipation",
         "type": "bar",
         "x": [
          "Alternative",
          "Dance",
          "Electronic",
          "Hip Hop/Rap",
          "Latin",
          "Pop",
          "Rock",
          "World"
         ],
         "y": [
          11.17,
          10.77,
          12.89,
          9.17,
          12.2,
          11.9,
          11.09,
          13.37
         ]
        },
        {
         "marker": {
          "color": "rgb(246, 214, 117)"
         },
         "name": "trust",
         "type": "bar",
         "x": [
          "Alternative",
          "Dance",
          "Electronic",
          "Hip Hop/Rap",
          "Latin",
          "Pop",
          "Rock",
          "World"
         ],
         "y": [
          11.46,
          11.94,
          11.56,
          10.93,
          11.98,
          11.84,
          11.59,
          11.31
         ]
        },
        {
         "marker": {
          "color": "rgb(142, 189, 248)"
         },
         "name": "sadness",
         "type": "bar",
         "x": [
          "Alternative",
          "Dance",
          "Electronic",
          "Hip Hop/Rap",
          "Latin",
          "Pop",
          "Rock",
          "World"
         ],
         "y": [
          12.87,
          8.35,
          10.67,
          9.72,
          12.57,
          9.46,
          12.51,
          10.86
         ]
        },
        {
         "marker": {
          "color": "rgb(255, 123, 179)"
         },
         "name": "fear",
         "type": "bar",
         "x": [
          "Alternative",
          "Dance",
          "Electronic",
          "Hip Hop/Rap",
          "Latin",
          "Pop",
          "Rock",
          "World"
         ],
         "y": [
          12.38,
          9.25,
          6.67,
          10.45,
          10.63,
          8.63,
          11.79,
          9.37
         ]
        },
        {
         "marker": {
          "color": "rgb(0, 214, 101)"
         },
         "name": "anger",
         "type": "bar",
         "x": [
          "Alternative",
          "Dance",
          "Electronic",
          "Hip Hop/Rap",
          "Latin",
          "Pop",
          "Rock",
          "World"
         ],
         "y": [
          8.95,
          8.53,
          7.56,
          10.09,
          6.51,
          7.14,
          9.66,
          8.34
         ]
        },
        {
         "marker": {
          "color": "rgb(255, 166, 0)"
         },
         "name": "surprise",
         "type": "bar",
         "x": [
          "Alternative",
          "Dance",
          "Electronic",
          "Hip Hop/Rap",
          "Latin",
          "Pop",
          "Rock",
          "World"
         ],
         "y": [
          5.87,
          7.72,
          5.78,
          5.9,
          6.66,
          6.77,
          6.48,
          5.83
         ]
        },
        {
         "marker": {
          "color": "rgb(0, 204, 236)"
         },
         "name": "disgust",
         "type": "bar",
         "x": [
          "Alternative",
          "Dance",
          "Electronic",
          "Hip Hop/Rap",
          "Latin",
          "Pop",
          "Rock",
          "World"
         ],
         "y": [
          7.04,
          5.21,
          4.89,
          6.78,
          3.52,
          5.05,
          6.45,
          5.71
         ]
        }
       ],
       "layout": {
        "barmode": "group",
        "template": {
         "data": {
          "bar": [
           {
            "error_x": {
             "color": "#2a3f5f"
            },
            "error_y": {
             "color": "#2a3f5f"
            },
            "marker": {
             "line": {
              "color": "white",
              "width": 0.5
             }
            },
            "type": "bar"
           }
          ],
          "barpolar": [
           {
            "marker": {
             "line": {
              "color": "white",
              "width": 0.5
             }
            },
            "type": "barpolar"
           }
          ],
          "carpet": [
           {
            "aaxis": {
             "endlinecolor": "#2a3f5f",
             "gridcolor": "#C8D4E3",
             "linecolor": "#C8D4E3",
             "minorgridcolor": "#C8D4E3",
             "startlinecolor": "#2a3f5f"
            },
            "baxis": {
             "endlinecolor": "#2a3f5f",
             "gridcolor": "#C8D4E3",
             "linecolor": "#C8D4E3",
             "minorgridcolor": "#C8D4E3",
             "startlinecolor": "#2a3f5f"
            },
            "type": "carpet"
           }
          ],
          "choropleth": [
           {
            "colorbar": {
             "outlinewidth": 0,
             "ticks": ""
            },
            "type": "choropleth"
           }
          ],
          "contour": [
           {
            "colorbar": {
             "outlinewidth": 0,
             "ticks": ""
            },
            "colorscale": [
             [
              0,
              "#0d0887"
             ],
             [
              0.1111111111111111,
              "#46039f"
             ],
             [
              0.2222222222222222,
              "#7201a8"
             ],
             [
              0.3333333333333333,
              "#9c179e"
             ],
             [
              0.4444444444444444,
              "#bd3786"
             ],
             [
              0.5555555555555556,
              "#d8576b"
             ],
             [
              0.6666666666666666,
              "#ed7953"
             ],
             [
              0.7777777777777778,
              "#fb9f3a"
             ],
             [
              0.8888888888888888,
              "#fdca26"
             ],
             [
              1,
              "#f0f921"
             ]
            ],
            "type": "contour"
           }
          ],
          "contourcarpet": [
           {
            "colorbar": {
             "outlinewidth": 0,
             "ticks": ""
            },
            "type": "contourcarpet"
           }
          ],
          "heatmap": [
           {
            "colorbar": {
             "outlinewidth": 0,
             "ticks": ""
            },
            "colorscale": [
             [
              0,
              "#0d0887"
             ],
             [
              0.1111111111111111,
              "#46039f"
             ],
             [
              0.2222222222222222,
              "#7201a8"
             ],
             [
              0.3333333333333333,
              "#9c179e"
             ],
             [
              0.4444444444444444,
              "#bd3786"
             ],
             [
              0.5555555555555556,
              "#d8576b"
             ],
             [
              0.6666666666666666,
              "#ed7953"
             ],
             [
              0.7777777777777778,
              "#fb9f3a"
             ],
             [
              0.8888888888888888,
              "#fdca26"
             ],
             [
              1,
              "#f0f921"
             ]
            ],
            "type": "heatmap"
           }
          ],
          "heatmapgl": [
           {
            "colorbar": {
             "outlinewidth": 0,
             "ticks": ""
            },
            "colorscale": [
             [
              0,
              "#0d0887"
             ],
             [
              0.1111111111111111,
              "#46039f"
             ],
             [
              0.2222222222222222,
              "#7201a8"
             ],
             [
              0.3333333333333333,
              "#9c179e"
             ],
             [
              0.4444444444444444,
              "#bd3786"
             ],
             [
              0.5555555555555556,
              "#d8576b"
             ],
             [
              0.6666666666666666,
              "#ed7953"
             ],
             [
              0.7777777777777778,
              "#fb9f3a"
             ],
             [
              0.8888888888888888,
              "#fdca26"
             ],
             [
              1,
              "#f0f921"
             ]
            ],
            "type": "heatmapgl"
           }
          ],
          "histogram": [
           {
            "marker": {
             "colorbar": {
              "outlinewidth": 0,
              "ticks": ""
             }
            },
            "type": "histogram"
           }
          ],
          "histogram2d": [
           {
            "colorbar": {
             "outlinewidth": 0,
             "ticks": ""
            },
            "colorscale": [
             [
              0,
              "#0d0887"
             ],
             [
              0.1111111111111111,
              "#46039f"
             ],
             [
              0.2222222222222222,
              "#7201a8"
             ],
             [
              0.3333333333333333,
              "#9c179e"
             ],
             [
              0.4444444444444444,
              "#bd3786"
             ],
             [
              0.5555555555555556,
              "#d8576b"
             ],
             [
              0.6666666666666666,
              "#ed7953"
             ],
             [
              0.7777777777777778,
              "#fb9f3a"
             ],
             [
              0.8888888888888888,
              "#fdca26"
             ],
             [
              1,
              "#f0f921"
             ]
            ],
            "type": "histogram2d"
           }
          ],
          "histogram2dcontour": [
           {
            "colorbar": {
             "outlinewidth": 0,
             "ticks": ""
            },
            "colorscale": [
             [
              0,
              "#0d0887"
             ],
             [
              0.1111111111111111,
              "#46039f"
             ],
             [
              0.2222222222222222,
              "#7201a8"
             ],
             [
              0.3333333333333333,
              "#9c179e"
             ],
             [
              0.4444444444444444,
              "#bd3786"
             ],
             [
              0.5555555555555556,
              "#d8576b"
             ],
             [
              0.6666666666666666,
              "#ed7953"
             ],
             [
              0.7777777777777778,
              "#fb9f3a"
             ],
             [
              0.8888888888888888,
              "#fdca26"
             ],
             [
              1,
              "#f0f921"
             ]
            ],
            "type": "histogram2dcontour"
           }
          ],
          "mesh3d": [
           {
            "colorbar": {
             "outlinewidth": 0,
             "ticks": ""
            },
            "type": "mesh3d"
           }
          ],
          "parcoords": [
           {
            "line": {
             "colorbar": {
              "outlinewidth": 0,
              "ticks": ""
             }
            },
            "type": "parcoords"
           }
          ],
          "pie": [
           {
            "automargin": true,
            "type": "pie"
           }
          ],
          "scatter": [
           {
            "marker": {
             "colorbar": {
              "outlinewidth": 0,
              "ticks": ""
             }
            },
            "type": "scatter"
           }
          ],
          "scatter3d": [
           {
            "line": {
             "colorbar": {
              "outlinewidth": 0,
              "ticks": ""
             }
            },
            "marker": {
             "colorbar": {
              "outlinewidth": 0,
              "ticks": ""
             }
            },
            "type": "scatter3d"
           }
          ],
          "scattercarpet": [
           {
            "marker": {
             "colorbar": {
              "outlinewidth": 0,
              "ticks": ""
             }
            },
            "type": "scattercarpet"
           }
          ],
          "scattergeo": [
           {
            "marker": {
             "colorbar": {
              "outlinewidth": 0,
              "ticks": ""
             }
            },
            "type": "scattergeo"
           }
          ],
          "scattergl": [
           {
            "marker": {
             "colorbar": {
              "outlinewidth": 0,
              "ticks": ""
             }
            },
            "type": "scattergl"
           }
          ],
          "scattermapbox": [
           {
            "marker": {
             "colorbar": {
              "outlinewidth": 0,
              "ticks": ""
             }
            },
            "type": "scattermapbox"
           }
          ],
          "scatterpolar": [
           {
            "marker": {
             "colorbar": {
              "outlinewidth": 0,
              "ticks": ""
             }
            },
            "type": "scatterpolar"
           }
          ],
          "scatterpolargl": [
           {
            "marker": {
             "colorbar": {
              "outlinewidth": 0,
              "ticks": ""
             }
            },
            "type": "scatterpolargl"
           }
          ],
          "scatterternary": [
           {
            "marker": {
             "colorbar": {
              "outlinewidth": 0,
              "ticks": ""
             }
            },
            "type": "scatterternary"
           }
          ],
          "surface": [
           {
            "colorbar": {
             "outlinewidth": 0,
             "ticks": ""
            },
            "colorscale": [
             [
              0,
              "#0d0887"
             ],
             [
              0.1111111111111111,
              "#46039f"
             ],
             [
              0.2222222222222222,
              "#7201a8"
             ],
             [
              0.3333333333333333,
              "#9c179e"
             ],
             [
              0.4444444444444444,
              "#bd3786"
             ],
             [
              0.5555555555555556,
              "#d8576b"
             ],
             [
              0.6666666666666666,
              "#ed7953"
             ],
             [
              0.7777777777777778,
              "#fb9f3a"
             ],
             [
              0.8888888888888888,
              "#fdca26"
             ],
             [
              1,
              "#f0f921"
             ]
            ],
            "type": "surface"
           }
          ],
          "table": [
           {
            "cells": {
             "fill": {
              "color": "#EBF0F8"
             },
             "line": {
              "color": "white"
             }
            },
            "header": {
             "fill": {
              "color": "#C8D4E3"
             },
             "line": {
              "color": "white"
             }
            },
            "type": "table"
           }
          ]
         },
         "layout": {
          "annotationdefaults": {
           "arrowcolor": "#2a3f5f",
           "arrowhead": 0,
           "arrowwidth": 1
          },
          "coloraxis": {
           "colorbar": {
            "outlinewidth": 0,
            "ticks": ""
           }
          },
          "colorscale": {
           "diverging": [
            [
             0,
             "#8e0152"
            ],
            [
             0.1,
             "#c51b7d"
            ],
            [
             0.2,
             "#de77ae"
            ],
            [
             0.3,
             "#f1b6da"
            ],
            [
             0.4,
             "#fde0ef"
            ],
            [
             0.5,
             "#f7f7f7"
            ],
            [
             0.6,
             "#e6f5d0"
            ],
            [
             0.7,
             "#b8e186"
            ],
            [
             0.8,
             "#7fbc41"
            ],
            [
             0.9,
             "#4d9221"
            ],
            [
             1,
             "#276419"
            ]
           ],
           "sequential": [
            [
             0,
             "#0d0887"
            ],
            [
             0.1111111111111111,
             "#46039f"
            ],
            [
             0.2222222222222222,
             "#7201a8"
            ],
            [
             0.3333333333333333,
             "#9c179e"
            ],
            [
             0.4444444444444444,
             "#bd3786"
            ],
            [
             0.5555555555555556,
             "#d8576b"
            ],
            [
             0.6666666666666666,
             "#ed7953"
            ],
            [
             0.7777777777777778,
             "#fb9f3a"
            ],
            [
             0.8888888888888888,
             "#fdca26"
            ],
            [
             1,
             "#f0f921"
            ]
           ],
           "sequentialminus": [
            [
             0,
             "#0d0887"
            ],
            [
             0.1111111111111111,
             "#46039f"
            ],
            [
             0.2222222222222222,
             "#7201a8"
            ],
            [
             0.3333333333333333,
             "#9c179e"
            ],
            [
             0.4444444444444444,
             "#bd3786"
            ],
            [
             0.5555555555555556,
             "#d8576b"
            ],
            [
             0.6666666666666666,
             "#ed7953"
            ],
            [
             0.7777777777777778,
             "#fb9f3a"
            ],
            [
             0.8888888888888888,
             "#fdca26"
            ],
            [
             1,
             "#f0f921"
            ]
           ]
          },
          "colorway": [
           "#636efa",
           "#EF553B",
           "#00cc96",
           "#ab63fa",
           "#FFA15A",
           "#19d3f3",
           "#FF6692",
           "#B6E880",
           "#FF97FF",
           "#FECB52"
          ],
          "font": {
           "color": "#2a3f5f"
          },
          "geo": {
           "bgcolor": "white",
           "lakecolor": "white",
           "landcolor": "white",
           "showlakes": true,
           "showland": true,
           "subunitcolor": "#C8D4E3"
          },
          "hoverlabel": {
           "align": "left"
          },
          "hovermode": "closest",
          "mapbox": {
           "style": "light"
          },
          "paper_bgcolor": "white",
          "plot_bgcolor": "white",
          "polar": {
           "angularaxis": {
            "gridcolor": "#EBF0F8",
            "linecolor": "#EBF0F8",
            "ticks": ""
           },
           "bgcolor": "white",
           "radialaxis": {
            "gridcolor": "#EBF0F8",
            "linecolor": "#EBF0F8",
            "ticks": ""
           }
          },
          "scene": {
           "xaxis": {
            "backgroundcolor": "white",
            "gridcolor": "#DFE8F3",
            "gridwidth": 2,
            "linecolor": "#EBF0F8",
            "showbackground": true,
            "ticks": "",
            "zerolinecolor": "#EBF0F8"
           },
           "yaxis": {
            "backgroundcolor": "white",
            "gridcolor": "#DFE8F3",
            "gridwidth": 2,
            "linecolor": "#EBF0F8",
            "showbackground": true,
            "ticks": "",
            "zerolinecolor": "#EBF0F8"
           },
           "zaxis": {
            "backgroundcolor": "white",
            "gridcolor": "#DFE8F3",
            "gridwidth": 2,
            "linecolor": "#EBF0F8",
            "showbackground": true,
            "ticks": "",
            "zerolinecolor": "#EBF0F8"
           }
          },
          "shapedefaults": {
           "line": {
            "color": "#2a3f5f"
           }
          },
          "ternary": {
           "aaxis": {
            "gridcolor": "#DFE8F3",
            "linecolor": "#A2B1C6",
            "ticks": ""
           },
           "baxis": {
            "gridcolor": "#DFE8F3",
            "linecolor": "#A2B1C6",
            "ticks": ""
           },
           "bgcolor": "white",
           "caxis": {
            "gridcolor": "#DFE8F3",
            "linecolor": "#A2B1C6",
            "ticks": ""
           }
          },
          "title": {
           "x": 0.05
          },
          "xaxis": {
           "automargin": true,
           "gridcolor": "#EBF0F8",
           "linecolor": "#EBF0F8",
           "ticks": "",
           "title": {
            "standoff": 15
           },
           "zerolinecolor": "#EBF0F8",
           "zerolinewidth": 2
          },
          "yaxis": {
           "automargin": true,
           "gridcolor": "#EBF0F8",
           "linecolor": "#EBF0F8",
           "ticks": "",
           "title": {
            "standoff": 15
           },
           "zerolinecolor": "#EBF0F8",
           "zerolinewidth": 2
          }
         }
        },
        "title": {
         "text": "Sentiment and Emotions - 2000 to 2010"
        },
        "xaxis": {
         "showgrid": false,
         "title": {
          "text": "Popular Genres"
         }
        },
        "yaxis": {
         "showgrid": false,
         "title": {
          "text": "Percentage of words"
         }
        }
       }
      },
      "text/html": [
       "<div>\n",
       "        \n",
       "        \n",
       "            <div id=\"7017992f-9028-4eb5-937c-4e93308f097a\" class=\"plotly-graph-div\" style=\"height:525px; width:100%;\"></div>\n",
       "            <script type=\"text/javascript\">\n",
       "                require([\"plotly\"], function(Plotly) {\n",
       "                    window.PLOTLYENV=window.PLOTLYENV || {};\n",
       "                    \n",
       "                if (document.getElementById(\"7017992f-9028-4eb5-937c-4e93308f097a\")) {\n",
       "                    Plotly.newPlot(\n",
       "                        '7017992f-9028-4eb5-937c-4e93308f097a',\n",
       "                        [{\"marker\": {\"color\": \"rgb(86, 80, 250)\"}, \"name\": \"positive\", \"type\": \"bar\", \"x\": [\"Alternative\", \"Dance\", \"Electronic\", \"Hip Hop/Rap\", \"Latin\", \"Pop\", \"Rock\", \"World\"], \"y\": [18.07, 19.66, 19.56, 16.97, 22.75, 20.74, 18.24, 22.4]}, {\"marker\": {\"color\": \"rgb(252, 65, 58)\"}, \"name\": \"negative\", \"type\": \"bar\", \"x\": [\"Alternative\", \"Dance\", \"Electronic\", \"Hip Hop/Rap\", \"Latin\", \"Pop\", \"Rock\", \"World\"], \"y\": [21.68, 16.79, 16.89, 19.62, 19.31, 16.43, 20.87, 19.66]}, {\"marker\": {\"color\": \"rgb(0, 114, 90)\"}, \"name\": \"joy\", \"type\": \"bar\", \"x\": [\"Alternative\", \"Dance\", \"Electronic\", \"Hip Hop/Rap\", \"Latin\", \"Pop\", \"Rock\", \"World\"], \"y\": [10.54, 12.93, 13.33, 8.82, 14.07, 12.85, 10.95, 13.03]}, {\"marker\": {\"color\": \"rgb(248, 100, 15)\"}, \"name\": \"anticipation\", \"type\": \"bar\", \"x\": [\"Alternative\", \"Dance\", \"Electronic\", \"Hip Hop/Rap\", \"Latin\", \"Pop\", \"Rock\", \"World\"], \"y\": [11.17, 10.77, 12.89, 9.17, 12.2, 11.9, 11.09, 13.37]}, {\"marker\": {\"color\": \"rgb(246, 214, 117)\"}, \"name\": \"trust\", \"type\": \"bar\", \"x\": [\"Alternative\", \"Dance\", \"Electronic\", \"Hip Hop/Rap\", \"Latin\", \"Pop\", \"Rock\", \"World\"], \"y\": [11.46, 11.94, 11.56, 10.93, 11.98, 11.84, 11.59, 11.31]}, {\"marker\": {\"color\": \"rgb(142, 189, 248)\"}, \"name\": \"sadness\", \"type\": \"bar\", \"x\": [\"Alternative\", \"Dance\", \"Electronic\", \"Hip Hop/Rap\", \"Latin\", \"Pop\", \"Rock\", \"World\"], \"y\": [12.87, 8.35, 10.67, 9.72, 12.57, 9.46, 12.51, 10.86]}, {\"marker\": {\"color\": \"rgb(255, 123, 179)\"}, \"name\": \"fear\", \"type\": \"bar\", \"x\": [\"Alternative\", \"Dance\", \"Electronic\", \"Hip Hop/Rap\", \"Latin\", \"Pop\", \"Rock\", \"World\"], \"y\": [12.38, 9.25, 6.67, 10.45, 10.63, 8.63, 11.79, 9.37]}, {\"marker\": {\"color\": \"rgb(0, 214, 101)\"}, \"name\": \"anger\", \"type\": \"bar\", \"x\": [\"Alternative\", \"Dance\", \"Electronic\", \"Hip Hop/Rap\", \"Latin\", \"Pop\", \"Rock\", \"World\"], \"y\": [8.95, 8.53, 7.56, 10.09, 6.51, 7.14, 9.66, 8.34]}, {\"marker\": {\"color\": \"rgb(255, 166, 0)\"}, \"name\": \"surprise\", \"type\": \"bar\", \"x\": [\"Alternative\", \"Dance\", \"Electronic\", \"Hip Hop/Rap\", \"Latin\", \"Pop\", \"Rock\", \"World\"], \"y\": [5.87, 7.72, 5.78, 5.9, 6.66, 6.77, 6.48, 5.83]}, {\"marker\": {\"color\": \"rgb(0, 204, 236)\"}, \"name\": \"disgust\", \"type\": \"bar\", \"x\": [\"Alternative\", \"Dance\", \"Electronic\", \"Hip Hop/Rap\", \"Latin\", \"Pop\", \"Rock\", \"World\"], \"y\": [7.04, 5.21, 4.89, 6.78, 3.52, 5.05, 6.45, 5.71]}],\n",
       "                        {\"barmode\": \"group\", \"template\": {\"data\": {\"bar\": [{\"error_x\": {\"color\": \"#2a3f5f\"}, \"error_y\": {\"color\": \"#2a3f5f\"}, \"marker\": {\"line\": {\"color\": \"white\", \"width\": 0.5}}, \"type\": \"bar\"}], \"barpolar\": [{\"marker\": {\"line\": {\"color\": \"white\", \"width\": 0.5}}, \"type\": \"barpolar\"}], \"carpet\": [{\"aaxis\": {\"endlinecolor\": \"#2a3f5f\", \"gridcolor\": \"#C8D4E3\", \"linecolor\": \"#C8D4E3\", \"minorgridcolor\": \"#C8D4E3\", \"startlinecolor\": \"#2a3f5f\"}, \"baxis\": {\"endlinecolor\": \"#2a3f5f\", \"gridcolor\": \"#C8D4E3\", \"linecolor\": \"#C8D4E3\", \"minorgridcolor\": \"#C8D4E3\", \"startlinecolor\": \"#2a3f5f\"}, \"type\": \"carpet\"}], \"choropleth\": [{\"colorbar\": {\"outlinewidth\": 0, \"ticks\": \"\"}, \"type\": \"choropleth\"}], \"contour\": [{\"colorbar\": {\"outlinewidth\": 0, \"ticks\": \"\"}, \"colorscale\": [[0.0, \"#0d0887\"], [0.1111111111111111, \"#46039f\"], [0.2222222222222222, \"#7201a8\"], [0.3333333333333333, \"#9c179e\"], [0.4444444444444444, \"#bd3786\"], [0.5555555555555556, \"#d8576b\"], [0.6666666666666666, \"#ed7953\"], [0.7777777777777778, \"#fb9f3a\"], [0.8888888888888888, \"#fdca26\"], [1.0, \"#f0f921\"]], \"type\": \"contour\"}], \"contourcarpet\": [{\"colorbar\": {\"outlinewidth\": 0, \"ticks\": \"\"}, \"type\": \"contourcarpet\"}], \"heatmap\": [{\"colorbar\": {\"outlinewidth\": 0, \"ticks\": \"\"}, \"colorscale\": [[0.0, \"#0d0887\"], [0.1111111111111111, \"#46039f\"], [0.2222222222222222, \"#7201a8\"], [0.3333333333333333, \"#9c179e\"], [0.4444444444444444, \"#bd3786\"], [0.5555555555555556, \"#d8576b\"], [0.6666666666666666, \"#ed7953\"], [0.7777777777777778, \"#fb9f3a\"], [0.8888888888888888, \"#fdca26\"], [1.0, \"#f0f921\"]], \"type\": \"heatmap\"}], \"heatmapgl\": [{\"colorbar\": {\"outlinewidth\": 0, \"ticks\": \"\"}, \"colorscale\": [[0.0, \"#0d0887\"], [0.1111111111111111, \"#46039f\"], [0.2222222222222222, \"#7201a8\"], [0.3333333333333333, \"#9c179e\"], [0.4444444444444444, \"#bd3786\"], [0.5555555555555556, \"#d8576b\"], [0.6666666666666666, \"#ed7953\"], [0.7777777777777778, \"#fb9f3a\"], [0.8888888888888888, \"#fdca26\"], [1.0, \"#f0f921\"]], \"type\": \"heatmapgl\"}], \"histogram\": [{\"marker\": {\"colorbar\": {\"outlinewidth\": 0, \"ticks\": \"\"}}, \"type\": \"histogram\"}], \"histogram2d\": [{\"colorbar\": {\"outlinewidth\": 0, \"ticks\": \"\"}, \"colorscale\": [[0.0, \"#0d0887\"], [0.1111111111111111, \"#46039f\"], [0.2222222222222222, \"#7201a8\"], [0.3333333333333333, \"#9c179e\"], [0.4444444444444444, \"#bd3786\"], [0.5555555555555556, \"#d8576b\"], [0.6666666666666666, \"#ed7953\"], [0.7777777777777778, \"#fb9f3a\"], [0.8888888888888888, \"#fdca26\"], [1.0, \"#f0f921\"]], \"type\": \"histogram2d\"}], \"histogram2dcontour\": [{\"colorbar\": {\"outlinewidth\": 0, \"ticks\": \"\"}, \"colorscale\": [[0.0, \"#0d0887\"], [0.1111111111111111, \"#46039f\"], [0.2222222222222222, \"#7201a8\"], [0.3333333333333333, \"#9c179e\"], [0.4444444444444444, \"#bd3786\"], [0.5555555555555556, \"#d8576b\"], [0.6666666666666666, \"#ed7953\"], [0.7777777777777778, \"#fb9f3a\"], [0.8888888888888888, \"#fdca26\"], [1.0, \"#f0f921\"]], \"type\": \"histogram2dcontour\"}], \"mesh3d\": [{\"colorbar\": {\"outlinewidth\": 0, \"ticks\": \"\"}, \"type\": \"mesh3d\"}], \"parcoords\": [{\"line\": {\"colorbar\": {\"outlinewidth\": 0, \"ticks\": \"\"}}, \"type\": \"parcoords\"}], \"pie\": [{\"automargin\": true, \"type\": \"pie\"}], \"scatter\": [{\"marker\": {\"colorbar\": {\"outlinewidth\": 0, \"ticks\": \"\"}}, \"type\": \"scatter\"}], \"scatter3d\": [{\"line\": {\"colorbar\": {\"outlinewidth\": 0, \"ticks\": \"\"}}, \"marker\": {\"colorbar\": {\"outlinewidth\": 0, \"ticks\": \"\"}}, \"type\": \"scatter3d\"}], \"scattercarpet\": [{\"marker\": {\"colorbar\": {\"outlinewidth\": 0, \"ticks\": \"\"}}, \"type\": \"scattercarpet\"}], \"scattergeo\": [{\"marker\": {\"colorbar\": {\"outlinewidth\": 0, \"ticks\": \"\"}}, \"type\": \"scattergeo\"}], \"scattergl\": [{\"marker\": {\"colorbar\": {\"outlinewidth\": 0, \"ticks\": \"\"}}, \"type\": \"scattergl\"}], \"scattermapbox\": [{\"marker\": {\"colorbar\": {\"outlinewidth\": 0, \"ticks\": \"\"}}, \"type\": \"scattermapbox\"}], \"scatterpolar\": [{\"marker\": {\"colorbar\": {\"outlinewidth\": 0, \"ticks\": \"\"}}, \"type\": \"scatterpolar\"}], \"scatterpolargl\": [{\"marker\": {\"colorbar\": {\"outlinewidth\": 0, \"ticks\": \"\"}}, \"type\": \"scatterpolargl\"}], \"scatterternary\": [{\"marker\": {\"colorbar\": {\"outlinewidth\": 0, \"ticks\": \"\"}}, \"type\": \"scatterternary\"}], \"surface\": [{\"colorbar\": {\"outlinewidth\": 0, \"ticks\": \"\"}, \"colorscale\": [[0.0, \"#0d0887\"], [0.1111111111111111, \"#46039f\"], [0.2222222222222222, \"#7201a8\"], [0.3333333333333333, \"#9c179e\"], [0.4444444444444444, \"#bd3786\"], [0.5555555555555556, \"#d8576b\"], [0.6666666666666666, \"#ed7953\"], [0.7777777777777778, \"#fb9f3a\"], [0.8888888888888888, \"#fdca26\"], [1.0, \"#f0f921\"]], \"type\": \"surface\"}], \"table\": [{\"cells\": {\"fill\": {\"color\": \"#EBF0F8\"}, \"line\": {\"color\": \"white\"}}, \"header\": {\"fill\": {\"color\": \"#C8D4E3\"}, \"line\": {\"color\": \"white\"}}, \"type\": \"table\"}]}, \"layout\": {\"annotationdefaults\": {\"arrowcolor\": \"#2a3f5f\", \"arrowhead\": 0, \"arrowwidth\": 1}, \"coloraxis\": {\"colorbar\": {\"outlinewidth\": 0, \"ticks\": \"\"}}, \"colorscale\": {\"diverging\": [[0, \"#8e0152\"], [0.1, \"#c51b7d\"], [0.2, \"#de77ae\"], [0.3, \"#f1b6da\"], [0.4, \"#fde0ef\"], [0.5, \"#f7f7f7\"], [0.6, \"#e6f5d0\"], [0.7, \"#b8e186\"], [0.8, \"#7fbc41\"], [0.9, \"#4d9221\"], [1, \"#276419\"]], \"sequential\": [[0.0, \"#0d0887\"], [0.1111111111111111, \"#46039f\"], [0.2222222222222222, \"#7201a8\"], [0.3333333333333333, \"#9c179e\"], [0.4444444444444444, \"#bd3786\"], [0.5555555555555556, \"#d8576b\"], [0.6666666666666666, \"#ed7953\"], [0.7777777777777778, \"#fb9f3a\"], [0.8888888888888888, \"#fdca26\"], [1.0, \"#f0f921\"]], \"sequentialminus\": [[0.0, \"#0d0887\"], [0.1111111111111111, \"#46039f\"], [0.2222222222222222, \"#7201a8\"], [0.3333333333333333, \"#9c179e\"], [0.4444444444444444, \"#bd3786\"], [0.5555555555555556, \"#d8576b\"], [0.6666666666666666, \"#ed7953\"], [0.7777777777777778, \"#fb9f3a\"], [0.8888888888888888, \"#fdca26\"], [1.0, \"#f0f921\"]]}, \"colorway\": [\"#636efa\", \"#EF553B\", \"#00cc96\", \"#ab63fa\", \"#FFA15A\", \"#19d3f3\", \"#FF6692\", \"#B6E880\", \"#FF97FF\", \"#FECB52\"], \"font\": {\"color\": \"#2a3f5f\"}, \"geo\": {\"bgcolor\": \"white\", \"lakecolor\": \"white\", \"landcolor\": \"white\", \"showlakes\": true, \"showland\": true, \"subunitcolor\": \"#C8D4E3\"}, \"hoverlabel\": {\"align\": \"left\"}, \"hovermode\": \"closest\", \"mapbox\": {\"style\": \"light\"}, \"paper_bgcolor\": \"white\", \"plot_bgcolor\": \"white\", \"polar\": {\"angularaxis\": {\"gridcolor\": \"#EBF0F8\", \"linecolor\": \"#EBF0F8\", \"ticks\": \"\"}, \"bgcolor\": \"white\", \"radialaxis\": {\"gridcolor\": \"#EBF0F8\", \"linecolor\": \"#EBF0F8\", \"ticks\": \"\"}}, \"scene\": {\"xaxis\": {\"backgroundcolor\": \"white\", \"gridcolor\": \"#DFE8F3\", \"gridwidth\": 2, \"linecolor\": \"#EBF0F8\", \"showbackground\": true, \"ticks\": \"\", \"zerolinecolor\": \"#EBF0F8\"}, \"yaxis\": {\"backgroundcolor\": \"white\", \"gridcolor\": \"#DFE8F3\", \"gridwidth\": 2, \"linecolor\": \"#EBF0F8\", \"showbackground\": true, \"ticks\": \"\", \"zerolinecolor\": \"#EBF0F8\"}, \"zaxis\": {\"backgroundcolor\": \"white\", \"gridcolor\": \"#DFE8F3\", \"gridwidth\": 2, \"linecolor\": \"#EBF0F8\", \"showbackground\": true, \"ticks\": \"\", \"zerolinecolor\": \"#EBF0F8\"}}, \"shapedefaults\": {\"line\": {\"color\": \"#2a3f5f\"}}, \"ternary\": {\"aaxis\": {\"gridcolor\": \"#DFE8F3\", \"linecolor\": \"#A2B1C6\", \"ticks\": \"\"}, \"baxis\": {\"gridcolor\": \"#DFE8F3\", \"linecolor\": \"#A2B1C6\", \"ticks\": \"\"}, \"bgcolor\": \"white\", \"caxis\": {\"gridcolor\": \"#DFE8F3\", \"linecolor\": \"#A2B1C6\", \"ticks\": \"\"}}, \"title\": {\"x\": 0.05}, \"xaxis\": {\"automargin\": true, \"gridcolor\": \"#EBF0F8\", \"linecolor\": \"#EBF0F8\", \"ticks\": \"\", \"title\": {\"standoff\": 15}, \"zerolinecolor\": \"#EBF0F8\", \"zerolinewidth\": 2}, \"yaxis\": {\"automargin\": true, \"gridcolor\": \"#EBF0F8\", \"linecolor\": \"#EBF0F8\", \"ticks\": \"\", \"title\": {\"standoff\": 15}, \"zerolinecolor\": \"#EBF0F8\", \"zerolinewidth\": 2}}}, \"title\": {\"text\": \"Sentiment and Emotions - 2000 to 2010\"}, \"xaxis\": {\"showgrid\": false, \"title\": {\"text\": \"Popular Genres\"}}, \"yaxis\": {\"showgrid\": false, \"title\": {\"text\": \"Percentage of words\"}}},\n",
       "                        {\"responsive\": true}\n",
       "                    ).then(function(){\n",
       "                            \n",
       "var gd = document.getElementById('7017992f-9028-4eb5-937c-4e93308f097a');\n",
       "var x = new MutationObserver(function (mutations, observer) {{\n",
       "        var display = window.getComputedStyle(gd).display;\n",
       "        if (!display || display === 'none') {{\n",
       "            console.log([gd, 'removed!']);\n",
       "            Plotly.purge(gd);\n",
       "            observer.disconnect();\n",
       "        }}\n",
       "}});\n",
       "\n",
       "// Listen for the removal of the full notebook cells\n",
       "var notebookContainer = gd.closest('#notebook-container');\n",
       "if (notebookContainer) {{\n",
       "    x.observe(notebookContainer, {childList: true});\n",
       "}}\n",
       "\n",
       "// Listen for the clearing of the current output cell\n",
       "var outputEl = gd.closest('.output');\n",
       "if (outputEl) {{\n",
       "    x.observe(outputEl, {childList: true});\n",
       "}}\n",
       "\n",
       "                        })\n",
       "                };\n",
       "                });\n",
       "            </script>\n",
       "        </div>"
      ]
     },
     "metadata": {},
     "output_type": "display_data"
    }
   ],
   "source": [
    "# Create a grouped bar graph of sentiments for the 1st decade\n",
    "genre_dict1 = decade_list[0]\n",
    "fig = go.Figure()\n",
    "fig.add_trace(go.Bar(name='positive', x=genre_dict[\"genre\"], y=genre_dict1[\"positive\"], marker={'color': 'rgb(86, 80, 250)'}))\n",
    "fig.add_trace(go.Bar(name='negative', x=genre_dict[\"genre\"], y=genre_dict1[\"negative\"], marker={'color': 'rgb(252, 65, 58)'}))\n",
    "fig.add_trace(go.Bar(name='joy', x=genre_dict[\"genre\"], y=genre_dict1[\"joy\"], marker={'color': 'rgb(0, 114, 90)'}))\n",
    "fig.add_trace(go.Bar(name='anticipation', x=genre_dict[\"genre\"], y=genre_dict1[\"anticipation\"], marker={'color': 'rgb(248, 100, 15)'}))\n",
    "fig.add_trace(go.Bar(name='trust', x=genre_dict[\"genre\"], y=genre_dict1[\"trust\"], marker={'color': 'rgb(246, 214, 117)'}))\n",
    "fig.add_trace(go.Bar(name='sadness', x=genre_dict[\"genre\"], y=genre_dict1[\"sadness\"], marker={'color': 'rgb(142, 189, 248)'}))\n",
    "fig.add_trace(go.Bar(name='fear', x=genre_dict[\"genre\"], y=genre_dict1[\"fear\"], marker={'color': 'rgb(255, 123, 179)'}))\n",
    "fig.add_trace(go.Bar(name='anger', x=genre_dict[\"genre\"], y=genre_dict1[\"anger\"], marker={'color': 'rgb(0, 214, 101)'}))\n",
    "fig.add_trace(go.Bar(name='surprise', x=genre_dict[\"genre\"], y=genre_dict1[\"surprise\"], marker={'color': 'rgb(255, 166, 0)'}))\n",
    "fig.add_trace(go.Bar(name='disgust', x=genre_dict[\"genre\"], y=genre_dict1[\"disgust\"], marker={'color': 'rgb(0, 204, 236)'}))\n",
    "\n",
    "# Change the graph layout\n",
    "fig.update_layout(\n",
    "    barmode='group',\n",
    "    title=\"Sentiment and Emotions - 2000 to 2010\",\n",
    "    xaxis_title=\"Popular Genres\",\n",
    "    yaxis_title=\"Percentage of words\",\n",
    "    xaxis=dict(showgrid=False),\n",
    "    yaxis=dict(showgrid=False),\n",
    "    template=\"plotly_white\"\n",
    ")\n",
    "fig.show()"
   ]
  },
  {
   "cell_type": "markdown",
   "metadata": {},
   "source": [
    "#### The above graph shows us the sentiments and emotions associated with songs from the year 2000 to 2019, according to some popular genres. As can be guessed, negative sentiment is highly associated with genres like Hip Hop/Rap, Rock and Alternative whereas Dance and Electronic genres have more of a positive sentiment associated with them.\n",
    "#### Positive sentiment and emotion - joy dominates in Latin genre whereas sadness dominates the songs of the Alternative genre. Anger is an emotion found the most frequently in the Hip Hop/Rap genre, which can be verified from this graph."
   ]
  },
  {
   "cell_type": "code",
   "execution_count": 86,
   "metadata": {},
   "outputs": [
    {
     "data": {
      "application/vnd.plotly.v1+json": {
       "config": {
        "plotlyServerURL": "https://plot.ly"
       },
       "data": [
        {
         "marker": {
          "color": "rgb(86, 80, 250)"
         },
         "name": "positive",
         "type": "bar",
         "x": [
          "Alternative",
          "Dance",
          "Electronic",
          "Hip Hop/Rap",
          "Latin",
          "Pop",
          "Rock",
          "World"
         ],
         "y": [
          18.07,
          19.66,
          19.56,
          16.97,
          22.75,
          20.74,
          18.24,
          22.4
         ]
        },
        {
         "marker": {
          "color": "rgb(252, 65, 58)"
         },
         "name": "negative",
         "type": "bar",
         "x": [
          "Alternative",
          "Dance",
          "Electronic",
          "Hip Hop/Rap",
          "Latin",
          "Pop",
          "Rock",
          "World"
         ],
         "y": [
          21.68,
          16.79,
          16.89,
          19.62,
          19.31,
          16.43,
          20.87,
          19.66
         ]
        },
        {
         "marker": {
          "color": "rgb(0, 114, 90)"
         },
         "name": "joy",
         "type": "bar",
         "x": [
          "Alternative",
          "Dance",
          "Electronic",
          "Hip Hop/Rap",
          "Latin",
          "Pop",
          "Rock",
          "World"
         ],
         "y": [
          10.54,
          12.93,
          13.33,
          8.82,
          14.07,
          12.85,
          10.95,
          13.03
         ]
        },
        {
         "marker": {
          "color": "rgb(248, 100, 15)"
         },
         "name": "anticipation",
         "type": "bar",
         "x": [
          "Alternative",
          "Dance",
          "Electronic",
          "Hip Hop/Rap",
          "Latin",
          "Pop",
          "Rock",
          "World"
         ],
         "y": [
          11.17,
          10.77,
          12.89,
          9.17,
          12.2,
          11.9,
          11.09,
          13.37
         ]
        },
        {
         "marker": {
          "color": "rgb(246, 214, 117)"
         },
         "name": "trust",
         "type": "bar",
         "x": [
          "Alternative",
          "Dance",
          "Electronic",
          "Hip Hop/Rap",
          "Latin",
          "Pop",
          "Rock",
          "World"
         ],
         "y": [
          11.46,
          11.94,
          11.56,
          10.93,
          11.98,
          11.84,
          11.59,
          11.31
         ]
        },
        {
         "marker": {
          "color": "rgb(142, 189, 248)"
         },
         "name": "sadness",
         "type": "bar",
         "x": [
          "Alternative",
          "Dance",
          "Electronic",
          "Hip Hop/Rap",
          "Latin",
          "Pop",
          "Rock",
          "World"
         ],
         "y": [
          12.87,
          8.35,
          10.67,
          9.72,
          12.57,
          9.46,
          12.51,
          10.86
         ]
        },
        {
         "marker": {
          "color": "rgb(255, 123, 179)"
         },
         "name": "fear",
         "type": "bar",
         "x": [
          "Alternative",
          "Dance",
          "Electronic",
          "Hip Hop/Rap",
          "Latin",
          "Pop",
          "Rock",
          "World"
         ],
         "y": [
          12.38,
          9.25,
          6.67,
          10.45,
          10.63,
          8.63,
          11.79,
          9.37
         ]
        },
        {
         "marker": {
          "color": "rgb(0, 214, 101)"
         },
         "name": "anger",
         "type": "bar",
         "x": [
          "Alternative",
          "Dance",
          "Electronic",
          "Hip Hop/Rap",
          "Latin",
          "Pop",
          "Rock",
          "World"
         ],
         "y": [
          8.95,
          8.53,
          7.56,
          10.09,
          6.51,
          7.14,
          9.66,
          8.34
         ]
        },
        {
         "marker": {
          "color": "rgb(255, 166, 0)"
         },
         "name": "surprise",
         "type": "bar",
         "x": [
          "Alternative",
          "Dance",
          "Electronic",
          "Hip Hop/Rap",
          "Latin",
          "Pop",
          "Rock",
          "World"
         ],
         "y": [
          5.87,
          7.72,
          5.78,
          5.9,
          6.66,
          6.77,
          6.48,
          5.83
         ]
        },
        {
         "marker": {
          "color": "rgb(0, 204, 236)"
         },
         "name": "disgust",
         "type": "bar",
         "x": [
          "Alternative",
          "Dance",
          "Electronic",
          "Hip Hop/Rap",
          "Latin",
          "Pop",
          "Rock",
          "World"
         ],
         "y": [
          7.04,
          5.21,
          4.89,
          6.78,
          3.52,
          5.05,
          6.45,
          5.71
         ]
        }
       ],
       "layout": {
        "barmode": "group",
        "template": {
         "data": {
          "bar": [
           {
            "error_x": {
             "color": "#2a3f5f"
            },
            "error_y": {
             "color": "#2a3f5f"
            },
            "marker": {
             "line": {
              "color": "white",
              "width": 0.5
             }
            },
            "type": "bar"
           }
          ],
          "barpolar": [
           {
            "marker": {
             "line": {
              "color": "white",
              "width": 0.5
             }
            },
            "type": "barpolar"
           }
          ],
          "carpet": [
           {
            "aaxis": {
             "endlinecolor": "#2a3f5f",
             "gridcolor": "#C8D4E3",
             "linecolor": "#C8D4E3",
             "minorgridcolor": "#C8D4E3",
             "startlinecolor": "#2a3f5f"
            },
            "baxis": {
             "endlinecolor": "#2a3f5f",
             "gridcolor": "#C8D4E3",
             "linecolor": "#C8D4E3",
             "minorgridcolor": "#C8D4E3",
             "startlinecolor": "#2a3f5f"
            },
            "type": "carpet"
           }
          ],
          "choropleth": [
           {
            "colorbar": {
             "outlinewidth": 0,
             "ticks": ""
            },
            "type": "choropleth"
           }
          ],
          "contour": [
           {
            "colorbar": {
             "outlinewidth": 0,
             "ticks": ""
            },
            "colorscale": [
             [
              0,
              "#0d0887"
             ],
             [
              0.1111111111111111,
              "#46039f"
             ],
             [
              0.2222222222222222,
              "#7201a8"
             ],
             [
              0.3333333333333333,
              "#9c179e"
             ],
             [
              0.4444444444444444,
              "#bd3786"
             ],
             [
              0.5555555555555556,
              "#d8576b"
             ],
             [
              0.6666666666666666,
              "#ed7953"
             ],
             [
              0.7777777777777778,
              "#fb9f3a"
             ],
             [
              0.8888888888888888,
              "#fdca26"
             ],
             [
              1,
              "#f0f921"
             ]
            ],
            "type": "contour"
           }
          ],
          "contourcarpet": [
           {
            "colorbar": {
             "outlinewidth": 0,
             "ticks": ""
            },
            "type": "contourcarpet"
           }
          ],
          "heatmap": [
           {
            "colorbar": {
             "outlinewidth": 0,
             "ticks": ""
            },
            "colorscale": [
             [
              0,
              "#0d0887"
             ],
             [
              0.1111111111111111,
              "#46039f"
             ],
             [
              0.2222222222222222,
              "#7201a8"
             ],
             [
              0.3333333333333333,
              "#9c179e"
             ],
             [
              0.4444444444444444,
              "#bd3786"
             ],
             [
              0.5555555555555556,
              "#d8576b"
             ],
             [
              0.6666666666666666,
              "#ed7953"
             ],
             [
              0.7777777777777778,
              "#fb9f3a"
             ],
             [
              0.8888888888888888,
              "#fdca26"
             ],
             [
              1,
              "#f0f921"
             ]
            ],
            "type": "heatmap"
           }
          ],
          "heatmapgl": [
           {
            "colorbar": {
             "outlinewidth": 0,
             "ticks": ""
            },
            "colorscale": [
             [
              0,
              "#0d0887"
             ],
             [
              0.1111111111111111,
              "#46039f"
             ],
             [
              0.2222222222222222,
              "#7201a8"
             ],
             [
              0.3333333333333333,
              "#9c179e"
             ],
             [
              0.4444444444444444,
              "#bd3786"
             ],
             [
              0.5555555555555556,
              "#d8576b"
             ],
             [
              0.6666666666666666,
              "#ed7953"
             ],
             [
              0.7777777777777778,
              "#fb9f3a"
             ],
             [
              0.8888888888888888,
              "#fdca26"
             ],
             [
              1,
              "#f0f921"
             ]
            ],
            "type": "heatmapgl"
           }
          ],
          "histogram": [
           {
            "marker": {
             "colorbar": {
              "outlinewidth": 0,
              "ticks": ""
             }
            },
            "type": "histogram"
           }
          ],
          "histogram2d": [
           {
            "colorbar": {
             "outlinewidth": 0,
             "ticks": ""
            },
            "colorscale": [
             [
              0,
              "#0d0887"
             ],
             [
              0.1111111111111111,
              "#46039f"
             ],
             [
              0.2222222222222222,
              "#7201a8"
             ],
             [
              0.3333333333333333,
              "#9c179e"
             ],
             [
              0.4444444444444444,
              "#bd3786"
             ],
             [
              0.5555555555555556,
              "#d8576b"
             ],
             [
              0.6666666666666666,
              "#ed7953"
             ],
             [
              0.7777777777777778,
              "#fb9f3a"
             ],
             [
              0.8888888888888888,
              "#fdca26"
             ],
             [
              1,
              "#f0f921"
             ]
            ],
            "type": "histogram2d"
           }
          ],
          "histogram2dcontour": [
           {
            "colorbar": {
             "outlinewidth": 0,
             "ticks": ""
            },
            "colorscale": [
             [
              0,
              "#0d0887"
             ],
             [
              0.1111111111111111,
              "#46039f"
             ],
             [
              0.2222222222222222,
              "#7201a8"
             ],
             [
              0.3333333333333333,
              "#9c179e"
             ],
             [
              0.4444444444444444,
              "#bd3786"
             ],
             [
              0.5555555555555556,
              "#d8576b"
             ],
             [
              0.6666666666666666,
              "#ed7953"
             ],
             [
              0.7777777777777778,
              "#fb9f3a"
             ],
             [
              0.8888888888888888,
              "#fdca26"
             ],
             [
              1,
              "#f0f921"
             ]
            ],
            "type": "histogram2dcontour"
           }
          ],
          "mesh3d": [
           {
            "colorbar": {
             "outlinewidth": 0,
             "ticks": ""
            },
            "type": "mesh3d"
           }
          ],
          "parcoords": [
           {
            "line": {
             "colorbar": {
              "outlinewidth": 0,
              "ticks": ""
             }
            },
            "type": "parcoords"
           }
          ],
          "pie": [
           {
            "automargin": true,
            "type": "pie"
           }
          ],
          "scatter": [
           {
            "marker": {
             "colorbar": {
              "outlinewidth": 0,
              "ticks": ""
             }
            },
            "type": "scatter"
           }
          ],
          "scatter3d": [
           {
            "line": {
             "colorbar": {
              "outlinewidth": 0,
              "ticks": ""
             }
            },
            "marker": {
             "colorbar": {
              "outlinewidth": 0,
              "ticks": ""
             }
            },
            "type": "scatter3d"
           }
          ],
          "scattercarpet": [
           {
            "marker": {
             "colorbar": {
              "outlinewidth": 0,
              "ticks": ""
             }
            },
            "type": "scattercarpet"
           }
          ],
          "scattergeo": [
           {
            "marker": {
             "colorbar": {
              "outlinewidth": 0,
              "ticks": ""
             }
            },
            "type": "scattergeo"
           }
          ],
          "scattergl": [
           {
            "marker": {
             "colorbar": {
              "outlinewidth": 0,
              "ticks": ""
             }
            },
            "type": "scattergl"
           }
          ],
          "scattermapbox": [
           {
            "marker": {
             "colorbar": {
              "outlinewidth": 0,
              "ticks": ""
             }
            },
            "type": "scattermapbox"
           }
          ],
          "scatterpolar": [
           {
            "marker": {
             "colorbar": {
              "outlinewidth": 0,
              "ticks": ""
             }
            },
            "type": "scatterpolar"
           }
          ],
          "scatterpolargl": [
           {
            "marker": {
             "colorbar": {
              "outlinewidth": 0,
              "ticks": ""
             }
            },
            "type": "scatterpolargl"
           }
          ],
          "scatterternary": [
           {
            "marker": {
             "colorbar": {
              "outlinewidth": 0,
              "ticks": ""
             }
            },
            "type": "scatterternary"
           }
          ],
          "surface": [
           {
            "colorbar": {
             "outlinewidth": 0,
             "ticks": ""
            },
            "colorscale": [
             [
              0,
              "#0d0887"
             ],
             [
              0.1111111111111111,
              "#46039f"
             ],
             [
              0.2222222222222222,
              "#7201a8"
             ],
             [
              0.3333333333333333,
              "#9c179e"
             ],
             [
              0.4444444444444444,
              "#bd3786"
             ],
             [
              0.5555555555555556,
              "#d8576b"
             ],
             [
              0.6666666666666666,
              "#ed7953"
             ],
             [
              0.7777777777777778,
              "#fb9f3a"
             ],
             [
              0.8888888888888888,
              "#fdca26"
             ],
             [
              1,
              "#f0f921"
             ]
            ],
            "type": "surface"
           }
          ],
          "table": [
           {
            "cells": {
             "fill": {
              "color": "#EBF0F8"
             },
             "line": {
              "color": "white"
             }
            },
            "header": {
             "fill": {
              "color": "#C8D4E3"
             },
             "line": {
              "color": "white"
             }
            },
            "type": "table"
           }
          ]
         },
         "layout": {
          "annotationdefaults": {
           "arrowcolor": "#2a3f5f",
           "arrowhead": 0,
           "arrowwidth": 1
          },
          "coloraxis": {
           "colorbar": {
            "outlinewidth": 0,
            "ticks": ""
           }
          },
          "colorscale": {
           "diverging": [
            [
             0,
             "#8e0152"
            ],
            [
             0.1,
             "#c51b7d"
            ],
            [
             0.2,
             "#de77ae"
            ],
            [
             0.3,
             "#f1b6da"
            ],
            [
             0.4,
             "#fde0ef"
            ],
            [
             0.5,
             "#f7f7f7"
            ],
            [
             0.6,
             "#e6f5d0"
            ],
            [
             0.7,
             "#b8e186"
            ],
            [
             0.8,
             "#7fbc41"
            ],
            [
             0.9,
             "#4d9221"
            ],
            [
             1,
             "#276419"
            ]
           ],
           "sequential": [
            [
             0,
             "#0d0887"
            ],
            [
             0.1111111111111111,
             "#46039f"
            ],
            [
             0.2222222222222222,
             "#7201a8"
            ],
            [
             0.3333333333333333,
             "#9c179e"
            ],
            [
             0.4444444444444444,
             "#bd3786"
            ],
            [
             0.5555555555555556,
             "#d8576b"
            ],
            [
             0.6666666666666666,
             "#ed7953"
            ],
            [
             0.7777777777777778,
             "#fb9f3a"
            ],
            [
             0.8888888888888888,
             "#fdca26"
            ],
            [
             1,
             "#f0f921"
            ]
           ],
           "sequentialminus": [
            [
             0,
             "#0d0887"
            ],
            [
             0.1111111111111111,
             "#46039f"
            ],
            [
             0.2222222222222222,
             "#7201a8"
            ],
            [
             0.3333333333333333,
             "#9c179e"
            ],
            [
             0.4444444444444444,
             "#bd3786"
            ],
            [
             0.5555555555555556,
             "#d8576b"
            ],
            [
             0.6666666666666666,
             "#ed7953"
            ],
            [
             0.7777777777777778,
             "#fb9f3a"
            ],
            [
             0.8888888888888888,
             "#fdca26"
            ],
            [
             1,
             "#f0f921"
            ]
           ]
          },
          "colorway": [
           "#636efa",
           "#EF553B",
           "#00cc96",
           "#ab63fa",
           "#FFA15A",
           "#19d3f3",
           "#FF6692",
           "#B6E880",
           "#FF97FF",
           "#FECB52"
          ],
          "font": {
           "color": "#2a3f5f"
          },
          "geo": {
           "bgcolor": "white",
           "lakecolor": "white",
           "landcolor": "white",
           "showlakes": true,
           "showland": true,
           "subunitcolor": "#C8D4E3"
          },
          "hoverlabel": {
           "align": "left"
          },
          "hovermode": "closest",
          "mapbox": {
           "style": "light"
          },
          "paper_bgcolor": "white",
          "plot_bgcolor": "white",
          "polar": {
           "angularaxis": {
            "gridcolor": "#EBF0F8",
            "linecolor": "#EBF0F8",
            "ticks": ""
           },
           "bgcolor": "white",
           "radialaxis": {
            "gridcolor": "#EBF0F8",
            "linecolor": "#EBF0F8",
            "ticks": ""
           }
          },
          "scene": {
           "xaxis": {
            "backgroundcolor": "white",
            "gridcolor": "#DFE8F3",
            "gridwidth": 2,
            "linecolor": "#EBF0F8",
            "showbackground": true,
            "ticks": "",
            "zerolinecolor": "#EBF0F8"
           },
           "yaxis": {
            "backgroundcolor": "white",
            "gridcolor": "#DFE8F3",
            "gridwidth": 2,
            "linecolor": "#EBF0F8",
            "showbackground": true,
            "ticks": "",
            "zerolinecolor": "#EBF0F8"
           },
           "zaxis": {
            "backgroundcolor": "white",
            "gridcolor": "#DFE8F3",
            "gridwidth": 2,
            "linecolor": "#EBF0F8",
            "showbackground": true,
            "ticks": "",
            "zerolinecolor": "#EBF0F8"
           }
          },
          "shapedefaults": {
           "line": {
            "color": "#2a3f5f"
           }
          },
          "ternary": {
           "aaxis": {
            "gridcolor": "#DFE8F3",
            "linecolor": "#A2B1C6",
            "ticks": ""
           },
           "baxis": {
            "gridcolor": "#DFE8F3",
            "linecolor": "#A2B1C6",
            "ticks": ""
           },
           "bgcolor": "white",
           "caxis": {
            "gridcolor": "#DFE8F3",
            "linecolor": "#A2B1C6",
            "ticks": ""
           }
          },
          "title": {
           "x": 0.05
          },
          "xaxis": {
           "automargin": true,
           "gridcolor": "#EBF0F8",
           "linecolor": "#EBF0F8",
           "ticks": "",
           "title": {
            "standoff": 15
           },
           "zerolinecolor": "#EBF0F8",
           "zerolinewidth": 2
          },
          "yaxis": {
           "automargin": true,
           "gridcolor": "#EBF0F8",
           "linecolor": "#EBF0F8",
           "ticks": "",
           "title": {
            "standoff": 15
           },
           "zerolinecolor": "#EBF0F8",
           "zerolinewidth": 2
          }
         }
        },
        "title": {
         "text": "Sentiment and Emotions - 2010 to 2019"
        },
        "xaxis": {
         "showgrid": false,
         "title": {
          "text": "Popular Genres"
         }
        },
        "yaxis": {
         "showgrid": false,
         "title": {
          "text": "Percentage of words"
         }
        }
       }
      },
      "text/html": [
       "<div>\n",
       "        \n",
       "        \n",
       "            <div id=\"42562907-250c-439d-8fa6-a43d5ea339d7\" class=\"plotly-graph-div\" style=\"height:525px; width:100%;\"></div>\n",
       "            <script type=\"text/javascript\">\n",
       "                require([\"plotly\"], function(Plotly) {\n",
       "                    window.PLOTLYENV=window.PLOTLYENV || {};\n",
       "                    \n",
       "                if (document.getElementById(\"42562907-250c-439d-8fa6-a43d5ea339d7\")) {\n",
       "                    Plotly.newPlot(\n",
       "                        '42562907-250c-439d-8fa6-a43d5ea339d7',\n",
       "                        [{\"marker\": {\"color\": \"rgb(86, 80, 250)\"}, \"name\": \"positive\", \"type\": \"bar\", \"x\": [\"Alternative\", \"Dance\", \"Electronic\", \"Hip Hop/Rap\", \"Latin\", \"Pop\", \"Rock\", \"World\"], \"y\": [18.07, 19.66, 19.56, 16.97, 22.75, 20.74, 18.24, 22.4]}, {\"marker\": {\"color\": \"rgb(252, 65, 58)\"}, \"name\": \"negative\", \"type\": \"bar\", \"x\": [\"Alternative\", \"Dance\", \"Electronic\", \"Hip Hop/Rap\", \"Latin\", \"Pop\", \"Rock\", \"World\"], \"y\": [21.68, 16.79, 16.89, 19.62, 19.31, 16.43, 20.87, 19.66]}, {\"marker\": {\"color\": \"rgb(0, 114, 90)\"}, \"name\": \"joy\", \"type\": \"bar\", \"x\": [\"Alternative\", \"Dance\", \"Electronic\", \"Hip Hop/Rap\", \"Latin\", \"Pop\", \"Rock\", \"World\"], \"y\": [10.54, 12.93, 13.33, 8.82, 14.07, 12.85, 10.95, 13.03]}, {\"marker\": {\"color\": \"rgb(248, 100, 15)\"}, \"name\": \"anticipation\", \"type\": \"bar\", \"x\": [\"Alternative\", \"Dance\", \"Electronic\", \"Hip Hop/Rap\", \"Latin\", \"Pop\", \"Rock\", \"World\"], \"y\": [11.17, 10.77, 12.89, 9.17, 12.2, 11.9, 11.09, 13.37]}, {\"marker\": {\"color\": \"rgb(246, 214, 117)\"}, \"name\": \"trust\", \"type\": \"bar\", \"x\": [\"Alternative\", \"Dance\", \"Electronic\", \"Hip Hop/Rap\", \"Latin\", \"Pop\", \"Rock\", \"World\"], \"y\": [11.46, 11.94, 11.56, 10.93, 11.98, 11.84, 11.59, 11.31]}, {\"marker\": {\"color\": \"rgb(142, 189, 248)\"}, \"name\": \"sadness\", \"type\": \"bar\", \"x\": [\"Alternative\", \"Dance\", \"Electronic\", \"Hip Hop/Rap\", \"Latin\", \"Pop\", \"Rock\", \"World\"], \"y\": [12.87, 8.35, 10.67, 9.72, 12.57, 9.46, 12.51, 10.86]}, {\"marker\": {\"color\": \"rgb(255, 123, 179)\"}, \"name\": \"fear\", \"type\": \"bar\", \"x\": [\"Alternative\", \"Dance\", \"Electronic\", \"Hip Hop/Rap\", \"Latin\", \"Pop\", \"Rock\", \"World\"], \"y\": [12.38, 9.25, 6.67, 10.45, 10.63, 8.63, 11.79, 9.37]}, {\"marker\": {\"color\": \"rgb(0, 214, 101)\"}, \"name\": \"anger\", \"type\": \"bar\", \"x\": [\"Alternative\", \"Dance\", \"Electronic\", \"Hip Hop/Rap\", \"Latin\", \"Pop\", \"Rock\", \"World\"], \"y\": [8.95, 8.53, 7.56, 10.09, 6.51, 7.14, 9.66, 8.34]}, {\"marker\": {\"color\": \"rgb(255, 166, 0)\"}, \"name\": \"surprise\", \"type\": \"bar\", \"x\": [\"Alternative\", \"Dance\", \"Electronic\", \"Hip Hop/Rap\", \"Latin\", \"Pop\", \"Rock\", \"World\"], \"y\": [5.87, 7.72, 5.78, 5.9, 6.66, 6.77, 6.48, 5.83]}, {\"marker\": {\"color\": \"rgb(0, 204, 236)\"}, \"name\": \"disgust\", \"type\": \"bar\", \"x\": [\"Alternative\", \"Dance\", \"Electronic\", \"Hip Hop/Rap\", \"Latin\", \"Pop\", \"Rock\", \"World\"], \"y\": [7.04, 5.21, 4.89, 6.78, 3.52, 5.05, 6.45, 5.71]}],\n",
       "                        {\"barmode\": \"group\", \"template\": {\"data\": {\"bar\": [{\"error_x\": {\"color\": \"#2a3f5f\"}, \"error_y\": {\"color\": \"#2a3f5f\"}, \"marker\": {\"line\": {\"color\": \"white\", \"width\": 0.5}}, \"type\": \"bar\"}], \"barpolar\": [{\"marker\": {\"line\": {\"color\": \"white\", \"width\": 0.5}}, \"type\": \"barpolar\"}], \"carpet\": [{\"aaxis\": {\"endlinecolor\": \"#2a3f5f\", \"gridcolor\": \"#C8D4E3\", \"linecolor\": \"#C8D4E3\", \"minorgridcolor\": \"#C8D4E3\", \"startlinecolor\": \"#2a3f5f\"}, \"baxis\": {\"endlinecolor\": \"#2a3f5f\", \"gridcolor\": \"#C8D4E3\", \"linecolor\": \"#C8D4E3\", \"minorgridcolor\": \"#C8D4E3\", \"startlinecolor\": \"#2a3f5f\"}, \"type\": \"carpet\"}], \"choropleth\": [{\"colorbar\": {\"outlinewidth\": 0, \"ticks\": \"\"}, \"type\": \"choropleth\"}], \"contour\": [{\"colorbar\": {\"outlinewidth\": 0, \"ticks\": \"\"}, \"colorscale\": [[0.0, \"#0d0887\"], [0.1111111111111111, \"#46039f\"], [0.2222222222222222, \"#7201a8\"], [0.3333333333333333, \"#9c179e\"], [0.4444444444444444, \"#bd3786\"], [0.5555555555555556, \"#d8576b\"], [0.6666666666666666, \"#ed7953\"], [0.7777777777777778, \"#fb9f3a\"], [0.8888888888888888, \"#fdca26\"], [1.0, \"#f0f921\"]], \"type\": \"contour\"}], \"contourcarpet\": [{\"colorbar\": {\"outlinewidth\": 0, \"ticks\": \"\"}, \"type\": \"contourcarpet\"}], \"heatmap\": [{\"colorbar\": {\"outlinewidth\": 0, \"ticks\": \"\"}, \"colorscale\": [[0.0, \"#0d0887\"], [0.1111111111111111, \"#46039f\"], [0.2222222222222222, \"#7201a8\"], [0.3333333333333333, \"#9c179e\"], [0.4444444444444444, \"#bd3786\"], [0.5555555555555556, \"#d8576b\"], [0.6666666666666666, \"#ed7953\"], [0.7777777777777778, \"#fb9f3a\"], [0.8888888888888888, \"#fdca26\"], [1.0, \"#f0f921\"]], \"type\": \"heatmap\"}], \"heatmapgl\": [{\"colorbar\": {\"outlinewidth\": 0, \"ticks\": \"\"}, \"colorscale\": [[0.0, \"#0d0887\"], [0.1111111111111111, \"#46039f\"], [0.2222222222222222, \"#7201a8\"], [0.3333333333333333, \"#9c179e\"], [0.4444444444444444, \"#bd3786\"], [0.5555555555555556, \"#d8576b\"], [0.6666666666666666, \"#ed7953\"], [0.7777777777777778, \"#fb9f3a\"], [0.8888888888888888, \"#fdca26\"], [1.0, \"#f0f921\"]], \"type\": \"heatmapgl\"}], \"histogram\": [{\"marker\": {\"colorbar\": {\"outlinewidth\": 0, \"ticks\": \"\"}}, \"type\": \"histogram\"}], \"histogram2d\": [{\"colorbar\": {\"outlinewidth\": 0, \"ticks\": \"\"}, \"colorscale\": [[0.0, \"#0d0887\"], [0.1111111111111111, \"#46039f\"], [0.2222222222222222, \"#7201a8\"], [0.3333333333333333, \"#9c179e\"], [0.4444444444444444, \"#bd3786\"], [0.5555555555555556, \"#d8576b\"], [0.6666666666666666, \"#ed7953\"], [0.7777777777777778, \"#fb9f3a\"], [0.8888888888888888, \"#fdca26\"], [1.0, \"#f0f921\"]], \"type\": \"histogram2d\"}], \"histogram2dcontour\": [{\"colorbar\": {\"outlinewidth\": 0, \"ticks\": \"\"}, \"colorscale\": [[0.0, \"#0d0887\"], [0.1111111111111111, \"#46039f\"], [0.2222222222222222, \"#7201a8\"], [0.3333333333333333, \"#9c179e\"], [0.4444444444444444, \"#bd3786\"], [0.5555555555555556, \"#d8576b\"], [0.6666666666666666, \"#ed7953\"], [0.7777777777777778, \"#fb9f3a\"], [0.8888888888888888, \"#fdca26\"], [1.0, \"#f0f921\"]], \"type\": \"histogram2dcontour\"}], \"mesh3d\": [{\"colorbar\": {\"outlinewidth\": 0, \"ticks\": \"\"}, \"type\": \"mesh3d\"}], \"parcoords\": [{\"line\": {\"colorbar\": {\"outlinewidth\": 0, \"ticks\": \"\"}}, \"type\": \"parcoords\"}], \"pie\": [{\"automargin\": true, \"type\": \"pie\"}], \"scatter\": [{\"marker\": {\"colorbar\": {\"outlinewidth\": 0, \"ticks\": \"\"}}, \"type\": \"scatter\"}], \"scatter3d\": [{\"line\": {\"colorbar\": {\"outlinewidth\": 0, \"ticks\": \"\"}}, \"marker\": {\"colorbar\": {\"outlinewidth\": 0, \"ticks\": \"\"}}, \"type\": \"scatter3d\"}], \"scattercarpet\": [{\"marker\": {\"colorbar\": {\"outlinewidth\": 0, \"ticks\": \"\"}}, \"type\": \"scattercarpet\"}], \"scattergeo\": [{\"marker\": {\"colorbar\": {\"outlinewidth\": 0, \"ticks\": \"\"}}, \"type\": \"scattergeo\"}], \"scattergl\": [{\"marker\": {\"colorbar\": {\"outlinewidth\": 0, \"ticks\": \"\"}}, \"type\": \"scattergl\"}], \"scattermapbox\": [{\"marker\": {\"colorbar\": {\"outlinewidth\": 0, \"ticks\": \"\"}}, \"type\": \"scattermapbox\"}], \"scatterpolar\": [{\"marker\": {\"colorbar\": {\"outlinewidth\": 0, \"ticks\": \"\"}}, \"type\": \"scatterpolar\"}], \"scatterpolargl\": [{\"marker\": {\"colorbar\": {\"outlinewidth\": 0, \"ticks\": \"\"}}, \"type\": \"scatterpolargl\"}], \"scatterternary\": [{\"marker\": {\"colorbar\": {\"outlinewidth\": 0, \"ticks\": \"\"}}, \"type\": \"scatterternary\"}], \"surface\": [{\"colorbar\": {\"outlinewidth\": 0, \"ticks\": \"\"}, \"colorscale\": [[0.0, \"#0d0887\"], [0.1111111111111111, \"#46039f\"], [0.2222222222222222, \"#7201a8\"], [0.3333333333333333, \"#9c179e\"], [0.4444444444444444, \"#bd3786\"], [0.5555555555555556, \"#d8576b\"], [0.6666666666666666, \"#ed7953\"], [0.7777777777777778, \"#fb9f3a\"], [0.8888888888888888, \"#fdca26\"], [1.0, \"#f0f921\"]], \"type\": \"surface\"}], \"table\": [{\"cells\": {\"fill\": {\"color\": \"#EBF0F8\"}, \"line\": {\"color\": \"white\"}}, \"header\": {\"fill\": {\"color\": \"#C8D4E3\"}, \"line\": {\"color\": \"white\"}}, \"type\": \"table\"}]}, \"layout\": {\"annotationdefaults\": {\"arrowcolor\": \"#2a3f5f\", \"arrowhead\": 0, \"arrowwidth\": 1}, \"coloraxis\": {\"colorbar\": {\"outlinewidth\": 0, \"ticks\": \"\"}}, \"colorscale\": {\"diverging\": [[0, \"#8e0152\"], [0.1, \"#c51b7d\"], [0.2, \"#de77ae\"], [0.3, \"#f1b6da\"], [0.4, \"#fde0ef\"], [0.5, \"#f7f7f7\"], [0.6, \"#e6f5d0\"], [0.7, \"#b8e186\"], [0.8, \"#7fbc41\"], [0.9, \"#4d9221\"], [1, \"#276419\"]], \"sequential\": [[0.0, \"#0d0887\"], [0.1111111111111111, \"#46039f\"], [0.2222222222222222, \"#7201a8\"], [0.3333333333333333, \"#9c179e\"], [0.4444444444444444, \"#bd3786\"], [0.5555555555555556, \"#d8576b\"], [0.6666666666666666, \"#ed7953\"], [0.7777777777777778, \"#fb9f3a\"], [0.8888888888888888, \"#fdca26\"], [1.0, \"#f0f921\"]], \"sequentialminus\": [[0.0, \"#0d0887\"], [0.1111111111111111, \"#46039f\"], [0.2222222222222222, \"#7201a8\"], [0.3333333333333333, \"#9c179e\"], [0.4444444444444444, \"#bd3786\"], [0.5555555555555556, \"#d8576b\"], [0.6666666666666666, \"#ed7953\"], [0.7777777777777778, \"#fb9f3a\"], [0.8888888888888888, \"#fdca26\"], [1.0, \"#f0f921\"]]}, \"colorway\": [\"#636efa\", \"#EF553B\", \"#00cc96\", \"#ab63fa\", \"#FFA15A\", \"#19d3f3\", \"#FF6692\", \"#B6E880\", \"#FF97FF\", \"#FECB52\"], \"font\": {\"color\": \"#2a3f5f\"}, \"geo\": {\"bgcolor\": \"white\", \"lakecolor\": \"white\", \"landcolor\": \"white\", \"showlakes\": true, \"showland\": true, \"subunitcolor\": \"#C8D4E3\"}, \"hoverlabel\": {\"align\": \"left\"}, \"hovermode\": \"closest\", \"mapbox\": {\"style\": \"light\"}, \"paper_bgcolor\": \"white\", \"plot_bgcolor\": \"white\", \"polar\": {\"angularaxis\": {\"gridcolor\": \"#EBF0F8\", \"linecolor\": \"#EBF0F8\", \"ticks\": \"\"}, \"bgcolor\": \"white\", \"radialaxis\": {\"gridcolor\": \"#EBF0F8\", \"linecolor\": \"#EBF0F8\", \"ticks\": \"\"}}, \"scene\": {\"xaxis\": {\"backgroundcolor\": \"white\", \"gridcolor\": \"#DFE8F3\", \"gridwidth\": 2, \"linecolor\": \"#EBF0F8\", \"showbackground\": true, \"ticks\": \"\", \"zerolinecolor\": \"#EBF0F8\"}, \"yaxis\": {\"backgroundcolor\": \"white\", \"gridcolor\": \"#DFE8F3\", \"gridwidth\": 2, \"linecolor\": \"#EBF0F8\", \"showbackground\": true, \"ticks\": \"\", \"zerolinecolor\": \"#EBF0F8\"}, \"zaxis\": {\"backgroundcolor\": \"white\", \"gridcolor\": \"#DFE8F3\", \"gridwidth\": 2, \"linecolor\": \"#EBF0F8\", \"showbackground\": true, \"ticks\": \"\", \"zerolinecolor\": \"#EBF0F8\"}}, \"shapedefaults\": {\"line\": {\"color\": \"#2a3f5f\"}}, \"ternary\": {\"aaxis\": {\"gridcolor\": \"#DFE8F3\", \"linecolor\": \"#A2B1C6\", \"ticks\": \"\"}, \"baxis\": {\"gridcolor\": \"#DFE8F3\", \"linecolor\": \"#A2B1C6\", \"ticks\": \"\"}, \"bgcolor\": \"white\", \"caxis\": {\"gridcolor\": \"#DFE8F3\", \"linecolor\": \"#A2B1C6\", \"ticks\": \"\"}}, \"title\": {\"x\": 0.05}, \"xaxis\": {\"automargin\": true, \"gridcolor\": \"#EBF0F8\", \"linecolor\": \"#EBF0F8\", \"ticks\": \"\", \"title\": {\"standoff\": 15}, \"zerolinecolor\": \"#EBF0F8\", \"zerolinewidth\": 2}, \"yaxis\": {\"automargin\": true, \"gridcolor\": \"#EBF0F8\", \"linecolor\": \"#EBF0F8\", \"ticks\": \"\", \"title\": {\"standoff\": 15}, \"zerolinecolor\": \"#EBF0F8\", \"zerolinewidth\": 2}}}, \"title\": {\"text\": \"Sentiment and Emotions - 2010 to 2019\"}, \"xaxis\": {\"showgrid\": false, \"title\": {\"text\": \"Popular Genres\"}}, \"yaxis\": {\"showgrid\": false, \"title\": {\"text\": \"Percentage of words\"}}},\n",
       "                        {\"responsive\": true}\n",
       "                    ).then(function(){\n",
       "                            \n",
       "var gd = document.getElementById('42562907-250c-439d-8fa6-a43d5ea339d7');\n",
       "var x = new MutationObserver(function (mutations, observer) {{\n",
       "        var display = window.getComputedStyle(gd).display;\n",
       "        if (!display || display === 'none') {{\n",
       "            console.log([gd, 'removed!']);\n",
       "            Plotly.purge(gd);\n",
       "            observer.disconnect();\n",
       "        }}\n",
       "}});\n",
       "\n",
       "// Listen for the removal of the full notebook cells\n",
       "var notebookContainer = gd.closest('#notebook-container');\n",
       "if (notebookContainer) {{\n",
       "    x.observe(notebookContainer, {childList: true});\n",
       "}}\n",
       "\n",
       "// Listen for the clearing of the current output cell\n",
       "var outputEl = gd.closest('.output');\n",
       "if (outputEl) {{\n",
       "    x.observe(outputEl, {childList: true});\n",
       "}}\n",
       "\n",
       "                        })\n",
       "                };\n",
       "                });\n",
       "            </script>\n",
       "        </div>"
      ]
     },
     "metadata": {},
     "output_type": "display_data"
    }
   ],
   "source": [
    "# Create a grouped bar graph of sentiments for the 2nd decade\n",
    "genre_dict2 = decade_list[1]\n",
    "fig = go.Figure()\n",
    "fig.add_trace(go.Bar(name='positive', x=genre_dict[\"genre\"], y=genre_dict1[\"positive\"], marker={'color': 'rgb(86, 80, 250)'}))\n",
    "fig.add_trace(go.Bar(name='negative', x=genre_dict[\"genre\"], y=genre_dict1[\"negative\"], marker={'color': 'rgb(252, 65, 58)'}))\n",
    "fig.add_trace(go.Bar(name='joy', x=genre_dict[\"genre\"], y=genre_dict1[\"joy\"], marker={'color': 'rgb(0, 114, 90)'}))\n",
    "fig.add_trace(go.Bar(name='anticipation', x=genre_dict[\"genre\"], y=genre_dict1[\"anticipation\"], marker={'color': 'rgb(248, 100, 15)'}))\n",
    "fig.add_trace(go.Bar(name='trust', x=genre_dict[\"genre\"], y=genre_dict1[\"trust\"], marker={'color': 'rgb(246, 214, 117)'}))\n",
    "fig.add_trace(go.Bar(name='sadness', x=genre_dict[\"genre\"], y=genre_dict1[\"sadness\"], marker={'color': 'rgb(142, 189, 248)'}))\n",
    "fig.add_trace(go.Bar(name='fear', x=genre_dict[\"genre\"], y=genre_dict1[\"fear\"], marker={'color': 'rgb(255, 123, 179)'}))\n",
    "fig.add_trace(go.Bar(name='anger', x=genre_dict[\"genre\"], y=genre_dict1[\"anger\"], marker={'color': 'rgb(0, 214, 101)'}))\n",
    "fig.add_trace(go.Bar(name='surprise', x=genre_dict[\"genre\"], y=genre_dict1[\"surprise\"], marker={'color': 'rgb(255, 166, 0)'}))\n",
    "fig.add_trace(go.Bar(name='disgust', x=genre_dict[\"genre\"], y=genre_dict1[\"disgust\"], marker={'color': 'rgb(0, 204, 236)'}))\n",
    "\n",
    "# Change the graph layout\n",
    "fig.update_layout(\n",
    "    barmode='group',\n",
    "    title=\"Sentiment and Emotions - 2010 to 2019\",\n",
    "    xaxis_title=\"Popular Genres\",\n",
    "    yaxis_title=\"Percentage of words\",\n",
    "    xaxis=dict(showgrid=False),\n",
    "    yaxis=dict(showgrid=False),\n",
    "    template=\"plotly_white\"\n",
    ")\n",
    "fig.show()"
   ]
  },
  {
   "cell_type": "markdown",
   "metadata": {},
   "source": [
    "#### The above graph shows us the same results as the earlier graph for the years 2010 to 2019. Comparing the 2 graphs we can conclude that the trend over the years has not changed by much. However, overall we can se a slight decrease in the negative sentiments across the genres, except for Hip Hop/Rap where the negativity has increased. Furthermore, the positive sentiment has slightly increased in the second decade as compared to the first decade."
   ]
  },
  {
   "cell_type": "code",
   "execution_count": 18,
   "metadata": {},
   "outputs": [
    {
     "data": {
      "text/html": [
       "<div>\n",
       "<style scoped>\n",
       "    .dataframe tbody tr th:only-of-type {\n",
       "        vertical-align: middle;\n",
       "    }\n",
       "\n",
       "    .dataframe tbody tr th {\n",
       "        vertical-align: top;\n",
       "    }\n",
       "\n",
       "    .dataframe thead th {\n",
       "        text-align: right;\n",
       "    }\n",
       "</style>\n",
       "<table border=\"1\" class=\"dataframe\">\n",
       "  <thead>\n",
       "    <tr style=\"text-align: right;\">\n",
       "      <th></th>\n",
       "      <th>negative</th>\n",
       "      <th>positive</th>\n",
       "      <th>joy</th>\n",
       "      <th>trust</th>\n",
       "      <th>fear</th>\n",
       "      <th>sadness</th>\n",
       "      <th>anticipation</th>\n",
       "      <th>anger</th>\n",
       "      <th>disgust</th>\n",
       "      <th>surprise</th>\n",
       "    </tr>\n",
       "  </thead>\n",
       "  <tbody>\n",
       "    <tr>\n",
       "      <th>2000</th>\n",
       "      <td>20.359450</td>\n",
       "      <td>18.899186</td>\n",
       "      <td>11.092390</td>\n",
       "      <td>10.783488</td>\n",
       "      <td>10.586914</td>\n",
       "      <td>10.278012</td>\n",
       "      <td>10.193766</td>\n",
       "      <td>9.856782</td>\n",
       "      <td>7.329402</td>\n",
       "      <td>5.869138</td>\n",
       "    </tr>\n",
       "    <tr>\n",
       "      <th>2001</th>\n",
       "      <td>17.954298</td>\n",
       "      <td>19.695321</td>\n",
       "      <td>11.679362</td>\n",
       "      <td>11.824447</td>\n",
       "      <td>10.337323</td>\n",
       "      <td>11.062749</td>\n",
       "      <td>11.606819</td>\n",
       "      <td>7.544432</td>\n",
       "      <td>5.259340</td>\n",
       "      <td>5.948495</td>\n",
       "    </tr>\n",
       "    <tr>\n",
       "      <th>2002</th>\n",
       "      <td>19.637166</td>\n",
       "      <td>19.759745</td>\n",
       "      <td>10.983084</td>\n",
       "      <td>11.154695</td>\n",
       "      <td>10.762442</td>\n",
       "      <td>10.492768</td>\n",
       "      <td>11.203726</td>\n",
       "      <td>8.948272</td>\n",
       "      <td>6.447659</td>\n",
       "      <td>5.981858</td>\n",
       "    </tr>\n",
       "    <tr>\n",
       "      <th>2003</th>\n",
       "      <td>20.045645</td>\n",
       "      <td>19.969570</td>\n",
       "      <td>12.818562</td>\n",
       "      <td>13.198935</td>\n",
       "      <td>10.460251</td>\n",
       "      <td>12.742488</td>\n",
       "      <td>12.894637</td>\n",
       "      <td>8.900723</td>\n",
       "      <td>6.390262</td>\n",
       "      <td>7.074933</td>\n",
       "    </tr>\n",
       "    <tr>\n",
       "      <th>2004</th>\n",
       "      <td>20.236143</td>\n",
       "      <td>19.088226</td>\n",
       "      <td>11.315185</td>\n",
       "      <td>11.708757</td>\n",
       "      <td>10.134470</td>\n",
       "      <td>12.594293</td>\n",
       "      <td>10.856018</td>\n",
       "      <td>8.560184</td>\n",
       "      <td>6.100361</td>\n",
       "      <td>6.329944</td>\n",
       "    </tr>\n",
       "    <tr>\n",
       "      <th>2005</th>\n",
       "      <td>16.319789</td>\n",
       "      <td>20.350182</td>\n",
       "      <td>12.256359</td>\n",
       "      <td>12.025107</td>\n",
       "      <td>8.688470</td>\n",
       "      <td>9.283119</td>\n",
       "      <td>10.439379</td>\n",
       "      <td>7.565246</td>\n",
       "      <td>5.583086</td>\n",
       "      <td>6.574166</td>\n",
       "    </tr>\n",
       "    <tr>\n",
       "      <th>2006</th>\n",
       "      <td>16.995074</td>\n",
       "      <td>19.802956</td>\n",
       "      <td>12.561576</td>\n",
       "      <td>11.822660</td>\n",
       "      <td>9.162562</td>\n",
       "      <td>10.541872</td>\n",
       "      <td>11.231527</td>\n",
       "      <td>7.438424</td>\n",
       "      <td>4.926108</td>\n",
       "      <td>7.389163</td>\n",
       "    </tr>\n",
       "    <tr>\n",
       "      <th>2007</th>\n",
       "      <td>17.297297</td>\n",
       "      <td>20.540541</td>\n",
       "      <td>12.635135</td>\n",
       "      <td>12.128378</td>\n",
       "      <td>10.337838</td>\n",
       "      <td>10.236486</td>\n",
       "      <td>12.229730</td>\n",
       "      <td>7.364865</td>\n",
       "      <td>5.067568</td>\n",
       "      <td>6.452703</td>\n",
       "    </tr>\n",
       "    <tr>\n",
       "      <th>2008</th>\n",
       "      <td>18.728457</td>\n",
       "      <td>21.983914</td>\n",
       "      <td>13.941019</td>\n",
       "      <td>12.868633</td>\n",
       "      <td>10.302566</td>\n",
       "      <td>11.681348</td>\n",
       "      <td>12.447338</td>\n",
       "      <td>8.310992</td>\n",
       "      <td>5.208732</td>\n",
       "      <td>6.932210</td>\n",
       "    </tr>\n",
       "    <tr>\n",
       "      <th>2009</th>\n",
       "      <td>16.539609</td>\n",
       "      <td>19.224395</td>\n",
       "      <td>12.164402</td>\n",
       "      <td>11.634074</td>\n",
       "      <td>8.783560</td>\n",
       "      <td>8.949287</td>\n",
       "      <td>11.468346</td>\n",
       "      <td>7.358303</td>\n",
       "      <td>4.872390</td>\n",
       "      <td>6.430229</td>\n",
       "    </tr>\n",
       "    <tr>\n",
       "      <th>2010</th>\n",
       "      <td>16.760475</td>\n",
       "      <td>21.388368</td>\n",
       "      <td>12.476548</td>\n",
       "      <td>11.913696</td>\n",
       "      <td>9.443402</td>\n",
       "      <td>9.881176</td>\n",
       "      <td>11.131957</td>\n",
       "      <td>7.504690</td>\n",
       "      <td>5.096936</td>\n",
       "      <td>6.597874</td>\n",
       "    </tr>\n",
       "    <tr>\n",
       "      <th>2011</th>\n",
       "      <td>16.920990</td>\n",
       "      <td>21.736182</td>\n",
       "      <td>13.123093</td>\n",
       "      <td>12.207528</td>\n",
       "      <td>9.732113</td>\n",
       "      <td>10.613767</td>\n",
       "      <td>11.020685</td>\n",
       "      <td>7.188878</td>\n",
       "      <td>4.713462</td>\n",
       "      <td>6.883689</td>\n",
       "    </tr>\n",
       "    <tr>\n",
       "      <th>2012</th>\n",
       "      <td>16.650839</td>\n",
       "      <td>19.943020</td>\n",
       "      <td>11.744223</td>\n",
       "      <td>11.522634</td>\n",
       "      <td>9.559987</td>\n",
       "      <td>9.623299</td>\n",
       "      <td>11.522634</td>\n",
       "      <td>7.913897</td>\n",
       "      <td>4.938272</td>\n",
       "      <td>6.014562</td>\n",
       "    </tr>\n",
       "    <tr>\n",
       "      <th>2013</th>\n",
       "      <td>18.018018</td>\n",
       "      <td>21.185702</td>\n",
       "      <td>12.932287</td>\n",
       "      <td>11.827957</td>\n",
       "      <td>10.345830</td>\n",
       "      <td>10.345830</td>\n",
       "      <td>12.321999</td>\n",
       "      <td>8.834641</td>\n",
       "      <td>5.666957</td>\n",
       "      <td>7.381575</td>\n",
       "    </tr>\n",
       "    <tr>\n",
       "      <th>2014</th>\n",
       "      <td>18.271370</td>\n",
       "      <td>20.686368</td>\n",
       "      <td>13.314268</td>\n",
       "      <td>11.820782</td>\n",
       "      <td>10.263743</td>\n",
       "      <td>10.009533</td>\n",
       "      <td>11.503019</td>\n",
       "      <td>8.643152</td>\n",
       "      <td>5.751509</td>\n",
       "      <td>6.863680</td>\n",
       "    </tr>\n",
       "    <tr>\n",
       "      <th>2015</th>\n",
       "      <td>17.207891</td>\n",
       "      <td>21.820941</td>\n",
       "      <td>13.050076</td>\n",
       "      <td>13.353566</td>\n",
       "      <td>9.468892</td>\n",
       "      <td>9.104704</td>\n",
       "      <td>11.350531</td>\n",
       "      <td>7.951442</td>\n",
       "      <td>5.857360</td>\n",
       "      <td>6.342944</td>\n",
       "    </tr>\n",
       "    <tr>\n",
       "      <th>2016</th>\n",
       "      <td>18.032213</td>\n",
       "      <td>22.408964</td>\n",
       "      <td>14.110644</td>\n",
       "      <td>12.464986</td>\n",
       "      <td>10.504202</td>\n",
       "      <td>10.469188</td>\n",
       "      <td>12.464986</td>\n",
       "      <td>8.473389</td>\n",
       "      <td>5.637255</td>\n",
       "      <td>6.512605</td>\n",
       "    </tr>\n",
       "    <tr>\n",
       "      <th>2017</th>\n",
       "      <td>17.291415</td>\n",
       "      <td>22.037485</td>\n",
       "      <td>13.966143</td>\n",
       "      <td>13.059250</td>\n",
       "      <td>8.192261</td>\n",
       "      <td>9.794438</td>\n",
       "      <td>10.852479</td>\n",
       "      <td>7.708585</td>\n",
       "      <td>4.866989</td>\n",
       "      <td>6.741233</td>\n",
       "    </tr>\n",
       "    <tr>\n",
       "      <th>2018</th>\n",
       "      <td>20.084059</td>\n",
       "      <td>19.813870</td>\n",
       "      <td>12.248574</td>\n",
       "      <td>11.678175</td>\n",
       "      <td>12.278595</td>\n",
       "      <td>11.438007</td>\n",
       "      <td>11.407986</td>\n",
       "      <td>9.066346</td>\n",
       "      <td>6.634644</td>\n",
       "      <td>7.355149</td>\n",
       "    </tr>\n",
       "    <tr>\n",
       "      <th>2019</th>\n",
       "      <td>17.989144</td>\n",
       "      <td>19.850090</td>\n",
       "      <td>12.121995</td>\n",
       "      <td>11.760145</td>\n",
       "      <td>10.674593</td>\n",
       "      <td>10.028431</td>\n",
       "      <td>11.062290</td>\n",
       "      <td>8.968726</td>\n",
       "      <td>5.065909</td>\n",
       "      <td>6.073921</td>\n",
       "    </tr>\n",
       "  </tbody>\n",
       "</table>\n",
       "</div>"
      ],
      "text/plain": [
       "       negative   positive        joy      trust       fear    sadness  \\\n",
       "2000  20.359450  18.899186  11.092390  10.783488  10.586914  10.278012   \n",
       "2001  17.954298  19.695321  11.679362  11.824447  10.337323  11.062749   \n",
       "2002  19.637166  19.759745  10.983084  11.154695  10.762442  10.492768   \n",
       "2003  20.045645  19.969570  12.818562  13.198935  10.460251  12.742488   \n",
       "2004  20.236143  19.088226  11.315185  11.708757  10.134470  12.594293   \n",
       "2005  16.319789  20.350182  12.256359  12.025107   8.688470   9.283119   \n",
       "2006  16.995074  19.802956  12.561576  11.822660   9.162562  10.541872   \n",
       "2007  17.297297  20.540541  12.635135  12.128378  10.337838  10.236486   \n",
       "2008  18.728457  21.983914  13.941019  12.868633  10.302566  11.681348   \n",
       "2009  16.539609  19.224395  12.164402  11.634074   8.783560   8.949287   \n",
       "2010  16.760475  21.388368  12.476548  11.913696   9.443402   9.881176   \n",
       "2011  16.920990  21.736182  13.123093  12.207528   9.732113  10.613767   \n",
       "2012  16.650839  19.943020  11.744223  11.522634   9.559987   9.623299   \n",
       "2013  18.018018  21.185702  12.932287  11.827957  10.345830  10.345830   \n",
       "2014  18.271370  20.686368  13.314268  11.820782  10.263743  10.009533   \n",
       "2015  17.207891  21.820941  13.050076  13.353566   9.468892   9.104704   \n",
       "2016  18.032213  22.408964  14.110644  12.464986  10.504202  10.469188   \n",
       "2017  17.291415  22.037485  13.966143  13.059250   8.192261   9.794438   \n",
       "2018  20.084059  19.813870  12.248574  11.678175  12.278595  11.438007   \n",
       "2019  17.989144  19.850090  12.121995  11.760145  10.674593  10.028431   \n",
       "\n",
       "      anticipation     anger   disgust  surprise  \n",
       "2000     10.193766  9.856782  7.329402  5.869138  \n",
       "2001     11.606819  7.544432  5.259340  5.948495  \n",
       "2002     11.203726  8.948272  6.447659  5.981858  \n",
       "2003     12.894637  8.900723  6.390262  7.074933  \n",
       "2004     10.856018  8.560184  6.100361  6.329944  \n",
       "2005     10.439379  7.565246  5.583086  6.574166  \n",
       "2006     11.231527  7.438424  4.926108  7.389163  \n",
       "2007     12.229730  7.364865  5.067568  6.452703  \n",
       "2008     12.447338  8.310992  5.208732  6.932210  \n",
       "2009     11.468346  7.358303  4.872390  6.430229  \n",
       "2010     11.131957  7.504690  5.096936  6.597874  \n",
       "2011     11.020685  7.188878  4.713462  6.883689  \n",
       "2012     11.522634  7.913897  4.938272  6.014562  \n",
       "2013     12.321999  8.834641  5.666957  7.381575  \n",
       "2014     11.503019  8.643152  5.751509  6.863680  \n",
       "2015     11.350531  7.951442  5.857360  6.342944  \n",
       "2016     12.464986  8.473389  5.637255  6.512605  \n",
       "2017     10.852479  7.708585  4.866989  6.741233  \n",
       "2018     11.407986  9.066346  6.634644  7.355149  \n",
       "2019     11.062290  8.968726  5.065909  6.073921  "
      ]
     },
     "execution_count": 18,
     "metadata": {},
     "output_type": "execute_result"
    }
   ],
   "source": [
    "# Initialize a list to store the sentiment percentage words for each year as a dataframe\n",
    "sentiment_list = []\n",
    "year = 2000\n",
    "for pw in pw_by_year:\n",
    "    emolex_df = get_emolex_words(pw)\n",
    "    # Get the frequency of each of the sentiments and emotions\n",
    "    sentiment_sum = emolex_df.sum(skipna = True)\n",
    "    sentiment_sum = sentiment_sum.iloc[1:].sort_values(ascending=False)\n",
    "    # Find the percentage of words used for each sentiment\n",
    "    factor = 100/len(emolex_df.index)\n",
    "    sentiment_percentage = sentiment_sum.multiply(other = factor)\n",
    "    sentiment_list.append(pd.DataFrame([sentiment_percentage.values], index=[year], columns=sentiment_percentage.index))\n",
    "    year = year + 1\n",
    "sentiment_df = pd.concat(sentiment_list, sort=False)\n",
    "sentiment_df"
   ]
  },
  {
   "cell_type": "code",
   "execution_count": 72,
   "metadata": {},
   "outputs": [
    {
     "data": {
      "application/vnd.plotly.v1+json": {
       "config": {
        "plotlyServerURL": "https://plot.ly"
       },
       "data": [
        {
         "marker": {
          "color": "rgb(86, 80, 250)"
         },
         "name": "Positive Sentiments",
         "type": "scatter",
         "x": [
          2000,
          2001,
          2002,
          2003,
          2004,
          2005,
          2006,
          2007,
          2008,
          2009,
          2010,
          2011,
          2012,
          2013,
          2014,
          2015,
          2016,
          2017,
          2018,
          2019
         ],
         "y": [
          19.35194365120392,
          19.41717657412004,
          19.48240949703618,
          19.772608712243095,
          19.794135645030394,
          19.950294746028916,
          20.353163552096934,
          20.3803974414392,
          20.588034647795254,
          20.974679866095855,
          20.85517574659174,
          20.695533270941304,
          20.98792784594732,
          21.074442463865765,
          21.208998829647065,
          21.627891818068473,
          21.35352539365508,
          21.186269892286496,
          20.532590433268386,
          19.87891097425028
         ]
        },
        {
         "marker": {
          "color": "rgb(252, 65, 58)"
         },
         "name": "Negative Sentiments",
         "type": "scatter",
         "x": [
          2000,
          2001,
          2002,
          2003,
          2004,
          2005,
          2006,
          2007,
          2008,
          2009,
          2010,
          2011,
          2012,
          2013,
          2014,
          2015,
          2016,
          2017,
          2018,
          2019
         ],
         "y": [
          19.27759361062144,
          19.462066949767472,
          19.64654028891351,
          18.83860808425947,
          18.646763232551947,
          18.178789497601013,
          17.915351857246595,
          17.176045034305034,
          17.264182379809004,
          17.249365634715485,
          17.120073949868246,
          16.977986247458826,
          17.324338382521457,
          17.413821471819492,
          17.6360660156187,
          17.764181191429696,
          18.17738935606386,
          18.120944340757607,
          18.482379684006556,
          18.843815027255513
         ]
        }
       ],
       "layout": {
        "annotations": [
         {
          "font": {
           "color": "rgb(86, 80, 250)",
           "family": "Arial",
           "size": 16
          },
          "showarrow": false,
          "text": "Positive Sentiments",
          "x": 2019,
          "xanchor": "left",
          "y": 19.87891097425028,
          "yanchor": "middle"
         },
         {
          "font": {
           "color": "rgb(252, 65, 58)",
           "family": "Arial",
           "size": 16
          },
          "showarrow": false,
          "text": "Negative Sentiments",
          "x": 2019,
          "xanchor": "left",
          "y": 18.843815027255513,
          "yanchor": "middle"
         }
        ],
        "showlegend": false,
        "template": {
         "data": {
          "bar": [
           {
            "error_x": {
             "color": "#2a3f5f"
            },
            "error_y": {
             "color": "#2a3f5f"
            },
            "marker": {
             "line": {
              "color": "white",
              "width": 0.5
             }
            },
            "type": "bar"
           }
          ],
          "barpolar": [
           {
            "marker": {
             "line": {
              "color": "white",
              "width": 0.5
             }
            },
            "type": "barpolar"
           }
          ],
          "carpet": [
           {
            "aaxis": {
             "endlinecolor": "#2a3f5f",
             "gridcolor": "#C8D4E3",
             "linecolor": "#C8D4E3",
             "minorgridcolor": "#C8D4E3",
             "startlinecolor": "#2a3f5f"
            },
            "baxis": {
             "endlinecolor": "#2a3f5f",
             "gridcolor": "#C8D4E3",
             "linecolor": "#C8D4E3",
             "minorgridcolor": "#C8D4E3",
             "startlinecolor": "#2a3f5f"
            },
            "type": "carpet"
           }
          ],
          "choropleth": [
           {
            "colorbar": {
             "outlinewidth": 0,
             "ticks": ""
            },
            "type": "choropleth"
           }
          ],
          "contour": [
           {
            "colorbar": {
             "outlinewidth": 0,
             "ticks": ""
            },
            "colorscale": [
             [
              0,
              "#0d0887"
             ],
             [
              0.1111111111111111,
              "#46039f"
             ],
             [
              0.2222222222222222,
              "#7201a8"
             ],
             [
              0.3333333333333333,
              "#9c179e"
             ],
             [
              0.4444444444444444,
              "#bd3786"
             ],
             [
              0.5555555555555556,
              "#d8576b"
             ],
             [
              0.6666666666666666,
              "#ed7953"
             ],
             [
              0.7777777777777778,
              "#fb9f3a"
             ],
             [
              0.8888888888888888,
              "#fdca26"
             ],
             [
              1,
              "#f0f921"
             ]
            ],
            "type": "contour"
           }
          ],
          "contourcarpet": [
           {
            "colorbar": {
             "outlinewidth": 0,
             "ticks": ""
            },
            "type": "contourcarpet"
           }
          ],
          "heatmap": [
           {
            "colorbar": {
             "outlinewidth": 0,
             "ticks": ""
            },
            "colorscale": [
             [
              0,
              "#0d0887"
             ],
             [
              0.1111111111111111,
              "#46039f"
             ],
             [
              0.2222222222222222,
              "#7201a8"
             ],
             [
              0.3333333333333333,
              "#9c179e"
             ],
             [
              0.4444444444444444,
              "#bd3786"
             ],
             [
              0.5555555555555556,
              "#d8576b"
             ],
             [
              0.6666666666666666,
              "#ed7953"
             ],
             [
              0.7777777777777778,
              "#fb9f3a"
             ],
             [
              0.8888888888888888,
              "#fdca26"
             ],
             [
              1,
              "#f0f921"
             ]
            ],
            "type": "heatmap"
           }
          ],
          "heatmapgl": [
           {
            "colorbar": {
             "outlinewidth": 0,
             "ticks": ""
            },
            "colorscale": [
             [
              0,
              "#0d0887"
             ],
             [
              0.1111111111111111,
              "#46039f"
             ],
             [
              0.2222222222222222,
              "#7201a8"
             ],
             [
              0.3333333333333333,
              "#9c179e"
             ],
             [
              0.4444444444444444,
              "#bd3786"
             ],
             [
              0.5555555555555556,
              "#d8576b"
             ],
             [
              0.6666666666666666,
              "#ed7953"
             ],
             [
              0.7777777777777778,
              "#fb9f3a"
             ],
             [
              0.8888888888888888,
              "#fdca26"
             ],
             [
              1,
              "#f0f921"
             ]
            ],
            "type": "heatmapgl"
           }
          ],
          "histogram": [
           {
            "marker": {
             "colorbar": {
              "outlinewidth": 0,
              "ticks": ""
             }
            },
            "type": "histogram"
           }
          ],
          "histogram2d": [
           {
            "colorbar": {
             "outlinewidth": 0,
             "ticks": ""
            },
            "colorscale": [
             [
              0,
              "#0d0887"
             ],
             [
              0.1111111111111111,
              "#46039f"
             ],
             [
              0.2222222222222222,
              "#7201a8"
             ],
             [
              0.3333333333333333,
              "#9c179e"
             ],
             [
              0.4444444444444444,
              "#bd3786"
             ],
             [
              0.5555555555555556,
              "#d8576b"
             ],
             [
              0.6666666666666666,
              "#ed7953"
             ],
             [
              0.7777777777777778,
              "#fb9f3a"
             ],
             [
              0.8888888888888888,
              "#fdca26"
             ],
             [
              1,
              "#f0f921"
             ]
            ],
            "type": "histogram2d"
           }
          ],
          "histogram2dcontour": [
           {
            "colorbar": {
             "outlinewidth": 0,
             "ticks": ""
            },
            "colorscale": [
             [
              0,
              "#0d0887"
             ],
             [
              0.1111111111111111,
              "#46039f"
             ],
             [
              0.2222222222222222,
              "#7201a8"
             ],
             [
              0.3333333333333333,
              "#9c179e"
             ],
             [
              0.4444444444444444,
              "#bd3786"
             ],
             [
              0.5555555555555556,
              "#d8576b"
             ],
             [
              0.6666666666666666,
              "#ed7953"
             ],
             [
              0.7777777777777778,
              "#fb9f3a"
             ],
             [
              0.8888888888888888,
              "#fdca26"
             ],
             [
              1,
              "#f0f921"
             ]
            ],
            "type": "histogram2dcontour"
           }
          ],
          "mesh3d": [
           {
            "colorbar": {
             "outlinewidth": 0,
             "ticks": ""
            },
            "type": "mesh3d"
           }
          ],
          "parcoords": [
           {
            "line": {
             "colorbar": {
              "outlinewidth": 0,
              "ticks": ""
             }
            },
            "type": "parcoords"
           }
          ],
          "pie": [
           {
            "automargin": true,
            "type": "pie"
           }
          ],
          "scatter": [
           {
            "marker": {
             "colorbar": {
              "outlinewidth": 0,
              "ticks": ""
             }
            },
            "type": "scatter"
           }
          ],
          "scatter3d": [
           {
            "line": {
             "colorbar": {
              "outlinewidth": 0,
              "ticks": ""
             }
            },
            "marker": {
             "colorbar": {
              "outlinewidth": 0,
              "ticks": ""
             }
            },
            "type": "scatter3d"
           }
          ],
          "scattercarpet": [
           {
            "marker": {
             "colorbar": {
              "outlinewidth": 0,
              "ticks": ""
             }
            },
            "type": "scattercarpet"
           }
          ],
          "scattergeo": [
           {
            "marker": {
             "colorbar": {
              "outlinewidth": 0,
              "ticks": ""
             }
            },
            "type": "scattergeo"
           }
          ],
          "scattergl": [
           {
            "marker": {
             "colorbar": {
              "outlinewidth": 0,
              "ticks": ""
             }
            },
            "type": "scattergl"
           }
          ],
          "scattermapbox": [
           {
            "marker": {
             "colorbar": {
              "outlinewidth": 0,
              "ticks": ""
             }
            },
            "type": "scattermapbox"
           }
          ],
          "scatterpolar": [
           {
            "marker": {
             "colorbar": {
              "outlinewidth": 0,
              "ticks": ""
             }
            },
            "type": "scatterpolar"
           }
          ],
          "scatterpolargl": [
           {
            "marker": {
             "colorbar": {
              "outlinewidth": 0,
              "ticks": ""
             }
            },
            "type": "scatterpolargl"
           }
          ],
          "scatterternary": [
           {
            "marker": {
             "colorbar": {
              "outlinewidth": 0,
              "ticks": ""
             }
            },
            "type": "scatterternary"
           }
          ],
          "surface": [
           {
            "colorbar": {
             "outlinewidth": 0,
             "ticks": ""
            },
            "colorscale": [
             [
              0,
              "#0d0887"
             ],
             [
              0.1111111111111111,
              "#46039f"
             ],
             [
              0.2222222222222222,
              "#7201a8"
             ],
             [
              0.3333333333333333,
              "#9c179e"
             ],
             [
              0.4444444444444444,
              "#bd3786"
             ],
             [
              0.5555555555555556,
              "#d8576b"
             ],
             [
              0.6666666666666666,
              "#ed7953"
             ],
             [
              0.7777777777777778,
              "#fb9f3a"
             ],
             [
              0.8888888888888888,
              "#fdca26"
             ],
             [
              1,
              "#f0f921"
             ]
            ],
            "type": "surface"
           }
          ],
          "table": [
           {
            "cells": {
             "fill": {
              "color": "#EBF0F8"
             },
             "line": {
              "color": "white"
             }
            },
            "header": {
             "fill": {
              "color": "#C8D4E3"
             },
             "line": {
              "color": "white"
             }
            },
            "type": "table"
           }
          ]
         },
         "layout": {
          "annotationdefaults": {
           "arrowcolor": "#2a3f5f",
           "arrowhead": 0,
           "arrowwidth": 1
          },
          "coloraxis": {
           "colorbar": {
            "outlinewidth": 0,
            "ticks": ""
           }
          },
          "colorscale": {
           "diverging": [
            [
             0,
             "#8e0152"
            ],
            [
             0.1,
             "#c51b7d"
            ],
            [
             0.2,
             "#de77ae"
            ],
            [
             0.3,
             "#f1b6da"
            ],
            [
             0.4,
             "#fde0ef"
            ],
            [
             0.5,
             "#f7f7f7"
            ],
            [
             0.6,
             "#e6f5d0"
            ],
            [
             0.7,
             "#b8e186"
            ],
            [
             0.8,
             "#7fbc41"
            ],
            [
             0.9,
             "#4d9221"
            ],
            [
             1,
             "#276419"
            ]
           ],
           "sequential": [
            [
             0,
             "#0d0887"
            ],
            [
             0.1111111111111111,
             "#46039f"
            ],
            [
             0.2222222222222222,
             "#7201a8"
            ],
            [
             0.3333333333333333,
             "#9c179e"
            ],
            [
             0.4444444444444444,
             "#bd3786"
            ],
            [
             0.5555555555555556,
             "#d8576b"
            ],
            [
             0.6666666666666666,
             "#ed7953"
            ],
            [
             0.7777777777777778,
             "#fb9f3a"
            ],
            [
             0.8888888888888888,
             "#fdca26"
            ],
            [
             1,
             "#f0f921"
            ]
           ],
           "sequentialminus": [
            [
             0,
             "#0d0887"
            ],
            [
             0.1111111111111111,
             "#46039f"
            ],
            [
             0.2222222222222222,
             "#7201a8"
            ],
            [
             0.3333333333333333,
             "#9c179e"
            ],
            [
             0.4444444444444444,
             "#bd3786"
            ],
            [
             0.5555555555555556,
             "#d8576b"
            ],
            [
             0.6666666666666666,
             "#ed7953"
            ],
            [
             0.7777777777777778,
             "#fb9f3a"
            ],
            [
             0.8888888888888888,
             "#fdca26"
            ],
            [
             1,
             "#f0f921"
            ]
           ]
          },
          "colorway": [
           "#636efa",
           "#EF553B",
           "#00cc96",
           "#ab63fa",
           "#FFA15A",
           "#19d3f3",
           "#FF6692",
           "#B6E880",
           "#FF97FF",
           "#FECB52"
          ],
          "font": {
           "color": "#2a3f5f"
          },
          "geo": {
           "bgcolor": "white",
           "lakecolor": "white",
           "landcolor": "white",
           "showlakes": true,
           "showland": true,
           "subunitcolor": "#C8D4E3"
          },
          "hoverlabel": {
           "align": "left"
          },
          "hovermode": "closest",
          "mapbox": {
           "style": "light"
          },
          "paper_bgcolor": "white",
          "plot_bgcolor": "white",
          "polar": {
           "angularaxis": {
            "gridcolor": "#EBF0F8",
            "linecolor": "#EBF0F8",
            "ticks": ""
           },
           "bgcolor": "white",
           "radialaxis": {
            "gridcolor": "#EBF0F8",
            "linecolor": "#EBF0F8",
            "ticks": ""
           }
          },
          "scene": {
           "xaxis": {
            "backgroundcolor": "white",
            "gridcolor": "#DFE8F3",
            "gridwidth": 2,
            "linecolor": "#EBF0F8",
            "showbackground": true,
            "ticks": "",
            "zerolinecolor": "#EBF0F8"
           },
           "yaxis": {
            "backgroundcolor": "white",
            "gridcolor": "#DFE8F3",
            "gridwidth": 2,
            "linecolor": "#EBF0F8",
            "showbackground": true,
            "ticks": "",
            "zerolinecolor": "#EBF0F8"
           },
           "zaxis": {
            "backgroundcolor": "white",
            "gridcolor": "#DFE8F3",
            "gridwidth": 2,
            "linecolor": "#EBF0F8",
            "showbackground": true,
            "ticks": "",
            "zerolinecolor": "#EBF0F8"
           }
          },
          "shapedefaults": {
           "line": {
            "color": "#2a3f5f"
           }
          },
          "ternary": {
           "aaxis": {
            "gridcolor": "#DFE8F3",
            "linecolor": "#A2B1C6",
            "ticks": ""
           },
           "baxis": {
            "gridcolor": "#DFE8F3",
            "linecolor": "#A2B1C6",
            "ticks": ""
           },
           "bgcolor": "white",
           "caxis": {
            "gridcolor": "#DFE8F3",
            "linecolor": "#A2B1C6",
            "ticks": ""
           }
          },
          "title": {
           "x": 0.05
          },
          "xaxis": {
           "automargin": true,
           "gridcolor": "#EBF0F8",
           "linecolor": "#EBF0F8",
           "ticks": "",
           "title": {
            "standoff": 15
           },
           "zerolinecolor": "#EBF0F8",
           "zerolinewidth": 2
          },
          "yaxis": {
           "automargin": true,
           "gridcolor": "#EBF0F8",
           "linecolor": "#EBF0F8",
           "ticks": "",
           "title": {
            "standoff": 15
           },
           "zerolinecolor": "#EBF0F8",
           "zerolinewidth": 2
          }
         }
        },
        "title": {
         "text": "Change in sentiments from 2000 to 2019"
        },
        "xaxis": {
         "showgrid": false,
         "title": {
          "text": "Year"
         }
        },
        "yaxis": {
         "showgrid": false,
         "title": {
          "text": "Percentage of words"
         }
        }
       }
      },
      "text/html": [
       "<div>\n",
       "        \n",
       "        \n",
       "            <div id=\"5ff6472c-78bf-4e5a-9482-9d613188510e\" class=\"plotly-graph-div\" style=\"height:525px; width:100%;\"></div>\n",
       "            <script type=\"text/javascript\">\n",
       "                require([\"plotly\"], function(Plotly) {\n",
       "                    window.PLOTLYENV=window.PLOTLYENV || {};\n",
       "                    \n",
       "                if (document.getElementById(\"5ff6472c-78bf-4e5a-9482-9d613188510e\")) {\n",
       "                    Plotly.newPlot(\n",
       "                        '5ff6472c-78bf-4e5a-9482-9d613188510e',\n",
       "                        [{\"marker\": {\"color\": \"rgb(86, 80, 250)\"}, \"name\": \"Positive Sentiments\", \"type\": \"scatter\", \"x\": [2000, 2001, 2002, 2003, 2004, 2005, 2006, 2007, 2008, 2009, 2010, 2011, 2012, 2013, 2014, 2015, 2016, 2017, 2018, 2019], \"y\": [19.35194365120392, 19.41717657412004, 19.48240949703618, 19.772608712243095, 19.794135645030394, 19.950294746028916, 20.353163552096934, 20.3803974414392, 20.588034647795254, 20.974679866095855, 20.85517574659174, 20.695533270941304, 20.98792784594732, 21.074442463865765, 21.208998829647065, 21.627891818068473, 21.35352539365508, 21.186269892286496, 20.532590433268386, 19.87891097425028]}, {\"marker\": {\"color\": \"rgb(252, 65, 58)\"}, \"name\": \"Negative Sentiments\", \"type\": \"scatter\", \"x\": [2000, 2001, 2002, 2003, 2004, 2005, 2006, 2007, 2008, 2009, 2010, 2011, 2012, 2013, 2014, 2015, 2016, 2017, 2018, 2019], \"y\": [19.27759361062144, 19.462066949767472, 19.64654028891351, 18.83860808425947, 18.646763232551947, 18.178789497601013, 17.915351857246595, 17.176045034305034, 17.264182379809004, 17.249365634715485, 17.120073949868246, 16.977986247458826, 17.324338382521457, 17.413821471819492, 17.6360660156187, 17.764181191429696, 18.17738935606386, 18.120944340757607, 18.482379684006556, 18.843815027255513]}],\n",
       "                        {\"annotations\": [{\"font\": {\"color\": \"rgb(86, 80, 250)\", \"family\": \"Arial\", \"size\": 16}, \"showarrow\": false, \"text\": \"Positive Sentiments\", \"x\": 2019, \"xanchor\": \"left\", \"y\": 19.87891097425028, \"yanchor\": \"middle\"}, {\"font\": {\"color\": \"rgb(252, 65, 58)\", \"family\": \"Arial\", \"size\": 16}, \"showarrow\": false, \"text\": \"Negative Sentiments\", \"x\": 2019, \"xanchor\": \"left\", \"y\": 18.843815027255513, \"yanchor\": \"middle\"}], \"showlegend\": false, \"template\": {\"data\": {\"bar\": [{\"error_x\": {\"color\": \"#2a3f5f\"}, \"error_y\": {\"color\": \"#2a3f5f\"}, \"marker\": {\"line\": {\"color\": \"white\", \"width\": 0.5}}, \"type\": \"bar\"}], \"barpolar\": [{\"marker\": {\"line\": {\"color\": \"white\", \"width\": 0.5}}, \"type\": \"barpolar\"}], \"carpet\": [{\"aaxis\": {\"endlinecolor\": \"#2a3f5f\", \"gridcolor\": \"#C8D4E3\", \"linecolor\": \"#C8D4E3\", \"minorgridcolor\": \"#C8D4E3\", \"startlinecolor\": \"#2a3f5f\"}, \"baxis\": {\"endlinecolor\": \"#2a3f5f\", \"gridcolor\": \"#C8D4E3\", \"linecolor\": \"#C8D4E3\", \"minorgridcolor\": \"#C8D4E3\", \"startlinecolor\": \"#2a3f5f\"}, \"type\": \"carpet\"}], \"choropleth\": [{\"colorbar\": {\"outlinewidth\": 0, \"ticks\": \"\"}, \"type\": \"choropleth\"}], \"contour\": [{\"colorbar\": {\"outlinewidth\": 0, \"ticks\": \"\"}, \"colorscale\": [[0.0, \"#0d0887\"], [0.1111111111111111, \"#46039f\"], [0.2222222222222222, \"#7201a8\"], [0.3333333333333333, \"#9c179e\"], [0.4444444444444444, \"#bd3786\"], [0.5555555555555556, \"#d8576b\"], [0.6666666666666666, \"#ed7953\"], [0.7777777777777778, \"#fb9f3a\"], [0.8888888888888888, \"#fdca26\"], [1.0, \"#f0f921\"]], \"type\": \"contour\"}], \"contourcarpet\": [{\"colorbar\": {\"outlinewidth\": 0, \"ticks\": \"\"}, \"type\": \"contourcarpet\"}], \"heatmap\": [{\"colorbar\": {\"outlinewidth\": 0, \"ticks\": \"\"}, \"colorscale\": [[0.0, \"#0d0887\"], [0.1111111111111111, \"#46039f\"], [0.2222222222222222, \"#7201a8\"], [0.3333333333333333, \"#9c179e\"], [0.4444444444444444, \"#bd3786\"], [0.5555555555555556, \"#d8576b\"], [0.6666666666666666, \"#ed7953\"], [0.7777777777777778, \"#fb9f3a\"], [0.8888888888888888, \"#fdca26\"], [1.0, \"#f0f921\"]], \"type\": \"heatmap\"}], \"heatmapgl\": [{\"colorbar\": {\"outlinewidth\": 0, \"ticks\": \"\"}, \"colorscale\": [[0.0, \"#0d0887\"], [0.1111111111111111, \"#46039f\"], [0.2222222222222222, \"#7201a8\"], [0.3333333333333333, \"#9c179e\"], [0.4444444444444444, \"#bd3786\"], [0.5555555555555556, \"#d8576b\"], [0.6666666666666666, \"#ed7953\"], [0.7777777777777778, \"#fb9f3a\"], [0.8888888888888888, \"#fdca26\"], [1.0, \"#f0f921\"]], \"type\": \"heatmapgl\"}], \"histogram\": [{\"marker\": {\"colorbar\": {\"outlinewidth\": 0, \"ticks\": \"\"}}, \"type\": \"histogram\"}], \"histogram2d\": [{\"colorbar\": {\"outlinewidth\": 0, \"ticks\": \"\"}, \"colorscale\": [[0.0, \"#0d0887\"], [0.1111111111111111, \"#46039f\"], [0.2222222222222222, \"#7201a8\"], [0.3333333333333333, \"#9c179e\"], [0.4444444444444444, \"#bd3786\"], [0.5555555555555556, \"#d8576b\"], [0.6666666666666666, \"#ed7953\"], [0.7777777777777778, \"#fb9f3a\"], [0.8888888888888888, \"#fdca26\"], [1.0, \"#f0f921\"]], \"type\": \"histogram2d\"}], \"histogram2dcontour\": [{\"colorbar\": {\"outlinewidth\": 0, \"ticks\": \"\"}, \"colorscale\": [[0.0, \"#0d0887\"], [0.1111111111111111, \"#46039f\"], [0.2222222222222222, \"#7201a8\"], [0.3333333333333333, \"#9c179e\"], [0.4444444444444444, \"#bd3786\"], [0.5555555555555556, \"#d8576b\"], [0.6666666666666666, \"#ed7953\"], [0.7777777777777778, \"#fb9f3a\"], [0.8888888888888888, \"#fdca26\"], [1.0, \"#f0f921\"]], \"type\": \"histogram2dcontour\"}], \"mesh3d\": [{\"colorbar\": {\"outlinewidth\": 0, \"ticks\": \"\"}, \"type\": \"mesh3d\"}], \"parcoords\": [{\"line\": {\"colorbar\": {\"outlinewidth\": 0, \"ticks\": \"\"}}, \"type\": \"parcoords\"}], \"pie\": [{\"automargin\": true, \"type\": \"pie\"}], \"scatter\": [{\"marker\": {\"colorbar\": {\"outlinewidth\": 0, \"ticks\": \"\"}}, \"type\": \"scatter\"}], \"scatter3d\": [{\"line\": {\"colorbar\": {\"outlinewidth\": 0, \"ticks\": \"\"}}, \"marker\": {\"colorbar\": {\"outlinewidth\": 0, \"ticks\": \"\"}}, \"type\": \"scatter3d\"}], \"scattercarpet\": [{\"marker\": {\"colorbar\": {\"outlinewidth\": 0, \"ticks\": \"\"}}, \"type\": \"scattercarpet\"}], \"scattergeo\": [{\"marker\": {\"colorbar\": {\"outlinewidth\": 0, \"ticks\": \"\"}}, \"type\": \"scattergeo\"}], \"scattergl\": [{\"marker\": {\"colorbar\": {\"outlinewidth\": 0, \"ticks\": \"\"}}, \"type\": \"scattergl\"}], \"scattermapbox\": [{\"marker\": {\"colorbar\": {\"outlinewidth\": 0, \"ticks\": \"\"}}, \"type\": \"scattermapbox\"}], \"scatterpolar\": [{\"marker\": {\"colorbar\": {\"outlinewidth\": 0, \"ticks\": \"\"}}, \"type\": \"scatterpolar\"}], \"scatterpolargl\": [{\"marker\": {\"colorbar\": {\"outlinewidth\": 0, \"ticks\": \"\"}}, \"type\": \"scatterpolargl\"}], \"scatterternary\": [{\"marker\": {\"colorbar\": {\"outlinewidth\": 0, \"ticks\": \"\"}}, \"type\": \"scatterternary\"}], \"surface\": [{\"colorbar\": {\"outlinewidth\": 0, \"ticks\": \"\"}, \"colorscale\": [[0.0, \"#0d0887\"], [0.1111111111111111, \"#46039f\"], [0.2222222222222222, \"#7201a8\"], [0.3333333333333333, \"#9c179e\"], [0.4444444444444444, \"#bd3786\"], [0.5555555555555556, \"#d8576b\"], [0.6666666666666666, \"#ed7953\"], [0.7777777777777778, \"#fb9f3a\"], [0.8888888888888888, \"#fdca26\"], [1.0, \"#f0f921\"]], \"type\": \"surface\"}], \"table\": [{\"cells\": {\"fill\": {\"color\": \"#EBF0F8\"}, \"line\": {\"color\": \"white\"}}, \"header\": {\"fill\": {\"color\": \"#C8D4E3\"}, \"line\": {\"color\": \"white\"}}, \"type\": \"table\"}]}, \"layout\": {\"annotationdefaults\": {\"arrowcolor\": \"#2a3f5f\", \"arrowhead\": 0, \"arrowwidth\": 1}, \"coloraxis\": {\"colorbar\": {\"outlinewidth\": 0, \"ticks\": \"\"}}, \"colorscale\": {\"diverging\": [[0, \"#8e0152\"], [0.1, \"#c51b7d\"], [0.2, \"#de77ae\"], [0.3, \"#f1b6da\"], [0.4, \"#fde0ef\"], [0.5, \"#f7f7f7\"], [0.6, \"#e6f5d0\"], [0.7, \"#b8e186\"], [0.8, \"#7fbc41\"], [0.9, \"#4d9221\"], [1, \"#276419\"]], \"sequential\": [[0.0, \"#0d0887\"], [0.1111111111111111, \"#46039f\"], [0.2222222222222222, \"#7201a8\"], [0.3333333333333333, \"#9c179e\"], [0.4444444444444444, \"#bd3786\"], [0.5555555555555556, \"#d8576b\"], [0.6666666666666666, \"#ed7953\"], [0.7777777777777778, \"#fb9f3a\"], [0.8888888888888888, \"#fdca26\"], [1.0, \"#f0f921\"]], \"sequentialminus\": [[0.0, \"#0d0887\"], [0.1111111111111111, \"#46039f\"], [0.2222222222222222, \"#7201a8\"], [0.3333333333333333, \"#9c179e\"], [0.4444444444444444, \"#bd3786\"], [0.5555555555555556, \"#d8576b\"], [0.6666666666666666, \"#ed7953\"], [0.7777777777777778, \"#fb9f3a\"], [0.8888888888888888, \"#fdca26\"], [1.0, \"#f0f921\"]]}, \"colorway\": [\"#636efa\", \"#EF553B\", \"#00cc96\", \"#ab63fa\", \"#FFA15A\", \"#19d3f3\", \"#FF6692\", \"#B6E880\", \"#FF97FF\", \"#FECB52\"], \"font\": {\"color\": \"#2a3f5f\"}, \"geo\": {\"bgcolor\": \"white\", \"lakecolor\": \"white\", \"landcolor\": \"white\", \"showlakes\": true, \"showland\": true, \"subunitcolor\": \"#C8D4E3\"}, \"hoverlabel\": {\"align\": \"left\"}, \"hovermode\": \"closest\", \"mapbox\": {\"style\": \"light\"}, \"paper_bgcolor\": \"white\", \"plot_bgcolor\": \"white\", \"polar\": {\"angularaxis\": {\"gridcolor\": \"#EBF0F8\", \"linecolor\": \"#EBF0F8\", \"ticks\": \"\"}, \"bgcolor\": \"white\", \"radialaxis\": {\"gridcolor\": \"#EBF0F8\", \"linecolor\": \"#EBF0F8\", \"ticks\": \"\"}}, \"scene\": {\"xaxis\": {\"backgroundcolor\": \"white\", \"gridcolor\": \"#DFE8F3\", \"gridwidth\": 2, \"linecolor\": \"#EBF0F8\", \"showbackground\": true, \"ticks\": \"\", \"zerolinecolor\": \"#EBF0F8\"}, \"yaxis\": {\"backgroundcolor\": \"white\", \"gridcolor\": \"#DFE8F3\", \"gridwidth\": 2, \"linecolor\": \"#EBF0F8\", \"showbackground\": true, \"ticks\": \"\", \"zerolinecolor\": \"#EBF0F8\"}, \"zaxis\": {\"backgroundcolor\": \"white\", \"gridcolor\": \"#DFE8F3\", \"gridwidth\": 2, \"linecolor\": \"#EBF0F8\", \"showbackground\": true, \"ticks\": \"\", \"zerolinecolor\": \"#EBF0F8\"}}, \"shapedefaults\": {\"line\": {\"color\": \"#2a3f5f\"}}, \"ternary\": {\"aaxis\": {\"gridcolor\": \"#DFE8F3\", \"linecolor\": \"#A2B1C6\", \"ticks\": \"\"}, \"baxis\": {\"gridcolor\": \"#DFE8F3\", \"linecolor\": \"#A2B1C6\", \"ticks\": \"\"}, \"bgcolor\": \"white\", \"caxis\": {\"gridcolor\": \"#DFE8F3\", \"linecolor\": \"#A2B1C6\", \"ticks\": \"\"}}, \"title\": {\"x\": 0.05}, \"xaxis\": {\"automargin\": true, \"gridcolor\": \"#EBF0F8\", \"linecolor\": \"#EBF0F8\", \"ticks\": \"\", \"title\": {\"standoff\": 15}, \"zerolinecolor\": \"#EBF0F8\", \"zerolinewidth\": 2}, \"yaxis\": {\"automargin\": true, \"gridcolor\": \"#EBF0F8\", \"linecolor\": \"#EBF0F8\", \"ticks\": \"\", \"title\": {\"standoff\": 15}, \"zerolinecolor\": \"#EBF0F8\", \"zerolinewidth\": 2}}}, \"title\": {\"text\": \"Change in sentiments from 2000 to 2019\"}, \"xaxis\": {\"showgrid\": false, \"title\": {\"text\": \"Year\"}}, \"yaxis\": {\"showgrid\": false, \"title\": {\"text\": \"Percentage of words\"}}},\n",
       "                        {\"responsive\": true}\n",
       "                    ).then(function(){\n",
       "                            \n",
       "var gd = document.getElementById('5ff6472c-78bf-4e5a-9482-9d613188510e');\n",
       "var x = new MutationObserver(function (mutations, observer) {{\n",
       "        var display = window.getComputedStyle(gd).display;\n",
       "        if (!display || display === 'none') {{\n",
       "            console.log([gd, 'removed!']);\n",
       "            Plotly.purge(gd);\n",
       "            observer.disconnect();\n",
       "        }}\n",
       "}});\n",
       "\n",
       "// Listen for the removal of the full notebook cells\n",
       "var notebookContainer = gd.closest('#notebook-container');\n",
       "if (notebookContainer) {{\n",
       "    x.observe(notebookContainer, {childList: true});\n",
       "}}\n",
       "\n",
       "// Listen for the clearing of the current output cell\n",
       "var outputEl = gd.closest('.output');\n",
       "if (outputEl) {{\n",
       "    x.observe(outputEl, {childList: true});\n",
       "}}\n",
       "\n",
       "                        })\n",
       "                };\n",
       "                });\n",
       "            </script>\n",
       "        </div>"
      ]
     },
     "metadata": {},
     "output_type": "display_data"
    }
   ],
   "source": [
    "# Apply the savgol filter for smoother lines\n",
    "savgol_positive = signal.savgol_filter(list(sentiment_df['positive']),5,1)\n",
    "savgol_negative = signal.savgol_filter(list(sentiment_df['negative']),5,1)\n",
    "\n",
    "# Plot the positive and negative sentiments as a line graph\n",
    "fig = go.Figure()\n",
    "fig.add_trace(go.Scatter(\n",
    "    x=list(sentiment_df.index),\n",
    "    y=savgol_positive,\n",
    "    name='Positive Sentiments', \n",
    "    marker={'color': 'rgb(86, 80, 250)'}\n",
    "))\n",
    "fig.add_trace(go.Scatter(\n",
    "    x=list(sentiment_df.index),\n",
    "    y=savgol_negative,\n",
    "    name='Negative Sentiments',\n",
    "    marker={'color': 'rgb(252, 65, 58)'}\n",
    "))\n",
    "# Add labels to the lines on the graph\n",
    "annotations = []\n",
    "annotations.append(dict(x=2019, y=savgol_positive[19],\n",
    "                                  xanchor='left', yanchor='middle',\n",
    "                                  text='Positive Sentiments',\n",
    "                                  font=dict(family='Arial',\n",
    "                                            size=16,\n",
    "                                           color='rgb(86, 80, 250)'),\n",
    "                                  showarrow=False))\n",
    "annotations.append(dict(x=2019, y=savgol_negative[19],\n",
    "                                  xanchor='left', yanchor='middle',\n",
    "                                  text='Negative Sentiments',\n",
    "                                  font=dict(family='Arial',\n",
    "                                            size=16,\n",
    "                                           color='rgb(252, 65, 58)'),\n",
    "                                  showarrow=False))\n",
    "# Change the graph layout\n",
    "fig.update_layout(\n",
    "    title=\"Change in sentiments from 2000 to 2019\",\n",
    "    xaxis_title=\"Year\",\n",
    "    yaxis_title=\"Percentage of words\",\n",
    "    xaxis=dict(showgrid=False),\n",
    "    yaxis=dict(showgrid=False),\n",
    "    template=\"plotly_white\",\n",
    "    annotations=annotations,\n",
    "    showlegend=False\n",
    ")\n",
    "fig.show()"
   ]
  },
  {
   "cell_type": "markdown",
   "metadata": {},
   "source": [
    "#### The above plot shows how the negative and positive sentiments vary over the years from 2000 to 2019. We can see that the negative sentiment associated with the songs was more during the early 2000s than it is right now. This is a surprising find and is contrary to our expectations. We hoped to see a more negative sentiment associated with songs today than it was before.\n",
    "#### However, we can see a perpetual decrease in the negative sentiment starting from 2002 and an increase after 2011. This gradual increase indicates the possibility of our theory proving right in the future. We can also see that the positive sentiment is gradually decreasing now.\n",
    "#### Let's find out."
   ]
  },
  {
   "cell_type": "markdown",
   "metadata": {},
   "source": [
    "## Modelling and Predictions"
   ]
  },
  {
   "cell_type": "code",
   "execution_count": 31,
   "metadata": {},
   "outputs": [],
   "source": [
    "# This function gets the next 10 predicted values from a series of time series data\n",
    "def get_predicted_values(sentiment_series, sentiment_type):\n",
    "    # Get negative sentiment data as series with index in datetime format\n",
    "    sentiment_df = pd.DataFrame(sentiment_series)\n",
    "    sentiment_df = sentiment_df.reset_index()\n",
    "    sentiment_df = sentiment_df.rename(columns = {'index': 'year'})\n",
    "    sentiment_df[\"year\"] = pd.to_datetime(sentiment_df[\"year\"], format=\"%Y\")\n",
    "    sentiment_df = sentiment_df.set_index(\"year\")\n",
    "    sent_series = sentiment_df[sentiment_type]\n",
    "\n",
    "    # Find the optimal ARIMA parameters to be used for our forecasting\n",
    "    p = d = q = range(0, 2)\n",
    "    # Get a tuple of seasonality, trend and noise parameters to be used\n",
    "    pdq = list(itertools.product(p, d, q))\n",
    "    # Get the variability in these three parameters\n",
    "    seasonal_pdq = [(x[0], x[1], x[2], 12) for x in list(itertools.product(p, d, q))]\n",
    "    # Find the least AIC value and choose those parameters to be used for our forcasting\n",
    "    optimal_params = []\n",
    "    results_aic = 0\n",
    "    for param in pdq:\n",
    "        for param_seasonal in seasonal_pdq:\n",
    "            try:\n",
    "                mod = sm.tsa.statespace.SARIMAX(sent_series,\n",
    "                                                order=param,\n",
    "                                                seasonal_order=param_seasonal,\n",
    "                                                enforce_stationarity=False,\n",
    "                                                enforce_invertibility=False)\n",
    "                results = mod.fit()\n",
    "                # Store the current optimal parameters in a list\n",
    "                if len(optimal_params) == 0 or (len(optimal_params) > 0 and results.aic < results_aic):\n",
    "                    results_aic = results.aic\n",
    "                    optimal_params = list(param_seasonal)\n",
    "            except:\n",
    "                continue\n",
    "    \n",
    "    # Fit the ARIMA model\n",
    "    mod = sm.tsa.statespace.SARIMAX(sent_series,\n",
    "                                    order=(1, 1, 1),\n",
    "                                    seasonal_order=tuple(optimal_params),\n",
    "                                    enforce_stationarity=False,\n",
    "                                    enforce_invertibility=False)\n",
    "    results = mod.fit()\n",
    "    \n",
    "    # Return the predicted values from 2020 to 2029\n",
    "    return results.get_forecast(steps=10).predicted_mean"
   ]
  },
  {
   "cell_type": "code",
   "execution_count": 75,
   "metadata": {},
   "outputs": [
    {
     "data": {
      "application/vnd.plotly.v1+json": {
       "config": {
        "plotlyServerURL": "https://plot.ly"
       },
       "data": [
        {
         "line": {
          "color": "rgb(252, 65, 58)"
         },
         "name": "Negative sentiments",
         "type": "scatter",
         "x": [
          2000,
          2001,
          2002,
          2003,
          2004,
          2005,
          2006,
          2007,
          2008,
          2009,
          2010,
          2011,
          2012,
          2013,
          2014,
          2015,
          2016,
          2017,
          2018,
          2019,
          "2020",
          "2021",
          "2022",
          "2023",
          "2024",
          "2025",
          "2026",
          "2027",
          "2028",
          "2029"
         ],
         "y": [
          19.27759361062144,
          19.462066949767472,
          19.64654028891351,
          18.83860808425947,
          18.646763232551947,
          18.178789497601013,
          17.915351857246595,
          17.176045034305034,
          17.264182379809004,
          17.249365634715485,
          17.120073949868246,
          16.977986247458826,
          17.324338382521457,
          17.413821471819492,
          17.6360660156187,
          17.764181191429696,
          18.17738935606386,
          18.120944340757607,
          18.348420994520506,
          18.445115063277008,
          18.764108889855418,
          18.448139482888465,
          18.617263436961956,
          18.581944757337645,
          18.51780175726131,
          18.440268606843794,
          18.391081365870136,
          18.321224905213676,
          18.39091590943069,
          18.460606913647702
         ]
        },
        {
         "line": {
          "color": "rgb(86, 80, 250)"
         },
         "name": "Positive sentiments",
         "type": "scatter",
         "x": [
          2000,
          2001,
          2002,
          2003,
          2004,
          2005,
          2006,
          2007,
          2008,
          2009,
          2010,
          2011,
          2012,
          2013,
          2014,
          2015,
          2016,
          2017,
          2018,
          2019,
          "2020",
          "2021",
          "2022",
          "2023",
          "2024",
          "2025",
          "2026",
          "2027",
          "2028",
          "2029"
         ],
         "y": [
          19.35194365120392,
          19.41717657412004,
          19.48240949703618,
          19.772608712243095,
          19.794135645030394,
          19.950294746028916,
          20.353163552096934,
          20.3803974414392,
          20.588034647795254,
          20.974679866095855,
          20.85517574659174,
          20.695533270941304,
          20.98792784594732,
          21.074442463865765,
          21.208998829647065,
          21.627891818068473,
          21.35352539365508,
          21.186269892286496,
          20.99341112334094,
          20.147959927593142,
          19.80632360860818,
          19.979607335373124,
          19.786891749206216,
          19.641425015532803,
          19.931074779243858,
          20.0181208676883,
          20.152574326242238,
          20.571487240317264,
          20.914099920504047,
          21.25671260069084
         ]
        }
       ],
       "layout": {
        "annotations": [
         {
          "font": {
           "color": "rgb(86, 80, 250)",
           "family": "Arial",
           "size": 16
          },
          "showarrow": false,
          "text": "Positive Sentiments",
          "x": 2029,
          "xanchor": "left",
          "y": 21.25671260069084,
          "yanchor": "middle"
         },
         {
          "font": {
           "color": "rgb(252, 65, 58)",
           "family": "Arial",
           "size": 16
          },
          "showarrow": false,
          "text": "Negative Sentiments",
          "x": 2029,
          "xanchor": "left",
          "y": 18.460606913647702,
          "yanchor": "middle"
         }
        ],
        "shapes": [
         {
          "line": {
           "color": "Black",
           "dash": "dashdot",
           "width": 4
          },
          "type": "line",
          "x0": 2020,
          "x1": 2020,
          "y0": 16,
          "y1": 22
         }
        ],
        "showlegend": false,
        "template": {
         "data": {
          "bar": [
           {
            "error_x": {
             "color": "#2a3f5f"
            },
            "error_y": {
             "color": "#2a3f5f"
            },
            "marker": {
             "line": {
              "color": "white",
              "width": 0.5
             }
            },
            "type": "bar"
           }
          ],
          "barpolar": [
           {
            "marker": {
             "line": {
              "color": "white",
              "width": 0.5
             }
            },
            "type": "barpolar"
           }
          ],
          "carpet": [
           {
            "aaxis": {
             "endlinecolor": "#2a3f5f",
             "gridcolor": "#C8D4E3",
             "linecolor": "#C8D4E3",
             "minorgridcolor": "#C8D4E3",
             "startlinecolor": "#2a3f5f"
            },
            "baxis": {
             "endlinecolor": "#2a3f5f",
             "gridcolor": "#C8D4E3",
             "linecolor": "#C8D4E3",
             "minorgridcolor": "#C8D4E3",
             "startlinecolor": "#2a3f5f"
            },
            "type": "carpet"
           }
          ],
          "choropleth": [
           {
            "colorbar": {
             "outlinewidth": 0,
             "ticks": ""
            },
            "type": "choropleth"
           }
          ],
          "contour": [
           {
            "colorbar": {
             "outlinewidth": 0,
             "ticks": ""
            },
            "colorscale": [
             [
              0,
              "#0d0887"
             ],
             [
              0.1111111111111111,
              "#46039f"
             ],
             [
              0.2222222222222222,
              "#7201a8"
             ],
             [
              0.3333333333333333,
              "#9c179e"
             ],
             [
              0.4444444444444444,
              "#bd3786"
             ],
             [
              0.5555555555555556,
              "#d8576b"
             ],
             [
              0.6666666666666666,
              "#ed7953"
             ],
             [
              0.7777777777777778,
              "#fb9f3a"
             ],
             [
              0.8888888888888888,
              "#fdca26"
             ],
             [
              1,
              "#f0f921"
             ]
            ],
            "type": "contour"
           }
          ],
          "contourcarpet": [
           {
            "colorbar": {
             "outlinewidth": 0,
             "ticks": ""
            },
            "type": "contourcarpet"
           }
          ],
          "heatmap": [
           {
            "colorbar": {
             "outlinewidth": 0,
             "ticks": ""
            },
            "colorscale": [
             [
              0,
              "#0d0887"
             ],
             [
              0.1111111111111111,
              "#46039f"
             ],
             [
              0.2222222222222222,
              "#7201a8"
             ],
             [
              0.3333333333333333,
              "#9c179e"
             ],
             [
              0.4444444444444444,
              "#bd3786"
             ],
             [
              0.5555555555555556,
              "#d8576b"
             ],
             [
              0.6666666666666666,
              "#ed7953"
             ],
             [
              0.7777777777777778,
              "#fb9f3a"
             ],
             [
              0.8888888888888888,
              "#fdca26"
             ],
             [
              1,
              "#f0f921"
             ]
            ],
            "type": "heatmap"
           }
          ],
          "heatmapgl": [
           {
            "colorbar": {
             "outlinewidth": 0,
             "ticks": ""
            },
            "colorscale": [
             [
              0,
              "#0d0887"
             ],
             [
              0.1111111111111111,
              "#46039f"
             ],
             [
              0.2222222222222222,
              "#7201a8"
             ],
             [
              0.3333333333333333,
              "#9c179e"
             ],
             [
              0.4444444444444444,
              "#bd3786"
             ],
             [
              0.5555555555555556,
              "#d8576b"
             ],
             [
              0.6666666666666666,
              "#ed7953"
             ],
             [
              0.7777777777777778,
              "#fb9f3a"
             ],
             [
              0.8888888888888888,
              "#fdca26"
             ],
             [
              1,
              "#f0f921"
             ]
            ],
            "type": "heatmapgl"
           }
          ],
          "histogram": [
           {
            "marker": {
             "colorbar": {
              "outlinewidth": 0,
              "ticks": ""
             }
            },
            "type": "histogram"
           }
          ],
          "histogram2d": [
           {
            "colorbar": {
             "outlinewidth": 0,
             "ticks": ""
            },
            "colorscale": [
             [
              0,
              "#0d0887"
             ],
             [
              0.1111111111111111,
              "#46039f"
             ],
             [
              0.2222222222222222,
              "#7201a8"
             ],
             [
              0.3333333333333333,
              "#9c179e"
             ],
             [
              0.4444444444444444,
              "#bd3786"
             ],
             [
              0.5555555555555556,
              "#d8576b"
             ],
             [
              0.6666666666666666,
              "#ed7953"
             ],
             [
              0.7777777777777778,
              "#fb9f3a"
             ],
             [
              0.8888888888888888,
              "#fdca26"
             ],
             [
              1,
              "#f0f921"
             ]
            ],
            "type": "histogram2d"
           }
          ],
          "histogram2dcontour": [
           {
            "colorbar": {
             "outlinewidth": 0,
             "ticks": ""
            },
            "colorscale": [
             [
              0,
              "#0d0887"
             ],
             [
              0.1111111111111111,
              "#46039f"
             ],
             [
              0.2222222222222222,
              "#7201a8"
             ],
             [
              0.3333333333333333,
              "#9c179e"
             ],
             [
              0.4444444444444444,
              "#bd3786"
             ],
             [
              0.5555555555555556,
              "#d8576b"
             ],
             [
              0.6666666666666666,
              "#ed7953"
             ],
             [
              0.7777777777777778,
              "#fb9f3a"
             ],
             [
              0.8888888888888888,
              "#fdca26"
             ],
             [
              1,
              "#f0f921"
             ]
            ],
            "type": "histogram2dcontour"
           }
          ],
          "mesh3d": [
           {
            "colorbar": {
             "outlinewidth": 0,
             "ticks": ""
            },
            "type": "mesh3d"
           }
          ],
          "parcoords": [
           {
            "line": {
             "colorbar": {
              "outlinewidth": 0,
              "ticks": ""
             }
            },
            "type": "parcoords"
           }
          ],
          "pie": [
           {
            "automargin": true,
            "type": "pie"
           }
          ],
          "scatter": [
           {
            "marker": {
             "colorbar": {
              "outlinewidth": 0,
              "ticks": ""
             }
            },
            "type": "scatter"
           }
          ],
          "scatter3d": [
           {
            "line": {
             "colorbar": {
              "outlinewidth": 0,
              "ticks": ""
             }
            },
            "marker": {
             "colorbar": {
              "outlinewidth": 0,
              "ticks": ""
             }
            },
            "type": "scatter3d"
           }
          ],
          "scattercarpet": [
           {
            "marker": {
             "colorbar": {
              "outlinewidth": 0,
              "ticks": ""
             }
            },
            "type": "scattercarpet"
           }
          ],
          "scattergeo": [
           {
            "marker": {
             "colorbar": {
              "outlinewidth": 0,
              "ticks": ""
             }
            },
            "type": "scattergeo"
           }
          ],
          "scattergl": [
           {
            "marker": {
             "colorbar": {
              "outlinewidth": 0,
              "ticks": ""
             }
            },
            "type": "scattergl"
           }
          ],
          "scattermapbox": [
           {
            "marker": {
             "colorbar": {
              "outlinewidth": 0,
              "ticks": ""
             }
            },
            "type": "scattermapbox"
           }
          ],
          "scatterpolar": [
           {
            "marker": {
             "colorbar": {
              "outlinewidth": 0,
              "ticks": ""
             }
            },
            "type": "scatterpolar"
           }
          ],
          "scatterpolargl": [
           {
            "marker": {
             "colorbar": {
              "outlinewidth": 0,
              "ticks": ""
             }
            },
            "type": "scatterpolargl"
           }
          ],
          "scatterternary": [
           {
            "marker": {
             "colorbar": {
              "outlinewidth": 0,
              "ticks": ""
             }
            },
            "type": "scatterternary"
           }
          ],
          "surface": [
           {
            "colorbar": {
             "outlinewidth": 0,
             "ticks": ""
            },
            "colorscale": [
             [
              0,
              "#0d0887"
             ],
             [
              0.1111111111111111,
              "#46039f"
             ],
             [
              0.2222222222222222,
              "#7201a8"
             ],
             [
              0.3333333333333333,
              "#9c179e"
             ],
             [
              0.4444444444444444,
              "#bd3786"
             ],
             [
              0.5555555555555556,
              "#d8576b"
             ],
             [
              0.6666666666666666,
              "#ed7953"
             ],
             [
              0.7777777777777778,
              "#fb9f3a"
             ],
             [
              0.8888888888888888,
              "#fdca26"
             ],
             [
              1,
              "#f0f921"
             ]
            ],
            "type": "surface"
           }
          ],
          "table": [
           {
            "cells": {
             "fill": {
              "color": "#EBF0F8"
             },
             "line": {
              "color": "white"
             }
            },
            "header": {
             "fill": {
              "color": "#C8D4E3"
             },
             "line": {
              "color": "white"
             }
            },
            "type": "table"
           }
          ]
         },
         "layout": {
          "annotationdefaults": {
           "arrowcolor": "#2a3f5f",
           "arrowhead": 0,
           "arrowwidth": 1
          },
          "coloraxis": {
           "colorbar": {
            "outlinewidth": 0,
            "ticks": ""
           }
          },
          "colorscale": {
           "diverging": [
            [
             0,
             "#8e0152"
            ],
            [
             0.1,
             "#c51b7d"
            ],
            [
             0.2,
             "#de77ae"
            ],
            [
             0.3,
             "#f1b6da"
            ],
            [
             0.4,
             "#fde0ef"
            ],
            [
             0.5,
             "#f7f7f7"
            ],
            [
             0.6,
             "#e6f5d0"
            ],
            [
             0.7,
             "#b8e186"
            ],
            [
             0.8,
             "#7fbc41"
            ],
            [
             0.9,
             "#4d9221"
            ],
            [
             1,
             "#276419"
            ]
           ],
           "sequential": [
            [
             0,
             "#0d0887"
            ],
            [
             0.1111111111111111,
             "#46039f"
            ],
            [
             0.2222222222222222,
             "#7201a8"
            ],
            [
             0.3333333333333333,
             "#9c179e"
            ],
            [
             0.4444444444444444,
             "#bd3786"
            ],
            [
             0.5555555555555556,
             "#d8576b"
            ],
            [
             0.6666666666666666,
             "#ed7953"
            ],
            [
             0.7777777777777778,
             "#fb9f3a"
            ],
            [
             0.8888888888888888,
             "#fdca26"
            ],
            [
             1,
             "#f0f921"
            ]
           ],
           "sequentialminus": [
            [
             0,
             "#0d0887"
            ],
            [
             0.1111111111111111,
             "#46039f"
            ],
            [
             0.2222222222222222,
             "#7201a8"
            ],
            [
             0.3333333333333333,
             "#9c179e"
            ],
            [
             0.4444444444444444,
             "#bd3786"
            ],
            [
             0.5555555555555556,
             "#d8576b"
            ],
            [
             0.6666666666666666,
             "#ed7953"
            ],
            [
             0.7777777777777778,
             "#fb9f3a"
            ],
            [
             0.8888888888888888,
             "#fdca26"
            ],
            [
             1,
             "#f0f921"
            ]
           ]
          },
          "colorway": [
           "#636efa",
           "#EF553B",
           "#00cc96",
           "#ab63fa",
           "#FFA15A",
           "#19d3f3",
           "#FF6692",
           "#B6E880",
           "#FF97FF",
           "#FECB52"
          ],
          "font": {
           "color": "#2a3f5f"
          },
          "geo": {
           "bgcolor": "white",
           "lakecolor": "white",
           "landcolor": "white",
           "showlakes": true,
           "showland": true,
           "subunitcolor": "#C8D4E3"
          },
          "hoverlabel": {
           "align": "left"
          },
          "hovermode": "closest",
          "mapbox": {
           "style": "light"
          },
          "paper_bgcolor": "white",
          "plot_bgcolor": "white",
          "polar": {
           "angularaxis": {
            "gridcolor": "#EBF0F8",
            "linecolor": "#EBF0F8",
            "ticks": ""
           },
           "bgcolor": "white",
           "radialaxis": {
            "gridcolor": "#EBF0F8",
            "linecolor": "#EBF0F8",
            "ticks": ""
           }
          },
          "scene": {
           "xaxis": {
            "backgroundcolor": "white",
            "gridcolor": "#DFE8F3",
            "gridwidth": 2,
            "linecolor": "#EBF0F8",
            "showbackground": true,
            "ticks": "",
            "zerolinecolor": "#EBF0F8"
           },
           "yaxis": {
            "backgroundcolor": "white",
            "gridcolor": "#DFE8F3",
            "gridwidth": 2,
            "linecolor": "#EBF0F8",
            "showbackground": true,
            "ticks": "",
            "zerolinecolor": "#EBF0F8"
           },
           "zaxis": {
            "backgroundcolor": "white",
            "gridcolor": "#DFE8F3",
            "gridwidth": 2,
            "linecolor": "#EBF0F8",
            "showbackground": true,
            "ticks": "",
            "zerolinecolor": "#EBF0F8"
           }
          },
          "shapedefaults": {
           "line": {
            "color": "#2a3f5f"
           }
          },
          "ternary": {
           "aaxis": {
            "gridcolor": "#DFE8F3",
            "linecolor": "#A2B1C6",
            "ticks": ""
           },
           "baxis": {
            "gridcolor": "#DFE8F3",
            "linecolor": "#A2B1C6",
            "ticks": ""
           },
           "bgcolor": "white",
           "caxis": {
            "gridcolor": "#DFE8F3",
            "linecolor": "#A2B1C6",
            "ticks": ""
           }
          },
          "title": {
           "x": 0.05
          },
          "xaxis": {
           "automargin": true,
           "gridcolor": "#EBF0F8",
           "linecolor": "#EBF0F8",
           "ticks": "",
           "title": {
            "standoff": 15
           },
           "zerolinecolor": "#EBF0F8",
           "zerolinewidth": 2
          },
          "yaxis": {
           "automargin": true,
           "gridcolor": "#EBF0F8",
           "linecolor": "#EBF0F8",
           "ticks": "",
           "title": {
            "standoff": 15
           },
           "zerolinecolor": "#EBF0F8",
           "zerolinewidth": 2
          }
         }
        },
        "title": {
         "text": "Predicted sentiments"
        },
        "xaxis": {
         "showgrid": false,
         "title": {
          "text": "Year"
         }
        },
        "yaxis": {
         "showgrid": false,
         "title": {
          "text": "Percentage of words"
         }
        }
       }
      },
      "text/html": [
       "<div>\n",
       "        \n",
       "        \n",
       "            <div id=\"1a073b2c-055d-4257-9532-4dc2e3c32d41\" class=\"plotly-graph-div\" style=\"height:525px; width:100%;\"></div>\n",
       "            <script type=\"text/javascript\">\n",
       "                require([\"plotly\"], function(Plotly) {\n",
       "                    window.PLOTLYENV=window.PLOTLYENV || {};\n",
       "                    \n",
       "                if (document.getElementById(\"1a073b2c-055d-4257-9532-4dc2e3c32d41\")) {\n",
       "                    Plotly.newPlot(\n",
       "                        '1a073b2c-055d-4257-9532-4dc2e3c32d41',\n",
       "                        [{\"line\": {\"color\": \"rgb(252, 65, 58)\"}, \"name\": \"Negative sentiments\", \"type\": \"scatter\", \"x\": [2000, 2001, 2002, 2003, 2004, 2005, 2006, 2007, 2008, 2009, 2010, 2011, 2012, 2013, 2014, 2015, 2016, 2017, 2018, 2019, \"2020\", \"2021\", \"2022\", \"2023\", \"2024\", \"2025\", \"2026\", \"2027\", \"2028\", \"2029\"], \"y\": [19.27759361062144, 19.462066949767472, 19.64654028891351, 18.83860808425947, 18.646763232551947, 18.178789497601013, 17.915351857246595, 17.176045034305034, 17.264182379809004, 17.249365634715485, 17.120073949868246, 16.977986247458826, 17.324338382521457, 17.413821471819492, 17.6360660156187, 17.764181191429696, 18.17738935606386, 18.120944340757607, 18.348420994520506, 18.445115063277008, 18.764108889855418, 18.448139482888465, 18.617263436961956, 18.581944757337645, 18.51780175726131, 18.440268606843794, 18.391081365870136, 18.321224905213676, 18.39091590943069, 18.460606913647702]}, {\"line\": {\"color\": \"rgb(86, 80, 250)\"}, \"name\": \"Positive sentiments\", \"type\": \"scatter\", \"x\": [2000, 2001, 2002, 2003, 2004, 2005, 2006, 2007, 2008, 2009, 2010, 2011, 2012, 2013, 2014, 2015, 2016, 2017, 2018, 2019, \"2020\", \"2021\", \"2022\", \"2023\", \"2024\", \"2025\", \"2026\", \"2027\", \"2028\", \"2029\"], \"y\": [19.35194365120392, 19.41717657412004, 19.48240949703618, 19.772608712243095, 19.794135645030394, 19.950294746028916, 20.353163552096934, 20.3803974414392, 20.588034647795254, 20.974679866095855, 20.85517574659174, 20.695533270941304, 20.98792784594732, 21.074442463865765, 21.208998829647065, 21.627891818068473, 21.35352539365508, 21.186269892286496, 20.99341112334094, 20.147959927593142, 19.80632360860818, 19.979607335373124, 19.786891749206216, 19.641425015532803, 19.931074779243858, 20.0181208676883, 20.152574326242238, 20.571487240317264, 20.914099920504047, 21.25671260069084]}],\n",
       "                        {\"annotations\": [{\"font\": {\"color\": \"rgb(86, 80, 250)\", \"family\": \"Arial\", \"size\": 16}, \"showarrow\": false, \"text\": \"Positive Sentiments\", \"x\": 2029, \"xanchor\": \"left\", \"y\": 21.25671260069084, \"yanchor\": \"middle\"}, {\"font\": {\"color\": \"rgb(252, 65, 58)\", \"family\": \"Arial\", \"size\": 16}, \"showarrow\": false, \"text\": \"Negative Sentiments\", \"x\": 2029, \"xanchor\": \"left\", \"y\": 18.460606913647702, \"yanchor\": \"middle\"}], \"shapes\": [{\"line\": {\"color\": \"Black\", \"dash\": \"dashdot\", \"width\": 4}, \"type\": \"line\", \"x0\": 2020, \"x1\": 2020, \"y0\": 16, \"y1\": 22}], \"showlegend\": false, \"template\": {\"data\": {\"bar\": [{\"error_x\": {\"color\": \"#2a3f5f\"}, \"error_y\": {\"color\": \"#2a3f5f\"}, \"marker\": {\"line\": {\"color\": \"white\", \"width\": 0.5}}, \"type\": \"bar\"}], \"barpolar\": [{\"marker\": {\"line\": {\"color\": \"white\", \"width\": 0.5}}, \"type\": \"barpolar\"}], \"carpet\": [{\"aaxis\": {\"endlinecolor\": \"#2a3f5f\", \"gridcolor\": \"#C8D4E3\", \"linecolor\": \"#C8D4E3\", \"minorgridcolor\": \"#C8D4E3\", \"startlinecolor\": \"#2a3f5f\"}, \"baxis\": {\"endlinecolor\": \"#2a3f5f\", \"gridcolor\": \"#C8D4E3\", \"linecolor\": \"#C8D4E3\", \"minorgridcolor\": \"#C8D4E3\", \"startlinecolor\": \"#2a3f5f\"}, \"type\": \"carpet\"}], \"choropleth\": [{\"colorbar\": {\"outlinewidth\": 0, \"ticks\": \"\"}, \"type\": \"choropleth\"}], \"contour\": [{\"colorbar\": {\"outlinewidth\": 0, \"ticks\": \"\"}, \"colorscale\": [[0.0, \"#0d0887\"], [0.1111111111111111, \"#46039f\"], [0.2222222222222222, \"#7201a8\"], [0.3333333333333333, \"#9c179e\"], [0.4444444444444444, \"#bd3786\"], [0.5555555555555556, \"#d8576b\"], [0.6666666666666666, \"#ed7953\"], [0.7777777777777778, \"#fb9f3a\"], [0.8888888888888888, \"#fdca26\"], [1.0, \"#f0f921\"]], \"type\": \"contour\"}], \"contourcarpet\": [{\"colorbar\": {\"outlinewidth\": 0, \"ticks\": \"\"}, \"type\": \"contourcarpet\"}], \"heatmap\": [{\"colorbar\": {\"outlinewidth\": 0, \"ticks\": \"\"}, \"colorscale\": [[0.0, \"#0d0887\"], [0.1111111111111111, \"#46039f\"], [0.2222222222222222, \"#7201a8\"], [0.3333333333333333, \"#9c179e\"], [0.4444444444444444, \"#bd3786\"], [0.5555555555555556, \"#d8576b\"], [0.6666666666666666, \"#ed7953\"], [0.7777777777777778, \"#fb9f3a\"], [0.8888888888888888, \"#fdca26\"], [1.0, \"#f0f921\"]], \"type\": \"heatmap\"}], \"heatmapgl\": [{\"colorbar\": {\"outlinewidth\": 0, \"ticks\": \"\"}, \"colorscale\": [[0.0, \"#0d0887\"], [0.1111111111111111, \"#46039f\"], [0.2222222222222222, \"#7201a8\"], [0.3333333333333333, \"#9c179e\"], [0.4444444444444444, \"#bd3786\"], [0.5555555555555556, \"#d8576b\"], [0.6666666666666666, \"#ed7953\"], [0.7777777777777778, \"#fb9f3a\"], [0.8888888888888888, \"#fdca26\"], [1.0, \"#f0f921\"]], \"type\": \"heatmapgl\"}], \"histogram\": [{\"marker\": {\"colorbar\": {\"outlinewidth\": 0, \"ticks\": \"\"}}, \"type\": \"histogram\"}], \"histogram2d\": [{\"colorbar\": {\"outlinewidth\": 0, \"ticks\": \"\"}, \"colorscale\": [[0.0, \"#0d0887\"], [0.1111111111111111, \"#46039f\"], [0.2222222222222222, \"#7201a8\"], [0.3333333333333333, \"#9c179e\"], [0.4444444444444444, \"#bd3786\"], [0.5555555555555556, \"#d8576b\"], [0.6666666666666666, \"#ed7953\"], [0.7777777777777778, \"#fb9f3a\"], [0.8888888888888888, \"#fdca26\"], [1.0, \"#f0f921\"]], \"type\": \"histogram2d\"}], \"histogram2dcontour\": [{\"colorbar\": {\"outlinewidth\": 0, \"ticks\": \"\"}, \"colorscale\": [[0.0, \"#0d0887\"], [0.1111111111111111, \"#46039f\"], [0.2222222222222222, \"#7201a8\"], [0.3333333333333333, \"#9c179e\"], [0.4444444444444444, \"#bd3786\"], [0.5555555555555556, \"#d8576b\"], [0.6666666666666666, \"#ed7953\"], [0.7777777777777778, \"#fb9f3a\"], [0.8888888888888888, \"#fdca26\"], [1.0, \"#f0f921\"]], \"type\": \"histogram2dcontour\"}], \"mesh3d\": [{\"colorbar\": {\"outlinewidth\": 0, \"ticks\": \"\"}, \"type\": \"mesh3d\"}], \"parcoords\": [{\"line\": {\"colorbar\": {\"outlinewidth\": 0, \"ticks\": \"\"}}, \"type\": \"parcoords\"}], \"pie\": [{\"automargin\": true, \"type\": \"pie\"}], \"scatter\": [{\"marker\": {\"colorbar\": {\"outlinewidth\": 0, \"ticks\": \"\"}}, \"type\": \"scatter\"}], \"scatter3d\": [{\"line\": {\"colorbar\": {\"outlinewidth\": 0, \"ticks\": \"\"}}, \"marker\": {\"colorbar\": {\"outlinewidth\": 0, \"ticks\": \"\"}}, \"type\": \"scatter3d\"}], \"scattercarpet\": [{\"marker\": {\"colorbar\": {\"outlinewidth\": 0, \"ticks\": \"\"}}, \"type\": \"scattercarpet\"}], \"scattergeo\": [{\"marker\": {\"colorbar\": {\"outlinewidth\": 0, \"ticks\": \"\"}}, \"type\": \"scattergeo\"}], \"scattergl\": [{\"marker\": {\"colorbar\": {\"outlinewidth\": 0, \"ticks\": \"\"}}, \"type\": \"scattergl\"}], \"scattermapbox\": [{\"marker\": {\"colorbar\": {\"outlinewidth\": 0, \"ticks\": \"\"}}, \"type\": \"scattermapbox\"}], \"scatterpolar\": [{\"marker\": {\"colorbar\": {\"outlinewidth\": 0, \"ticks\": \"\"}}, \"type\": \"scatterpolar\"}], \"scatterpolargl\": [{\"marker\": {\"colorbar\": {\"outlinewidth\": 0, \"ticks\": \"\"}}, \"type\": \"scatterpolargl\"}], \"scatterternary\": [{\"marker\": {\"colorbar\": {\"outlinewidth\": 0, \"ticks\": \"\"}}, \"type\": \"scatterternary\"}], \"surface\": [{\"colorbar\": {\"outlinewidth\": 0, \"ticks\": \"\"}, \"colorscale\": [[0.0, \"#0d0887\"], [0.1111111111111111, \"#46039f\"], [0.2222222222222222, \"#7201a8\"], [0.3333333333333333, \"#9c179e\"], [0.4444444444444444, \"#bd3786\"], [0.5555555555555556, \"#d8576b\"], [0.6666666666666666, \"#ed7953\"], [0.7777777777777778, \"#fb9f3a\"], [0.8888888888888888, \"#fdca26\"], [1.0, \"#f0f921\"]], \"type\": \"surface\"}], \"table\": [{\"cells\": {\"fill\": {\"color\": \"#EBF0F8\"}, \"line\": {\"color\": \"white\"}}, \"header\": {\"fill\": {\"color\": \"#C8D4E3\"}, \"line\": {\"color\": \"white\"}}, \"type\": \"table\"}]}, \"layout\": {\"annotationdefaults\": {\"arrowcolor\": \"#2a3f5f\", \"arrowhead\": 0, \"arrowwidth\": 1}, \"coloraxis\": {\"colorbar\": {\"outlinewidth\": 0, \"ticks\": \"\"}}, \"colorscale\": {\"diverging\": [[0, \"#8e0152\"], [0.1, \"#c51b7d\"], [0.2, \"#de77ae\"], [0.3, \"#f1b6da\"], [0.4, \"#fde0ef\"], [0.5, \"#f7f7f7\"], [0.6, \"#e6f5d0\"], [0.7, \"#b8e186\"], [0.8, \"#7fbc41\"], [0.9, \"#4d9221\"], [1, \"#276419\"]], \"sequential\": [[0.0, \"#0d0887\"], [0.1111111111111111, \"#46039f\"], [0.2222222222222222, \"#7201a8\"], [0.3333333333333333, \"#9c179e\"], [0.4444444444444444, \"#bd3786\"], [0.5555555555555556, \"#d8576b\"], [0.6666666666666666, \"#ed7953\"], [0.7777777777777778, \"#fb9f3a\"], [0.8888888888888888, \"#fdca26\"], [1.0, \"#f0f921\"]], \"sequentialminus\": [[0.0, \"#0d0887\"], [0.1111111111111111, \"#46039f\"], [0.2222222222222222, \"#7201a8\"], [0.3333333333333333, \"#9c179e\"], [0.4444444444444444, \"#bd3786\"], [0.5555555555555556, \"#d8576b\"], [0.6666666666666666, \"#ed7953\"], [0.7777777777777778, \"#fb9f3a\"], [0.8888888888888888, \"#fdca26\"], [1.0, \"#f0f921\"]]}, \"colorway\": [\"#636efa\", \"#EF553B\", \"#00cc96\", \"#ab63fa\", \"#FFA15A\", \"#19d3f3\", \"#FF6692\", \"#B6E880\", \"#FF97FF\", \"#FECB52\"], \"font\": {\"color\": \"#2a3f5f\"}, \"geo\": {\"bgcolor\": \"white\", \"lakecolor\": \"white\", \"landcolor\": \"white\", \"showlakes\": true, \"showland\": true, \"subunitcolor\": \"#C8D4E3\"}, \"hoverlabel\": {\"align\": \"left\"}, \"hovermode\": \"closest\", \"mapbox\": {\"style\": \"light\"}, \"paper_bgcolor\": \"white\", \"plot_bgcolor\": \"white\", \"polar\": {\"angularaxis\": {\"gridcolor\": \"#EBF0F8\", \"linecolor\": \"#EBF0F8\", \"ticks\": \"\"}, \"bgcolor\": \"white\", \"radialaxis\": {\"gridcolor\": \"#EBF0F8\", \"linecolor\": \"#EBF0F8\", \"ticks\": \"\"}}, \"scene\": {\"xaxis\": {\"backgroundcolor\": \"white\", \"gridcolor\": \"#DFE8F3\", \"gridwidth\": 2, \"linecolor\": \"#EBF0F8\", \"showbackground\": true, \"ticks\": \"\", \"zerolinecolor\": \"#EBF0F8\"}, \"yaxis\": {\"backgroundcolor\": \"white\", \"gridcolor\": \"#DFE8F3\", \"gridwidth\": 2, \"linecolor\": \"#EBF0F8\", \"showbackground\": true, \"ticks\": \"\", \"zerolinecolor\": \"#EBF0F8\"}, \"zaxis\": {\"backgroundcolor\": \"white\", \"gridcolor\": \"#DFE8F3\", \"gridwidth\": 2, \"linecolor\": \"#EBF0F8\", \"showbackground\": true, \"ticks\": \"\", \"zerolinecolor\": \"#EBF0F8\"}}, \"shapedefaults\": {\"line\": {\"color\": \"#2a3f5f\"}}, \"ternary\": {\"aaxis\": {\"gridcolor\": \"#DFE8F3\", \"linecolor\": \"#A2B1C6\", \"ticks\": \"\"}, \"baxis\": {\"gridcolor\": \"#DFE8F3\", \"linecolor\": \"#A2B1C6\", \"ticks\": \"\"}, \"bgcolor\": \"white\", \"caxis\": {\"gridcolor\": \"#DFE8F3\", \"linecolor\": \"#A2B1C6\", \"ticks\": \"\"}}, \"title\": {\"x\": 0.05}, \"xaxis\": {\"automargin\": true, \"gridcolor\": \"#EBF0F8\", \"linecolor\": \"#EBF0F8\", \"ticks\": \"\", \"title\": {\"standoff\": 15}, \"zerolinecolor\": \"#EBF0F8\", \"zerolinewidth\": 2}, \"yaxis\": {\"automargin\": true, \"gridcolor\": \"#EBF0F8\", \"linecolor\": \"#EBF0F8\", \"ticks\": \"\", \"title\": {\"standoff\": 15}, \"zerolinecolor\": \"#EBF0F8\", \"zerolinewidth\": 2}}}, \"title\": {\"text\": \"Predicted sentiments\"}, \"xaxis\": {\"showgrid\": false, \"title\": {\"text\": \"Year\"}}, \"yaxis\": {\"showgrid\": false, \"title\": {\"text\": \"Percentage of words\"}}},\n",
       "                        {\"responsive\": true}\n",
       "                    ).then(function(){\n",
       "                            \n",
       "var gd = document.getElementById('1a073b2c-055d-4257-9532-4dc2e3c32d41');\n",
       "var x = new MutationObserver(function (mutations, observer) {{\n",
       "        var display = window.getComputedStyle(gd).display;\n",
       "        if (!display || display === 'none') {{\n",
       "            console.log([gd, 'removed!']);\n",
       "            Plotly.purge(gd);\n",
       "            observer.disconnect();\n",
       "        }}\n",
       "}});\n",
       "\n",
       "// Listen for the removal of the full notebook cells\n",
       "var notebookContainer = gd.closest('#notebook-container');\n",
       "if (notebookContainer) {{\n",
       "    x.observe(notebookContainer, {childList: true});\n",
       "}}\n",
       "\n",
       "// Listen for the clearing of the current output cell\n",
       "var outputEl = gd.closest('.output');\n",
       "if (outputEl) {{\n",
       "    x.observe(outputEl, {childList: true});\n",
       "}}\n",
       "\n",
       "                        })\n",
       "                };\n",
       "                });\n",
       "            </script>\n",
       "        </div>"
      ]
     },
     "metadata": {},
     "output_type": "display_data"
    }
   ],
   "source": [
    "# Get the predicted values of sentiments from years 2020 to 2029\n",
    "negative_pred = get_predicted_values(sentiment_df[\"negative\"], \"negative\")\n",
    "positive_pred = get_predicted_values(sentiment_df[\"positive\"], \"positive\")\n",
    "\n",
    "# Merge the predicted and actual values in one list for each type of sentiment\n",
    "sentiment_year = list(sentiment_df.index)\n",
    "sentiment_year.extend([\"2020\", \"2021\", \"2022\", \"2023\", \"2024\", \"2025\", \"2026\", \"2027\", \"2028\", \"2029\"])\n",
    "negative_values = list(sentiment_df['negative'].values)\n",
    "negative_values.extend(negative_pred.values)\n",
    "positive_values = list(sentiment_df['positive'].values)\n",
    "positive_values.extend(positive_pred.values)\n",
    "\n",
    "# Apply the savgol filter for smoother lines\n",
    "savgol_positive = signal.savgol_filter(positive_values,5,1)\n",
    "savgol_negative = signal.savgol_filter(negative_values,5,1)\n",
    "\n",
    "# Plot a line graph to show the actual and predicted values for each type of sentiment\n",
    "fig = go.Figure()\n",
    "fig.add_trace(go.Scatter(\n",
    "    x=sentiment_year,\n",
    "    y=savgol_negative,\n",
    "    name='Negative sentiments',\n",
    "    line=dict(color='rgb(252, 65, 58)')\n",
    "))\n",
    "fig.add_trace(go.Scatter(\n",
    "    x=sentiment_year,\n",
    "    y=savgol_positive,\n",
    "    name='Positive sentiments',\n",
    "    line=dict(color='rgb(86, 80, 250)')\n",
    "))\n",
    "# Add a dashed line to show the segregation between actual and predicted values\n",
    "fig.add_shape(\n",
    "    go.layout.Shape(\n",
    "            type=\"line\",\n",
    "            x0=2020,\n",
    "            y0=16,\n",
    "            x1=2020,\n",
    "            y1=22,\n",
    "            line=dict(\n",
    "                color=\"Black\",\n",
    "                width=4,\n",
    "                dash=\"dashdot\",\n",
    "            )\n",
    "))\n",
    "\n",
    "# Add labels to the lines on the graph\n",
    "annotations = []\n",
    "annotations.append(dict(x=2029, y=savgol_positive[29],\n",
    "                                  xanchor='left', yanchor='middle',\n",
    "                                  text='Positive Sentiments',\n",
    "                                  font=dict(family='Arial',\n",
    "                                            size=16,\n",
    "                                           color='rgb(86, 80, 250)'),\n",
    "                                  showarrow=False))\n",
    "annotations.append(dict(x=2029, y=savgol_negative[29],\n",
    "                                  xanchor='left', yanchor='middle',\n",
    "                                  text='Negative Sentiments',\n",
    "                                  font=dict(family='Arial',\n",
    "                                            size=16,\n",
    "                                           color='rgb(252, 65, 58)'),\n",
    "                                  showarrow=False))\n",
    "\n",
    "# Change the graph layout\n",
    "fig.update_layout(\n",
    "    title=\"Predicted sentiments\",\n",
    "    xaxis_title=\"Year\",\n",
    "    yaxis_title=\"Percentage of words\",\n",
    "    xaxis=dict(showgrid=False),\n",
    "    yaxis=dict(showgrid=False),\n",
    "    template=\"plotly_white\",\n",
    "    annotations=annotations,\n",
    "    showlegend=False\n",
    ")\n",
    "fig.show()"
   ]
  },
  {
   "cell_type": "markdown",
   "metadata": {},
   "source": [
    "#### Contrary to our belief, we can observe from the above graph that the positive sentiment in the songs is predicted to increase in the songs and the negative sentiment will either remain similar to what it is right now or decrease in the future."
   ]
  },
  {
   "cell_type": "code",
   "execution_count": null,
   "metadata": {},
   "outputs": [],
   "source": []
  }
 ],
 "metadata": {
  "kernelspec": {
   "display_name": "Python 3",
   "language": "python",
   "name": "python3"
  },
  "language_info": {
   "codemirror_mode": {
    "name": "ipython",
    "version": 3
   },
   "file_extension": ".py",
   "mimetype": "text/x-python",
   "name": "python",
   "nbconvert_exporter": "python",
   "pygments_lexer": "ipython3",
   "version": "3.7.3"
  }
 },
 "nbformat": 4,
 "nbformat_minor": 2
}
